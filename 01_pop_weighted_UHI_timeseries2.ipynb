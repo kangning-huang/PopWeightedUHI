{
  "cells": [
    {
      "cell_type": "markdown",
      "metadata": {
        "id": "view-in-github",
        "colab_type": "text"
      },
      "source": [
        "<a href=\"https://colab.research.google.com/github/kangning-huang/PopWeightedUHI/blob/main/01_pop_weighted_UHI_timeseries2.ipynb\" target=\"_parent\"><img src=\"https://colab.research.google.com/assets/colab-badge.svg\" alt=\"Open In Colab\"/></a>"
      ]
    },
    {
      "cell_type": "markdown",
      "metadata": {
        "id": "zBHPx0xWQJ5A"
      },
      "source": [
        "# Install and import"
      ]
    },
    {
      "cell_type": "code",
      "execution_count": 1,
      "metadata": {
        "id": "IEVjVJOmYVfH"
      },
      "outputs": [],
      "source": [
        "!pip install geemap &> /dev/null"
      ]
    },
    {
      "cell_type": "code",
      "execution_count": 2,
      "metadata": {
        "colab": {
          "base_uri": "https://localhost:8080/",
          "height": 173
        },
        "id": "S9-6uAS6QGC1",
        "outputId": "4238f44f-4137-4155-cda4-8a27aefce9bc"
      },
      "outputs": [
        {
          "output_type": "stream",
          "name": "stdout",
          "text": [
            "To authorize access needed by Earth Engine, open the following URL in a web browser and follow the instructions. If the web browser does not start automatically, please manually browse the URL below.\n",
            "\n",
            "    https://code.earthengine.google.com/client-auth?scopes=https%3A//www.googleapis.com/auth/earthengine%20https%3A//www.googleapis.com/auth/devstorage.full_control&request_id=av37HhK-mukJpHPD6tdbJMkgd3lIsFBwLRCRZ0h2ZT4&tc=-7hXhkI-O8yQkG81Bu3FkGIZUd45T2QqYjE_Blmuo8M&cc=iZaprIHDzH3LZxAQuvJYIvbiFzRoVQfrMzwHvoybraI\n",
            "\n",
            "The authorization workflow will generate a code, which you should paste in the box below.\n",
            "Enter verification code: 4/1AdQt8qh1efleBeijE_nuTm56rqOUgyDkWZJLO7Pch582y42PZe-zo8ErCM8\n",
            "\n",
            "Successfully saved authorization token.\n"
          ]
        }
      ],
      "source": [
        "import pandas as pd\n",
        "import matplotlib.pyplot as plt\n",
        "import seaborn as sns\n",
        "import numpy as np\n",
        "\n",
        "from scipy import stats\n",
        "\n",
        "from tqdm import tqdm\n",
        "\n",
        "import geemap\n",
        "import json\n",
        "import os\n",
        "import requests\n",
        "from geemap import geojson_to_ee, ee_to_geojson\n",
        "# from ipyleaflet import GeoJSON\n",
        "\n",
        "import altair as alt\n",
        "import folium\n",
        "\n",
        "import ee\n",
        "ee.Authenticate()\n",
        "ee.Initialize()"
      ]
    },
    {
      "cell_type": "code",
      "execution_count": 3,
      "metadata": {
        "id": "tbO5LLSJUVCU"
      },
      "outputs": [],
      "source": [
        "!pip install geopandas &> /dev/null"
      ]
    },
    {
      "cell_type": "code",
      "execution_count": 4,
      "metadata": {
        "id": "U2wtq535Uesz"
      },
      "outputs": [],
      "source": [
        "import geopandas as gdp\n",
        "import pandas as pd"
      ]
    },
    {
      "cell_type": "code",
      "execution_count": 5,
      "metadata": {
        "id": "6V5f-G_oQXDf",
        "colab": {
          "base_uri": "https://localhost:8080/"
        },
        "outputId": "591743b5-57c2-424a-9e40-03cb7a8c3a6f"
      },
      "outputs": [
        {
          "output_type": "stream",
          "name": "stdout",
          "text": [
            "Mounted at /content/drive\n"
          ]
        }
      ],
      "source": [
        "from google.colab import drive\n",
        "drive.mount('/content/drive')"
      ]
    },
    {
      "cell_type": "markdown",
      "metadata": {
        "id": "nEor5YM_lHd5"
      },
      "source": [
        "# Load Data"
      ]
    },
    {
      "cell_type": "markdown",
      "metadata": {
        "id": "8LVFHiCEUDH9"
      },
      "source": [
        "## Load FUAs"
      ]
    },
    {
      "cell_type": "code",
      "execution_count": 7,
      "metadata": {
        "id": "fxW8OPsKUFc8",
        "colab": {
          "base_uri": "https://localhost:8080/",
          "height": 621,
          "referenced_widgets": [
            "810e371416924f8b87dfeffeb0b39a3e",
            "8e4aac3ee460470fa81783f5bb506f73",
            "8e9c9f11a9a549fb9f94b81d731e4bfa",
            "733895635cd34babb18f089e943f0e7b",
            "d863116e704a47c0a8a54356c3151d9c",
            "88dcd485ede040c0913016e86fa18f2e",
            "37bdcaf5b77c4240872c232456b28122",
            "9c2e639dff434962b41098728d4cd610",
            "1650d2d1055b44d2a603577c867a1844",
            "a6b96a28d9964f0293fd4d3eadc513b2",
            "92c3ac4252ec46169ae26d8165076fe6",
            "e86687df8cb94f9782479489d2b3c5ca",
            "94dc62c8d83247bdb4aaf793a71aefbf",
            "8bfcd0a863964275bb50a422578af903",
            "d3082c2fcba54c18a202b9ad1e684f9f",
            "6c348b8bc6bd43bbb826d6d0eaa7d277",
            "7ad42a5625814554b5c0d34d23630ae4",
            "d88e1ad2a63947738b0fa3c812e0c683",
            "243dd63da31043409efe17e981ef6e92",
            "3db8ac78d8514a0b9de089343bef278e",
            "39f29f3a47a24a94a86cf1074d3199f1",
            "d0c222f9e6e0454384e73b32199ef3a5",
            "970a20b40a63422c944bb57ac7950dbf",
            "2b2e9ee550654e228cd52c23ac489a7d",
            "6242961d474046f7aca63a0e5a3500de",
            "7498c11ca3a04119bfb50260498500b9"
          ]
        },
        "outputId": "e42f31d8-0787-466d-e24d-49c032b79811"
      },
      "outputs": [
        {
          "output_type": "display_data",
          "data": {
            "text/plain": [
              "Map(center=[20, 0], controls=(WidgetControl(options=['position', 'transparent_bg'], widget=HBox(children=(Togg…"
            ],
            "application/vnd.jupyter.widget-view+json": {
              "version_major": 2,
              "version_minor": 0,
              "model_id": "810e371416924f8b87dfeffeb0b39a3e"
            }
          },
          "metadata": {
            "application/vnd.jupyter.widget-view+json": {
              "colab": {
                "custom_widget_manager": {
                  "url": "https://ssl.gstatic.com/colaboratory-static/widgets/colab-cdn-widget-manager/d2e234f7cc04bf79/manager.min.js"
                }
              }
            }
          }
        }
      ],
      "source": [
        "gdf_FUAs = gdp.read_file('/content/drive/MyDrive/Research_Projects/2022_UHI_vs_GHG/data/GHS_FUA_UCDB2015_GLOBE_R2019A_54009_1K_V1_0/GHS_FUA_UCDB2015_GLOBE_R2019A_54009_1K_V1_0.gpkg')\n",
        "gdf_FUAs = gdf_FUAs.sort_values('FUA_p_2015', ascending=False)\n",
        "# print(gdf_FUAs.head(5))\n",
        "\n",
        "gdf_Shanghai = gdf_FUAs.loc[gdf_FUAs['eFUA_name']=='Shanghai']\n",
        "gdf_Hefei    = gdf_FUAs.loc[gdf_FUAs['eFUA_name']=='Hefei']\n",
        "gdf_Helsinki = gdf_FUAs.loc[gdf_FUAs['eFUA_name']=='Helsinki']\n",
        "gdf_Hangzhou = gdf_FUAs.loc[gdf_FUAs['eFUA_name']=='Hangzhou']\n",
        "fc_Shanghai = geemap.geopandas_to_ee(gdf_Shanghai)\n",
        "fc_Hefei    = geemap.geopandas_to_ee(gdf_Hefei)\n",
        "fc_Helsinki = geemap.geopandas_to_ee(gdf_Helsinki)\n",
        "fc_Hangzhou = geemap.geopandas_to_ee(gdf_Hangzhou)\n",
        "Map = geemap.Map()\n",
        "Map.addLayer(fc_Hangzhou,{},'')\n",
        "Map.center_object(fc_Hangzhou.geometry())\n",
        "Map"
      ]
    },
    {
      "cell_type": "markdown",
      "metadata": {
        "id": "0BUkJ_mzuh58"
      },
      "source": [
        "## Load Urban Land"
      ]
    },
    {
      "cell_type": "code",
      "execution_count": 8,
      "metadata": {
        "id": "M-vnKlZQujQn",
        "colab": {
          "base_uri": "https://localhost:8080/",
          "height": 621,
          "referenced_widgets": [
            "299d1d60e52943bebce116b16e45904f",
            "cdc22571ba824959ba2080d2e1dd27b7",
            "0fde5bdddcad409d929d0eb9bc321c32",
            "aec9073770fe46b3906048f4f391eefb",
            "13479dcd21bc4684b70ddfc9d9113818",
            "8e309fe0ac1d4d8c8c106c7430f0047c",
            "89abc078efd04b9fad9f9abf457d7b61",
            "d6f0dbbfca054ca592f33a9b2ff47253",
            "c369c4dbf4444e56b684ecc9fa398e25",
            "9d7ebc9ffaff4c5c8c9a9e1d00b21369",
            "460df307280f4c18b08c9f79a62a6cee",
            "2b3561bd7748418097042dbc952bd9a1",
            "94dc62c8d83247bdb4aaf793a71aefbf",
            "64b669956d65406c9fdfafaadc4b9530",
            "1b6a8589417c4f46bbed1fe96bb2fa6f",
            "7a859632beed4c27931d8c895b59cbdf",
            "3d27277844b14c0ba1dc3638fcfd150a",
            "45d4e7a73f044952a4875b172648bf0c",
            "4284202671de47d382852ab93e2273d5",
            "185aec1c5c3c427e8ef0df9d0cf68647",
            "a80f80e359e84cb1b853b4b7e1d37f32",
            "6c443d35e9344b348ceb22969597f19e",
            "9ff6e9d8092e4324ab753481a4d1f5f8",
            "c3a41fc885bd47db86fd9a563dc5d8e1",
            "45d19270b94b477db5b6a6b914d59686",
            "7bfaeae3807f432aa3f7309d4bd10df9",
            "58ee18ed000644e38007e649a425734f",
            "9d717b7fbe2143058bc3ce8f77c24bdf"
          ]
        },
        "outputId": "3df71be1-588a-4222-bc50-e40c77f8b239"
      },
      "outputs": [
        {
          "output_type": "display_data",
          "data": {
            "text/plain": [
              "Map(center=[20, 0], controls=(WidgetControl(options=['position', 'transparent_bg'], widget=HBox(children=(Togg…"
            ],
            "application/vnd.jupyter.widget-view+json": {
              "version_major": 2,
              "version_minor": 0,
              "model_id": "299d1d60e52943bebce116b16e45904f"
            }
          },
          "metadata": {
            "application/vnd.jupyter.widget-view+json": {
              "colab": {
                "custom_widget_manager": {
                  "url": "https://ssl.gstatic.com/colaboratory-static/widgets/colab-cdn-widget-manager/d2e234f7cc04bf79/manager.min.js"
                }
              }
            }
          }
        }
      ],
      "source": [
        "def GetUrbanLandByYear(year):\n",
        "  urbanYearCode = ee.Image(\"Tsinghua/FROM-GLC/GAIA/v10\")\n",
        "  urban = urbanYearCode.gt(2019-year)\n",
        "  return urban.updateMask(urban)\n",
        "\n",
        "visParms_urb = {\n",
        "  'bands': ['change_year_index'],\n",
        "  'min': 1,\n",
        "  'max': 34,\n",
        "  'palette': ['blue', 'yellow', 'red']\n",
        "}\n",
        "\n",
        "Map = geemap.Map()\n",
        "# Map.addLayer(urban, visParms_urb, 'Urban change year')\n",
        "Map.addLayer(GetUrbanLandByYear(2004), {'palette':['red']}, 'Urban 2004')\n",
        "Map.addLayer(GetUrbanLandByYear(2010), {'palette':['red']}, 'Urban 2010')\n",
        "Map.addLayer(GetUrbanLandByYear(2018), {'palette':['red']}, 'Urban 2018')\n",
        "Map.center_object(fc_Shanghai)\n",
        "Map"
      ]
    },
    {
      "cell_type": "markdown",
      "metadata": {
        "id": "AfVCT0wHlNcm"
      },
      "source": [
        "## Load UHIs"
      ]
    },
    {
      "cell_type": "code",
      "execution_count": 9,
      "metadata": {
        "id": "pYI1gXqkAioh",
        "colab": {
          "base_uri": "https://localhost:8080/",
          "height": 621,
          "referenced_widgets": [
            "5105b62f67154997ac4de879136893de",
            "da69e37ebfe748d18d1c128b2125e18b",
            "8fadd28652dd4954b8c313ffc6de8164",
            "c1fe7367bb3e40b8bd8f41d82ad6f13d",
            "592f1e0183d84627be9b0bf97e923a30",
            "b654187afbbb4eac91abda87c2217402",
            "04b0f55ad9e04e439e142a9860d98020",
            "7d5c457ed8c1478baaf9d1c9c2f91bad",
            "c2450e5ffae94d1a9d39b12b28d14345",
            "436b80faa0af45b5b72c93c501963997",
            "422f1d0c01754807a452578d88df4806",
            "6a507113fe494b9b8056531579fc3feb",
            "94dc62c8d83247bdb4aaf793a71aefbf",
            "705ba48c070a4750b1f9e0984e122e0b",
            "c1db3e21f7904e93ac825de7cb3d6fb4",
            "0c3ff7d40cd04929b71f759b36a68683",
            "fb9f4992cce74008b1f0bc3662580d43",
            "34fac363478b4fca8e553b5246875326",
            "db51c20276ea4fc0b170266e781a3b1a",
            "77480bdcc0c6455391b63822b45d3a85",
            "b90532e1bdfe4921b7b46de0b7837738",
            "86bd56f2f6f94ac39dc036d02c506ca9",
            "3325236410ad42e5aed54093201ad780",
            "e764bc68312845b9bd0206d253923326",
            "2c80d49fef484226b8f2c612a3971fa6",
            "dc01761cc313470881bceeeb24d070c9"
          ]
        },
        "outputId": "04e9448b-ebba-466f-e4a2-76b61aba0e36"
      },
      "outputs": [
        {
          "output_type": "display_data",
          "data": {
            "text/plain": [
              "Map(center=[20, 0], controls=(WidgetControl(options=['position', 'transparent_bg'], widget=HBox(children=(Togg…"
            ],
            "application/vnd.jupyter.widget-view+json": {
              "version_major": 2,
              "version_minor": 0,
              "model_id": "5105b62f67154997ac4de879136893de"
            }
          },
          "metadata": {
            "application/vnd.jupyter.widget-view+json": {
              "colab": {
                "custom_widget_manager": {
                  "url": "https://ssl.gstatic.com/colaboratory-static/widgets/colab-cdn-widget-manager/d2e234f7cc04bf79/manager.min.js"
                }
              }
            }
          }
        }
      ],
      "source": [
        "# Function to get UHI stats by year\n",
        "def GetUhiStatsByYear(year):\n",
        "  # getting the image collection\n",
        "  uhiModis1 = ee.ImageCollection('users/lorenzomentaschi/uhiModis');\n",
        "  uhiModis2 = ee.ImageCollection('users/lucfeyen3/uhiModis');\n",
        "  uhiModis = uhiModis1.merge(uhiModis2);\n",
        "  # Filter images in the year\n",
        "  filterYear = ee.Filter.calendarRange(year, year, 'year')\n",
        "  # Filter pixles with more than 50 rual pixels\n",
        "  def FilterByMinNRuralPixel(img):\n",
        "    minNRuralPixel = 50\n",
        "    ruralPxlCnt = img.select('N_NOTURB_PIX_Day')\n",
        "    msk = ruralPxlCnt.gte(minNRuralPixel)\n",
        "    return img.select(['UHI_Day_1km', 'UHI_Night_1km']).updateMask(msk)\n",
        "  # Apply both filters\n",
        "  ImColYear = ee.ImageCollection(uhiModis.filter(filterYear).map(FilterByMinNRuralPixel))\n",
        "  ImStatsYear = ImColYear.reduce(ee.Reducer.percentile([95, 99]))\n",
        "  return ImStatsYear\n",
        "\n",
        "# Add test layer to map\n",
        "visParms_uhi = {\n",
        "    'min': -18, 'max': 18,\n",
        "    'palette': ['00008F', '0010FF', '0060FF', '00FFFF', 'CCFFCC', 'FFFF00', 'FF8000', 'FF2000', '800000']\n",
        "}\n",
        "\n",
        "Map = geemap.Map()\n",
        "Map.addLayer(GetUhiStatsByYear(2020).select('UHI_Day_1km_p99'), visParms_uhi, 'UHI 2020')\n",
        "Map.center_object(fc_Shanghai.geometry())\n",
        "Map"
      ]
    },
    {
      "cell_type": "markdown",
      "metadata": {
        "id": "JcS-6kqplPKv"
      },
      "source": [
        "## Load WorldPop"
      ]
    },
    {
      "cell_type": "code",
      "execution_count": 10,
      "metadata": {
        "id": "eE0S7LOCV5v6",
        "colab": {
          "base_uri": "https://localhost:8080/",
          "height": 621,
          "referenced_widgets": [
            "e4483a28cb624136849712f08b54c0c4",
            "3468c30551ab405a840bc8eb12e691bc",
            "c6ce3f4725ae421d9eac45dbddbe9eb6",
            "d7057d1200d74a569fe701b891515787",
            "1b59d3df174340b4bd767ec57259dc44",
            "2f9eedd1a33c47928c7ef777182a7e27",
            "bc8b342c30d34ecf9a4a173e5892b96f",
            "617e36463ff84232ad922cb9a8e9f9c9",
            "f590ab9ea44a4ad187126db05387e1a1",
            "edc43a5c47fc415e98c6e5fa92d62d0c",
            "9e10e4eb424c45bcb6ae9a449a0cc0ff",
            "046d7c34c19c441eb5d23be1a3331d96",
            "94dc62c8d83247bdb4aaf793a71aefbf",
            "7633b0de639c45e1abc00d049afef994",
            "75e4ecde5ec946f88ca875d2ec08845a",
            "7da10b27e8234d0198b61ee09b7849ce",
            "fdffcaac8b27473e947e1c07ffa69f2e",
            "bf664a88544148b9aa6586a7c506f6ad",
            "e58928e8e7ca4b1cb975822cbee89e65",
            "4647e7e2605449a9801db2d41f2f9072",
            "c830da4ce45f4bc19e8307f5775fa750",
            "94335c8e95c74bcda853b78efa21f65f",
            "a94efa6b3cbf4aa2abb8ca11e88b52b8",
            "424dd5421c0343a7909ba234e0f4026f",
            "8503a1132c4a4efc9d8065f50178bb13",
            "3ecd3adc6bf044e1a8933601a022d76c"
          ]
        },
        "outputId": "eefd366c-0bb2-4b4d-bae6-367a225c299d"
      },
      "outputs": [
        {
          "output_type": "display_data",
          "data": {
            "text/plain": [
              "Map(center=[20, 0], controls=(WidgetControl(options=['position', 'transparent_bg'], widget=HBox(children=(Togg…"
            ],
            "application/vnd.jupyter.widget-view+json": {
              "version_major": 2,
              "version_minor": 0,
              "model_id": "e4483a28cb624136849712f08b54c0c4"
            }
          },
          "metadata": {
            "application/vnd.jupyter.widget-view+json": {
              "colab": {
                "custom_widget_manager": {
                  "url": "https://ssl.gstatic.com/colaboratory-static/widgets/colab-cdn-widget-manager/d2e234f7cc04bf79/manager.min.js"
                }
              }
            }
          }
        }
      ],
      "source": [
        "# Function to get WorldPop by year\n",
        "def GetWorldPopByYear(year):\n",
        "  ImColPop = ee.ImageCollection(\"WorldPop/GP/100m/pop\")\n",
        "  ImColPopYear = ImColPop.filter(ee.Filter.calendarRange(year,year,'year'))\n",
        "  return ImColPopYear.mosaic()\n",
        "\n",
        "# Function to get WorldPop (1km) by year\n",
        "def GetWorldPop1kmByYear(year):\n",
        "  ImColPop = ee.ImageCollection(\"WorldPop/GP/100m/pop\")\n",
        "  uhiModis1 = ee.ImageCollection('users/lorenzomentaschi/uhiModis');\n",
        "  uhiProjection = uhiModis1.first().projection().getInfo()['crs']\n",
        "  ImColPopYear = ImColPop.filter(ee.Filter.calendarRange(year,year,'year'))\n",
        "  return ImColPopYear.mosaic().reduceResolution(ee.Reducer.sum()).reproject({'crs': uhiProjection, 'scale': 1000})\n",
        "\n",
        "# Add test layer to map\n",
        "visParms_pop = {\n",
        "  'bands': ['population'],\n",
        "  'min': 0.0,\n",
        "  'max': 50.0,\n",
        "  'palette': ['24126c', '1fff4f', 'd4ff50']\n",
        "}\n",
        "\n",
        "Map = geemap.Map()\n",
        "Map.addLayer(GetWorldPopByYear(2020), visParms_pop, 'Population 2020')\n",
        "# Map.addLayer(GetWorldPop1kmByYear(2020), visParms_pop, 'Population 2020 (1km)')\n",
        "Map.center_object(fc_Shanghai.geometry())\n",
        "Map\n",
        "# ee.ImageCollection(\"WorldPop/GP/100m/pop\").first().projection().getInfo()\n",
        "# ee.ImageCollection('users/lorenzomentaschi/uhiModis').first().projection().getInfo()"
      ]
    },
    {
      "cell_type": "markdown",
      "source": [
        "# Export time series WorldPop & UHIs of FUAs"
      ],
      "metadata": {
        "id": "w2jTlIH4X2Xd"
      }
    },
    {
      "cell_type": "code",
      "source": [
        "# Function to get UHIs of one FUA in one year\n",
        "def GetUHIstatsByFUAyear(gdf_fua, year):\n",
        "  fc_fua = geemap.geopandas_to_ee(gdf_fua).first()\n",
        "  geo_fua = fc_fua.geometry()\n",
        "  imUHIyear = GetUhiStatsByYear(year).clip(geo_fua)\n",
        "  return imUHIyear\n",
        "\n",
        "# Function to get WorldPop of one FUA in one year\n",
        "def GetWorldPopByFUAyear(gdf_fua, year):\n",
        "  fc_fua = geemap.geopandas_to_ee(gdf_fua).first()\n",
        "  geo_fua = fc_fua.geometry()\n",
        "  imWorldPopYear = GetWorldPopByYear(year).clip(geo_fua)\n",
        "  return imWorldPopYear\n",
        "\n",
        "def ExportUHIandPOPbyFUA(gdf_fua):\n",
        "  for year in range(2003, 2021):\n",
        "    fc_fua = geemap.geopandas_to_ee(gdf_fua).first()\n",
        "    geo_fua = fc_fua.geometry()\n",
        "    fua_name = gdf_fua[['eFUA_name']].iloc[0].iloc[0]\n",
        "    fua_name = fua_name.replace(' ', '_').replace('[','_').replace(']','_')\n",
        "    imUHI = GetUHIstatsByFUAyear(gdf_fua, year)\n",
        "    imPOP = GetWorldPopByFUAyear(gdf_fua, year)\n",
        "    filename_uhi = 'uhi_' + fua_name + '_' + str(year)\n",
        "    filename_pop = 'pop_' + fua_name + '_' + str(year)\n",
        "    geemap.ee_export_image_to_drive(\n",
        "     imUHI, description=filename_uhi, folder='ee_image_FUAs', region=geo_fua, scale=1000)\n",
        "    geemap.ee_export_image_to_drive(\n",
        "     imPOP, description=filename_pop, folder='ee_image_FUAs', region=geo_fua, scale=100)\n",
        "\n",
        "ExportUHIandPOPbyFUA(gdf_Hangzhou)\n",
        "\n",
        "# Loop through FUAs and years\n",
        "# for index, row in tqdm(gdf_FUAs.head(3).iterrows()):\n",
        "  \n",
        "    \n",
        "# Add test UHI layer to map\n",
        "Map = geemap.Map()\n",
        "Map.addLayer(GetUHIstatsByFUAyear(gdf_Hangzhou, 2020).select('UHI_Day_1km_p99'), visParms_uhi, 'UHI 2020')\n",
        "Map.addLayer(GetWorldPopByFUAyear(gdf_Hangzhou, 2020), visParms_pop, 'Population 2020')\n",
        "Map.center_object(fc_Hangzhou.geometry())\n",
        "# Map"
      ],
      "metadata": {
        "id": "i5KHduRQX7qg"
      },
      "execution_count": 28,
      "outputs": []
    },
    {
      "cell_type": "markdown",
      "metadata": {
        "id": "CvGG4c8klRGt"
      },
      "source": [
        "# UHI times POP & Urban"
      ]
    },
    {
      "cell_type": "code",
      "execution_count": null,
      "metadata": {
        "id": "OacUW7L9Wv0W",
        "colab": {
          "base_uri": "https://localhost:8080/",
          "height": 621,
          "referenced_widgets": [
            "affd419ea0e947e48d3ab43be7096aa4",
            "e6ac4db759b14a1e8b68e5c15f7ea5a6",
            "5418801450064c0ba747d828455bd4b6",
            "4be787d03cdc4970a9615d7d50a482d1",
            "a6f467128a6c417ca4013f8c541e2f65",
            "3b3e83f251c54d36a9228dd173d2b935",
            "beeffa37e665452e98804cec11a52b54",
            "312d27dc961246de960acbb98c537015",
            "1113f4e8624348e4a3a59cabfd660909",
            "3671a1604d7f4662ab0eb85fabe87f3d",
            "ff5cea0cecc64c4ba618485e952e8136",
            "367ffa3154444d44a6723242bb1c45a6",
            "7e0f42b475df4f77890195ebb16e4fe9",
            "e65f3ca41f8c49eaacbe83f6c640c4ba",
            "5a72bee91b954fb6820831c6345611c4",
            "246b7075d2804c1091b1d99ede684d67",
            "490bf5ccf71148e89d116351eb1e8802",
            "602fc13e8fcd449faa53e34b91b4cf25",
            "803c2fdaa914465b908a35d37d0af4cd",
            "f830a888d9844197acab38d38d4fffd5",
            "3f4cb2885eeb400287f3be6af1549363",
            "39634deae9a24620b7aebde409a4051d",
            "1de77e7bc60448bf9879512995eddb3b",
            "9e5dbf17bf9440d8bb2c2fd0e02c259d",
            "0c9ac5b805d64c1abd3fed0cc29a586c",
            "4a7e1c68ed664472b2ea1af268de6107",
            "d0ef40bb7a3b43d88fd37ce55c81c87f",
            "4be3c47524ce4bffb99a34e112a24303"
          ]
        },
        "outputId": "591c1d57-e358-4ffd-c05e-8282467b594f"
      },
      "outputs": [
        {
          "output_type": "display_data",
          "data": {
            "text/plain": [
              "Map(center=[20, 0], controls=(WidgetControl(options=['position', 'transparent_bg'], widget=HBox(children=(Togg…"
            ],
            "application/vnd.jupyter.widget-view+json": {
              "version_major": 2,
              "version_minor": 0,
              "model_id": "affd419ea0e947e48d3ab43be7096aa4"
            }
          },
          "metadata": {
            "application/vnd.jupyter.widget-view+json": {
              "colab": {
                "custom_widget_manager": {
                  "url": "https://ssl.gstatic.com/colaboratory-static/widgets/colab-cdn-widget-manager/d2e234f7cc04bf79/manager.min.js"
                }
              }
            }
          }
        }
      ],
      "source": [
        "# Function to get UHI masked by urban land\n",
        "def GetUhiStatsUrbanByYear(year):\n",
        "  ImUhiStat = GetUhiStatsByYear(year)\n",
        "  ImUrban = GetUrbanLandByYear(year)\n",
        "  return ImUhiStat.updateMask(ImUrban)\n",
        "\n",
        "# Function to get UHI times POP\n",
        "def GetUhiStatsTimesPopByYear(year):\n",
        "  # ImUhiStat = GetUhiStatsByYear(year)\n",
        "  ImUhiStat = GetUhiStatsUrbanByYear(year)\n",
        "  ImPop = GetWorldPopByYear(year).updateMask(ImUhiStat.select(1))\n",
        "  return ImUhiStat.multiply(ImPop)\n",
        "\n",
        "# Add test layer to map\n",
        "visParms_uhipop = {\n",
        "    'max': 5000,\n",
        "    'palette': ['green', 'yellow', 'orange', 'red', 'purple']\n",
        "}\n",
        "\n",
        "Map = geemap.Map()\n",
        "# Map.addLayer(GetUhiStatsTimesPopByYear(2020).select('UHI_Day_1km_p99'), visParms_uhipop, 'UHI x POP 2020')\n",
        "\n",
        "Map.addLayer(GetUhiStatsUrbanByYear(2004).select('UHI_Day_1km_p99'), visParms_uhi, 'UHI 2004')\n",
        "Map.addLayer(GetUhiStatsUrbanByYear(2010).select('UHI_Day_1km_p99'), visParms_uhi, 'UHI 2010')\n",
        "Map.addLayer(GetUhiStatsUrbanByYear(2020).select('UHI_Day_1km_p99'), visParms_uhi, 'UHI 2020')\n",
        "Map.center_object(fc_Shanghai.geometry())\n",
        "Map"
      ]
    },
    {
      "cell_type": "markdown",
      "metadata": {
        "id": "t64EF-m8YEaK"
      },
      "source": [
        "# Mean UHI, POP for FUA"
      ]
    },
    {
      "cell_type": "markdown",
      "metadata": {
        "id": "sucU6RJ7lC1q"
      },
      "source": [
        "## Define function to calculate UHI per cap"
      ]
    },
    {
      "cell_type": "code",
      "execution_count": null,
      "metadata": {
        "id": "nH-hKsewYVms",
        "colab": {
          "base_uri": "https://localhost:8080/",
          "height": 156
        },
        "outputId": "14d92022-94cf-4eea-e9bb-8310cced3995"
      },
      "outputs": [
        {
          "output_type": "stream",
          "name": "stdout",
          "text": [
            "        UHI_Day_1km_p99  UHI_Day_1km_p99_percap\n",
            "9459.0         4.379175                6.386734\n",
            "        UHI_Day_1km_p99  UHI_Day_1km_p99_percap\n",
            "9459.0         5.956167                7.120668\n",
            "        UHI_Day_1km_p99  UHI_Day_1km_p99_percap\n",
            "9459.0         7.428002                8.516355\n",
            "        UHI_Day_1km_p99  UHI_Day_1km_p99_percap\n",
            "9459.0         6.863373                7.722566\n"
          ]
        }
      ],
      "source": [
        "# Testing\n",
        "# gdf_fua = gdf_Shanghai\n",
        "# gdf_fua = gdf_Helsinki\n",
        "# year = 2020\n",
        "\n",
        "# Define function to calculate UHI per cap for FUA, in a year\n",
        "def GetUhiPercapFUAbyYear(gdf_fua, year):\n",
        "  fc_fua = geemap.geopandas_to_ee(gdf_fua).first()\n",
        "  geo_fua = fc_fua.geometry()\n",
        "  uhi_cnt = GetUhiStatsByYear(year).reduceRegion(ee.Reducer.count(), geo_fua, 1000).getInfo()\n",
        "  if uhi_cnt['UHI_Day_1km_p99'] > 0:\n",
        "    uhi_mean        = GetUhiStatsByYear(year).reduceRegion(ee.Reducer.mean(), geo_fua, 1000).getInfo()\n",
        "    # pop_sum_100m    = GetWorldPopByYear(year).reduceRegion(ee.Reducer.sum(), geo_fua, 100).getInfo()\n",
        "    pop_sum_1km     = GetWorldPopByYear(year).reduceRegion(ee.Reducer.sum(), geo_fua, 1000).getInfo()\n",
        "    uhiTimesPop_sum = GetUhiStatsTimesPopByYear(year).reduceRegion(ee.Reducer.sum(), geo_fua, 1000).getInfo()\n",
        "    fua_id   = gdf_fua[['eFUA_ID']].iloc[0].iloc[0]\n",
        "    fua_name = gdf_fua[['eFUA_name']].iloc[0].iloc[0]\n",
        "    uhi_day_p99_percap = uhiTimesPop_sum['UHI_Day_1km_p99']   / pop_sum_1km['population']\n",
        "    uhi_nig_p99_percap = uhiTimesPop_sum['UHI_Night_1km_p99'] / pop_sum_1km['population']\n",
        "    df_UhiPercap = pd.DataFrame({\n",
        "        'Year': year,\n",
        "        # 'population': pop_sum_100m['population'],\n",
        "        'UHI_Day_1km_p99': [uhi_mean['UHI_Day_1km_p99']],\n",
        "        'UHI_Night_1km_99': [uhi_mean['UHI_Night_1km_p99']],\n",
        "        'UHI_Day_1km_p99_percap': [uhi_day_p99_percap], \n",
        "        'UHI_Night_1km_p99_percap': [uhi_nig_p99_percap],\n",
        "        'eFUA_name':[fua_name], \n",
        "        'eFUA_ID':[fua_id]}, index=[fua_id])\n",
        "  else:\n",
        "    df_UhiPercap = pd.DataFrame({})\n",
        "  return df_UhiPercap\n",
        "\n",
        "# print(GetUhiPercapFUAbyYear(gdf_Helsinki, 2010).empty)\n",
        "print(GetUhiPercapFUAbyYear(gdf_Hefei, 2005).filter(like='UHI_Day'))\n",
        "print(GetUhiPercapFUAbyYear(gdf_Hefei, 2010).filter(like='UHI_Day'))\n",
        "print(GetUhiPercapFUAbyYear(gdf_Hefei, 2015).filter(like='UHI_Day'))\n",
        "print(GetUhiPercapFUAbyYear(gdf_Hefei, 2020).filter(like='UHI_Day'))"
      ]
    },
    {
      "cell_type": "markdown",
      "metadata": {
        "id": "q27J5tkelGYf"
      },
      "source": [
        "## Apply function to all FUAs"
      ]
    },
    {
      "cell_type": "markdown",
      "metadata": {
        "id": "gDH-f0Nefx-L"
      },
      "source": [
        "## First run"
      ]
    },
    {
      "cell_type": "code",
      "execution_count": null,
      "metadata": {
        "id": "mVyYdd49lJYJ",
        "colab": {
          "base_uri": "https://localhost:8080/"
        },
        "outputId": "5ad94c62-b268-4b0d-cec1-6b43f88bf696"
      },
      "outputs": [
        {
          "metadata": {
            "tags": null
          },
          "name": "stderr",
          "output_type": "stream",
          "text": [
            "75it [1:28:10, 68.71s/it]"
          ]
        }
      ],
      "source": [
        "path_out = '/content/drive/MyDrive/Research_Projects/2022_UHI_vs_GHG/results/pop_weighted_UHIs/'\n",
        "filename_out = path_out + 'pop_weighted_uhi_fuas.csv'\n",
        "\n",
        "# Create a empty data frame for results\n",
        "df_UhiPercap = pd.DataFrame()\n",
        "\n",
        "# Loop through FUAs\n",
        "for index, row in tqdm(gdf_FUAs.head(100).iterrows()):\n",
        "  for year in range(2003, 2021):\n",
        "    fua_id = row['eFUA_ID']\n",
        "    gdf_fua = gdf_FUAs.loc[gdf_FUAs['eFUA_ID']==fua_id]\n",
        "    df_UhiPercap_new = GetUhiPercapFUAbyYear(gdf_fua, year)\n",
        "    if df_UhiPercap_new.empty==False:\n",
        "      df_UhiPercap = df_UhiPercap.append(df_UhiPercap_new)\n",
        "      df_UhiPercap.to_csv(filename_out)\n",
        "\n",
        "df_UhiPercap.head(10)"
      ]
    },
    {
      "cell_type": "markdown",
      "metadata": {
        "id": "sBnzv9Nufz43"
      },
      "source": [
        "## Continue previous runs"
      ]
    },
    {
      "cell_type": "code",
      "execution_count": null,
      "metadata": {
        "id": "ltDTsHhvf5IC",
        "colab": {
          "base_uri": "https://localhost:8080/"
        },
        "outputId": "c866e916-0c16-42a1-b9d5-cac276462146"
      },
      "outputs": [
        {
          "output_type": "stream",
          "name": "stderr",
          "text": [
            "877it [8:22:39, 38.40s/it]"
          ]
        }
      ],
      "source": [
        "path_out = '/content/drive/MyDrive/Research_Projects/2022_UHI_vs_GHG/results/pop_weighted_UHIs/'\n",
        "filename_out = path_out + 'pop_weighted_uhi_fuas.csv'\n",
        "\n",
        "# Read previous run\n",
        "df_UhiPercap = pd.read_csv(filename_out)\n",
        "\n",
        "# Loop through FUAs\n",
        "for index, row in tqdm(gdf_FUAs.iterrows()):\n",
        "  for year in range(2003, 2021):\n",
        "    fua_id = row['eFUA_ID']\n",
        "    is_FuaID_exists = (df_UhiPercap['eFUA_ID']==fua_id) # Has the FUA been run?\n",
        "    is_Year_exists = (df_UhiPercap['Year']==year)       # Has the year been run?\n",
        "    # Only run the (FUA, year) combo that has not been run\n",
        "    if df_UhiPercap.loc[is_FuaID_exists & is_Year_exists].empty:\n",
        "      gdf_fua = gdf_FUAs.loc[gdf_FUAs['eFUA_ID']==fua_id]\n",
        "      df_UhiPercap_new = GetUhiPercapFUAbyYear(gdf_fua, year)\n",
        "      if df_UhiPercap_new.empty==False:\n",
        "        df_UhiPercap = df_UhiPercap.append(df_UhiPercap_new)\n",
        "        df_UhiPercap.to_csv(filename_out)"
      ]
    }
  ],
  "metadata": {
    "colab": {
      "collapsed_sections": [],
      "name": "01_pop_weighted_UHI_timeseries2.ipynb",
      "provenance": [],
      "toc_visible": true,
      "history_visible": true,
      "include_colab_link": true
    },
    "kernelspec": {
      "display_name": "Python 3",
      "name": "python3"
    },
    "language_info": {
      "name": "python"
    },
    "widgets": {
      "application/vnd.jupyter.widget-state+json": {
        "7e0f42b475df4f77890195ebb16e4fe9": {
          "model_module": "jupyter-leaflet",
          "model_name": "LeafletTileLayerModel",
          "model_module_version": "^0.17.0",
          "state": {
            "_model_module": "jupyter-leaflet",
            "_model_module_version": "^0.17.0",
            "_model_name": "LeafletTileLayerModel",
            "_view_count": null,
            "_view_module": "jupyter-leaflet",
            "_view_module_version": "^0.17.0",
            "_view_name": "LeafletTileLayerView",
            "attribution": "Google",
            "base": false,
            "bottom": true,
            "bounds": null,
            "detect_retina": false,
            "loading": true,
            "max_native_zoom": null,
            "max_zoom": 22,
            "min_native_zoom": null,
            "min_zoom": 0,
            "name": "Google Maps",
            "no_wrap": false,
            "opacity": 1,
            "options": [
              "attribution",
              "bounds",
              "detect_retina",
              "max_native_zoom",
              "max_zoom",
              "min_native_zoom",
              "min_zoom",
              "no_wrap",
              "tile_size",
              "tms"
            ],
            "pane": "",
            "popup": null,
            "popup_max_height": null,
            "popup_max_width": 300,
            "popup_min_width": 50,
            "show_loading": false,
            "tile_size": 256,
            "tms": false,
            "url": "https://mt1.google.com/vt/lyrs=m&x={x}&y={y}&z={z}",
            "visible": true
          }
        },
        "affd419ea0e947e48d3ab43be7096aa4": {
          "model_module": "jupyter-leaflet",
          "model_name": "LeafletMapModel",
          "model_module_version": "^0.17.0",
          "state": {
            "_dom_classes": [],
            "_model_module": "jupyter-leaflet",
            "_model_module_version": "^0.17.0",
            "_model_name": "LeafletMapModel",
            "_view_count": null,
            "_view_module": "jupyter-leaflet",
            "_view_module_version": "^0.17.0",
            "_view_name": "LeafletMapView",
            "bottom": 754,
            "bounce_at_zoom_limits": true,
            "box_zoom": true,
            "center": [
              20,
              0
            ],
            "close_popup_on_click": true,
            "controls": [
              "IPY_MODEL_e6ac4db759b14a1e8b68e5c15f7ea5a6",
              "IPY_MODEL_5418801450064c0ba747d828455bd4b6",
              "IPY_MODEL_4be787d03cdc4970a9615d7d50a482d1",
              "IPY_MODEL_a6f467128a6c417ca4013f8c541e2f65",
              "IPY_MODEL_3b3e83f251c54d36a9228dd173d2b935",
              "IPY_MODEL_beeffa37e665452e98804cec11a52b54",
              "IPY_MODEL_312d27dc961246de960acbb98c537015",
              "IPY_MODEL_1113f4e8624348e4a3a59cabfd660909"
            ],
            "crs": {
              "name": "EPSG3857",
              "custom": false
            },
            "default_style": "IPY_MODEL_3671a1604d7f4662ab0eb85fabe87f3d",
            "double_click_zoom": true,
            "dragging": true,
            "dragging_style": "IPY_MODEL_ff5cea0cecc64c4ba618485e952e8136",
            "east": 178.24218750000003,
            "fullscreen": false,
            "inertia": true,
            "inertia_deceleration": 3000,
            "inertia_max_speed": 1500,
            "interpolation": "bilinear",
            "keyboard": true,
            "keyboard_pan_offset": 80,
            "keyboard_zoom_offset": 1,
            "layers": [
              "IPY_MODEL_367ffa3154444d44a6723242bb1c45a6",
              "IPY_MODEL_7e0f42b475df4f77890195ebb16e4fe9",
              "IPY_MODEL_e65f3ca41f8c49eaacbe83f6c640c4ba",
              "IPY_MODEL_5a72bee91b954fb6820831c6345611c4",
              "IPY_MODEL_246b7075d2804c1091b1d99ede684d67"
            ],
            "layout": "IPY_MODEL_490bf5ccf71148e89d116351eb1e8802",
            "left": 6,
            "max_zoom": 24,
            "min_zoom": null,
            "modisdate": "2022-08-08",
            "north": 77.31251993823143,
            "options": [
              "bounce_at_zoom_limits",
              "box_zoom",
              "center",
              "close_popup_on_click",
              "double_click_zoom",
              "dragging",
              "fullscreen",
              "inertia",
              "inertia_deceleration",
              "inertia_max_speed",
              "interpolation",
              "keyboard",
              "keyboard_pan_offset",
              "keyboard_zoom_offset",
              "max_zoom",
              "min_zoom",
              "prefer_canvas",
              "scroll_wheel_zoom",
              "tap",
              "tap_tolerance",
              "touch_zoom",
              "world_copy_jump",
              "zoom",
              "zoom_animation_threshold",
              "zoom_delta",
              "zoom_snap"
            ],
            "panes": {},
            "prefer_canvas": false,
            "right": 1019,
            "scroll_wheel_zoom": true,
            "south": -64.47279382008165,
            "style": "IPY_MODEL_602fc13e8fcd449faa53e34b91b4cf25",
            "tap": true,
            "tap_tolerance": 15,
            "top": 154,
            "touch_zoom": true,
            "west": -177.89062500000003,
            "window_url": "https://ynhr3xtep4c-496ff2e9c6d22116-0-colab.googleusercontent.com/outputframe.html?vrz=colab-20220805-060046-RC00_465534543",
            "world_copy_jump": false,
            "zoom": 2,
            "zoom_animation_threshold": 4,
            "zoom_delta": 1,
            "zoom_snap": 1
          }
        },
        "e6ac4db759b14a1e8b68e5c15f7ea5a6": {
          "model_module": "jupyter-leaflet",
          "model_name": "LeafletWidgetControlModel",
          "model_module_version": "^0.17.0",
          "state": {
            "_model_module": "jupyter-leaflet",
            "_model_module_version": "^0.17.0",
            "_model_name": "LeafletWidgetControlModel",
            "_view_count": null,
            "_view_module": "jupyter-leaflet",
            "_view_module_version": "^0.17.0",
            "_view_name": "LeafletWidgetControlView",
            "max_height": null,
            "max_width": null,
            "min_height": null,
            "min_width": null,
            "options": [
              "position",
              "transparent_bg"
            ],
            "position": "topleft",
            "transparent_bg": false,
            "widget": "IPY_MODEL_803c2fdaa914465b908a35d37d0af4cd"
          }
        },
        "5418801450064c0ba747d828455bd4b6": {
          "model_module": "jupyter-leaflet",
          "model_name": "LeafletZoomControlModel",
          "model_module_version": "^0.17.0",
          "state": {
            "_model_module": "jupyter-leaflet",
            "_model_module_version": "^0.17.0",
            "_model_name": "LeafletZoomControlModel",
            "_view_count": null,
            "_view_module": "jupyter-leaflet",
            "_view_module_version": "^0.17.0",
            "_view_name": "LeafletZoomControlView",
            "options": [
              "position",
              "zoom_in_text",
              "zoom_in_title",
              "zoom_out_text",
              "zoom_out_title"
            ],
            "position": "topleft",
            "zoom_in_text": "+",
            "zoom_in_title": "Zoom in",
            "zoom_out_text": "-",
            "zoom_out_title": "Zoom out"
          }
        },
        "4be787d03cdc4970a9615d7d50a482d1": {
          "model_module": "jupyter-leaflet",
          "model_name": "LeafletScaleControlModel",
          "model_module_version": "^0.17.0",
          "state": {
            "_model_module": "jupyter-leaflet",
            "_model_module_version": "^0.17.0",
            "_model_name": "LeafletScaleControlModel",
            "_view_count": null,
            "_view_module": "jupyter-leaflet",
            "_view_module_version": "^0.17.0",
            "_view_name": "LeafletScaleControlView",
            "imperial": true,
            "max_width": 100,
            "metric": true,
            "options": [
              "imperial",
              "max_width",
              "metric",
              "position",
              "update_when_idle"
            ],
            "position": "bottomleft",
            "update_when_idle": false
          }
        },
        "a6f467128a6c417ca4013f8c541e2f65": {
          "model_module": "jupyter-leaflet",
          "model_name": "LeafletFullScreenControlModel",
          "model_module_version": "^0.17.0",
          "state": {
            "_model_module": "jupyter-leaflet",
            "_model_module_version": "^0.17.0",
            "_model_name": "LeafletFullScreenControlModel",
            "_view_count": null,
            "_view_module": "jupyter-leaflet",
            "_view_module_version": "^0.17.0",
            "_view_name": "LeafletFullScreenControlView",
            "options": [
              "position"
            ],
            "position": "topleft"
          }
        },
        "3b3e83f251c54d36a9228dd173d2b935": {
          "model_module": "jupyter-leaflet",
          "model_name": "LeafletMeasureControlModel",
          "model_module_version": "^0.17.0",
          "state": {
            "_custom_units": {},
            "_model_module": "jupyter-leaflet",
            "_model_module_version": "^0.17.0",
            "_model_name": "LeafletMeasureControlModel",
            "_view_count": null,
            "_view_module": "jupyter-leaflet",
            "_view_module_version": "^0.17.0",
            "_view_name": "LeafletMeasureControlView",
            "active_color": "orange",
            "capture_z_index": 10000,
            "completed_color": "#C8F2BE",
            "options": [
              "active_color",
              "capture_z_index",
              "completed_color",
              "popup_options",
              "position",
              "primary_area_unit",
              "primary_length_unit",
              "secondary_area_unit",
              "secondary_length_unit"
            ],
            "popup_options": {
              "className": "leaflet-measure-resultpopup",
              "autoPanPadding": [
                10,
                10
              ]
            },
            "position": "bottomleft",
            "primary_area_unit": "acres",
            "primary_length_unit": "kilometers",
            "secondary_area_unit": null,
            "secondary_length_unit": null
          }
        },
        "beeffa37e665452e98804cec11a52b54": {
          "model_module": "jupyter-leaflet",
          "model_name": "LeafletAttributionControlModel",
          "model_module_version": "^0.17.0",
          "state": {
            "_model_module": "jupyter-leaflet",
            "_model_module_version": "^0.17.0",
            "_model_name": "LeafletAttributionControlModel",
            "_view_count": null,
            "_view_module": "jupyter-leaflet",
            "_view_module_version": "^0.17.0",
            "_view_name": "LeafletAttributionControlView",
            "options": [
              "position",
              "prefix"
            ],
            "position": "bottomright",
            "prefix": "ipyleaflet"
          }
        },
        "312d27dc961246de960acbb98c537015": {
          "model_module": "jupyter-leaflet",
          "model_name": "LeafletDrawControlModel",
          "model_module_version": "^0.17.0",
          "state": {
            "_model_module": "jupyter-leaflet",
            "_model_module_version": "^0.17.0",
            "_model_name": "LeafletDrawControlModel",
            "_view_count": null,
            "_view_module": "jupyter-leaflet",
            "_view_module_version": "^0.17.0",
            "_view_name": "LeafletDrawControlView",
            "circle": {
              "shapeOptions": {
                "color": "#3388ff"
              }
            },
            "circlemarker": {},
            "data": [],
            "edit": true,
            "marker": {
              "shapeOptions": {
                "color": "#3388ff"
              }
            },
            "options": [
              "position"
            ],
            "polygon": {
              "shapeOptions": {}
            },
            "polyline": {
              "shapeOptions": {}
            },
            "position": "topleft",
            "rectangle": {
              "shapeOptions": {
                "color": "#3388ff"
              }
            },
            "remove": true
          }
        },
        "1113f4e8624348e4a3a59cabfd660909": {
          "model_module": "jupyter-leaflet",
          "model_name": "LeafletWidgetControlModel",
          "model_module_version": "^0.17.0",
          "state": {
            "_model_module": "jupyter-leaflet",
            "_model_module_version": "^0.17.0",
            "_model_name": "LeafletWidgetControlModel",
            "_view_count": null,
            "_view_module": "jupyter-leaflet",
            "_view_module_version": "^0.17.0",
            "_view_name": "LeafletWidgetControlView",
            "max_height": null,
            "max_width": null,
            "min_height": null,
            "min_width": null,
            "options": [
              "position",
              "transparent_bg"
            ],
            "position": "topright",
            "transparent_bg": false,
            "widget": "IPY_MODEL_f830a888d9844197acab38d38d4fffd5"
          }
        },
        "3671a1604d7f4662ab0eb85fabe87f3d": {
          "model_module": "jupyter-leaflet",
          "model_name": "LeafletMapStyleModel",
          "model_module_version": "^0.17.0",
          "state": {
            "_model_module": "jupyter-leaflet",
            "_model_module_version": "^0.17.0",
            "_model_name": "LeafletMapStyleModel",
            "_view_count": null,
            "_view_module": "@jupyter-widgets/base",
            "_view_module_version": "1.2.0",
            "_view_name": "StyleView",
            "cursor": "grab"
          }
        },
        "ff5cea0cecc64c4ba618485e952e8136": {
          "model_module": "jupyter-leaflet",
          "model_name": "LeafletMapStyleModel",
          "model_module_version": "^0.17.0",
          "state": {
            "_model_module": "jupyter-leaflet",
            "_model_module_version": "^0.17.0",
            "_model_name": "LeafletMapStyleModel",
            "_view_count": null,
            "_view_module": "@jupyter-widgets/base",
            "_view_module_version": "1.2.0",
            "_view_name": "StyleView",
            "cursor": "move"
          }
        },
        "367ffa3154444d44a6723242bb1c45a6": {
          "model_module": "jupyter-leaflet",
          "model_name": "LeafletTileLayerModel",
          "model_module_version": "^0.17.0",
          "state": {
            "_model_module": "jupyter-leaflet",
            "_model_module_version": "^0.17.0",
            "_model_name": "LeafletTileLayerModel",
            "_view_count": null,
            "_view_module": "jupyter-leaflet",
            "_view_module_version": "^0.17.0",
            "_view_name": "LeafletTileLayerView",
            "attribution": "&copy; <a href=\"https://www.openstreetmap.org/copyright\">OpenStreetMap</a> contributors",
            "base": true,
            "bottom": true,
            "bounds": null,
            "detect_retina": false,
            "loading": true,
            "max_native_zoom": null,
            "max_zoom": 19,
            "min_native_zoom": null,
            "min_zoom": 1,
            "name": "OpenStreetMap.Mapnik",
            "no_wrap": false,
            "opacity": 1,
            "options": [
              "attribution",
              "bounds",
              "detect_retina",
              "max_native_zoom",
              "max_zoom",
              "min_native_zoom",
              "min_zoom",
              "no_wrap",
              "tile_size",
              "tms"
            ],
            "pane": "",
            "popup": null,
            "popup_max_height": null,
            "popup_max_width": 300,
            "popup_min_width": 50,
            "show_loading": false,
            "tile_size": 256,
            "tms": false,
            "url": "https://a.tile.openstreetmap.org/{z}/{x}/{y}.png",
            "visible": true
          }
        },
        "e65f3ca41f8c49eaacbe83f6c640c4ba": {
          "model_module": "jupyter-leaflet",
          "model_name": "LeafletTileLayerModel",
          "model_module_version": "^0.17.0",
          "state": {
            "_model_module": "jupyter-leaflet",
            "_model_module_version": "^0.17.0",
            "_model_name": "LeafletTileLayerModel",
            "_view_count": null,
            "_view_module": "jupyter-leaflet",
            "_view_module_version": "^0.17.0",
            "_view_name": "LeafletTileLayerView",
            "attribution": "Google Earth Engine",
            "base": false,
            "bottom": true,
            "bounds": null,
            "detect_retina": false,
            "loading": true,
            "max_native_zoom": null,
            "max_zoom": 24,
            "min_native_zoom": null,
            "min_zoom": 0,
            "name": "UHI 2004",
            "no_wrap": false,
            "opacity": 1,
            "options": [
              "attribution",
              "bounds",
              "detect_retina",
              "max_native_zoom",
              "max_zoom",
              "min_native_zoom",
              "min_zoom",
              "no_wrap",
              "tile_size",
              "tms"
            ],
            "pane": "",
            "popup": null,
            "popup_max_height": null,
            "popup_max_width": 300,
            "popup_min_width": 50,
            "show_loading": false,
            "tile_size": 256,
            "tms": false,
            "url": "https://earthengine.googleapis.com/v1alpha/projects/earthengine-legacy/maps/efa954c48f1cd886bcbe0f1f80f3ad8a-cbd9a888f37f19e59ba108e415594328/tiles/{z}/{x}/{y}",
            "visible": true
          }
        },
        "5a72bee91b954fb6820831c6345611c4": {
          "model_module": "jupyter-leaflet",
          "model_name": "LeafletTileLayerModel",
          "model_module_version": "^0.17.0",
          "state": {
            "_model_module": "jupyter-leaflet",
            "_model_module_version": "^0.17.0",
            "_model_name": "LeafletTileLayerModel",
            "_view_count": null,
            "_view_module": "jupyter-leaflet",
            "_view_module_version": "^0.17.0",
            "_view_name": "LeafletTileLayerView",
            "attribution": "Google Earth Engine",
            "base": false,
            "bottom": true,
            "bounds": null,
            "detect_retina": false,
            "loading": true,
            "max_native_zoom": null,
            "max_zoom": 24,
            "min_native_zoom": null,
            "min_zoom": 0,
            "name": "UHI 2010",
            "no_wrap": false,
            "opacity": 1,
            "options": [
              "attribution",
              "bounds",
              "detect_retina",
              "max_native_zoom",
              "max_zoom",
              "min_native_zoom",
              "min_zoom",
              "no_wrap",
              "tile_size",
              "tms"
            ],
            "pane": "",
            "popup": null,
            "popup_max_height": null,
            "popup_max_width": 300,
            "popup_min_width": 50,
            "show_loading": false,
            "tile_size": 256,
            "tms": false,
            "url": "https://earthengine.googleapis.com/v1alpha/projects/earthengine-legacy/maps/dd3191fb8e33fe09af070bb81324ea36-f750a08b3d6004d98d2fe7c0a56c2b0c/tiles/{z}/{x}/{y}",
            "visible": true
          }
        },
        "246b7075d2804c1091b1d99ede684d67": {
          "model_module": "jupyter-leaflet",
          "model_name": "LeafletTileLayerModel",
          "model_module_version": "^0.17.0",
          "state": {
            "_model_module": "jupyter-leaflet",
            "_model_module_version": "^0.17.0",
            "_model_name": "LeafletTileLayerModel",
            "_view_count": null,
            "_view_module": "jupyter-leaflet",
            "_view_module_version": "^0.17.0",
            "_view_name": "LeafletTileLayerView",
            "attribution": "Google Earth Engine",
            "base": false,
            "bottom": true,
            "bounds": null,
            "detect_retina": false,
            "loading": true,
            "max_native_zoom": null,
            "max_zoom": 24,
            "min_native_zoom": null,
            "min_zoom": 0,
            "name": "UHI 2020",
            "no_wrap": false,
            "opacity": 1,
            "options": [
              "attribution",
              "bounds",
              "detect_retina",
              "max_native_zoom",
              "max_zoom",
              "min_native_zoom",
              "min_zoom",
              "no_wrap",
              "tile_size",
              "tms"
            ],
            "pane": "",
            "popup": null,
            "popup_max_height": null,
            "popup_max_width": 300,
            "popup_min_width": 50,
            "show_loading": false,
            "tile_size": 256,
            "tms": false,
            "url": "https://earthengine.googleapis.com/v1alpha/projects/earthengine-legacy/maps/c11200d7a80d2fa1a6bbc0a7023aa119-a57e6ae981551bcee9edd8ff452743a1/tiles/{z}/{x}/{y}",
            "visible": true
          }
        },
        "490bf5ccf71148e89d116351eb1e8802": {
          "model_module": "@jupyter-widgets/base",
          "model_name": "LayoutModel",
          "model_module_version": "1.2.0",
          "state": {
            "_model_module": "@jupyter-widgets/base",
            "_model_module_version": "1.2.0",
            "_model_name": "LayoutModel",
            "_view_count": null,
            "_view_module": "@jupyter-widgets/base",
            "_view_module_version": "1.2.0",
            "_view_name": "LayoutView",
            "align_content": null,
            "align_items": null,
            "align_self": null,
            "border": null,
            "bottom": null,
            "display": null,
            "flex": null,
            "flex_flow": null,
            "grid_area": null,
            "grid_auto_columns": null,
            "grid_auto_flow": null,
            "grid_auto_rows": null,
            "grid_column": null,
            "grid_gap": null,
            "grid_row": null,
            "grid_template_areas": null,
            "grid_template_columns": null,
            "grid_template_rows": null,
            "height": "600px",
            "justify_content": null,
            "justify_items": null,
            "left": null,
            "margin": null,
            "max_height": null,
            "max_width": null,
            "min_height": null,
            "min_width": null,
            "object_fit": null,
            "object_position": null,
            "order": null,
            "overflow": null,
            "overflow_x": null,
            "overflow_y": null,
            "padding": null,
            "right": null,
            "top": null,
            "visibility": null,
            "width": null
          }
        },
        "602fc13e8fcd449faa53e34b91b4cf25": {
          "model_module": "jupyter-leaflet",
          "model_name": "LeafletMapStyleModel",
          "model_module_version": "^0.17.0",
          "state": {
            "_model_module": "jupyter-leaflet",
            "_model_module_version": "^0.17.0",
            "_model_name": "LeafletMapStyleModel",
            "_view_count": null,
            "_view_module": "@jupyter-widgets/base",
            "_view_module_version": "1.2.0",
            "_view_name": "StyleView",
            "cursor": "grab"
          }
        },
        "803c2fdaa914465b908a35d37d0af4cd": {
          "model_module": "@jupyter-widgets/controls",
          "model_name": "HBoxModel",
          "model_module_version": "1.5.0",
          "state": {
            "_dom_classes": [],
            "_model_module": "@jupyter-widgets/controls",
            "_model_module_version": "1.5.0",
            "_model_name": "HBoxModel",
            "_view_count": null,
            "_view_module": "@jupyter-widgets/controls",
            "_view_module_version": "1.5.0",
            "_view_name": "HBoxView",
            "box_style": "",
            "children": [
              "IPY_MODEL_3f4cb2885eeb400287f3be6af1549363"
            ],
            "layout": "IPY_MODEL_39634deae9a24620b7aebde409a4051d"
          }
        },
        "f830a888d9844197acab38d38d4fffd5": {
          "model_module": "@jupyter-widgets/controls",
          "model_name": "VBoxModel",
          "model_module_version": "1.5.0",
          "state": {
            "_dom_classes": [],
            "_model_module": "@jupyter-widgets/controls",
            "_model_module_version": "1.5.0",
            "_model_name": "VBoxModel",
            "_view_count": null,
            "_view_module": "@jupyter-widgets/controls",
            "_view_module_version": "1.5.0",
            "_view_name": "VBoxView",
            "box_style": "",
            "children": [
              "IPY_MODEL_1de77e7bc60448bf9879512995eddb3b"
            ],
            "layout": "IPY_MODEL_9e5dbf17bf9440d8bb2c2fd0e02c259d"
          }
        },
        "3f4cb2885eeb400287f3be6af1549363": {
          "model_module": "@jupyter-widgets/controls",
          "model_name": "ToggleButtonModel",
          "model_module_version": "1.5.0",
          "state": {
            "_dom_classes": [],
            "_model_module": "@jupyter-widgets/controls",
            "_model_module_version": "1.5.0",
            "_model_name": "ToggleButtonModel",
            "_view_count": null,
            "_view_module": "@jupyter-widgets/controls",
            "_view_module_version": "1.5.0",
            "_view_name": "ToggleButtonView",
            "button_style": "",
            "description": "",
            "description_tooltip": null,
            "disabled": false,
            "icon": "globe",
            "layout": "IPY_MODEL_0c9ac5b805d64c1abd3fed0cc29a586c",
            "style": "IPY_MODEL_4a7e1c68ed664472b2ea1af268de6107",
            "tooltip": "Search location/data",
            "value": false
          }
        },
        "39634deae9a24620b7aebde409a4051d": {
          "model_module": "@jupyter-widgets/base",
          "model_name": "LayoutModel",
          "model_module_version": "1.2.0",
          "state": {
            "_model_module": "@jupyter-widgets/base",
            "_model_module_version": "1.2.0",
            "_model_name": "LayoutModel",
            "_view_count": null,
            "_view_module": "@jupyter-widgets/base",
            "_view_module_version": "1.2.0",
            "_view_name": "LayoutView",
            "align_content": null,
            "align_items": null,
            "align_self": null,
            "border": null,
            "bottom": null,
            "display": null,
            "flex": null,
            "flex_flow": null,
            "grid_area": null,
            "grid_auto_columns": null,
            "grid_auto_flow": null,
            "grid_auto_rows": null,
            "grid_column": null,
            "grid_gap": null,
            "grid_row": null,
            "grid_template_areas": null,
            "grid_template_columns": null,
            "grid_template_rows": null,
            "height": null,
            "justify_content": null,
            "justify_items": null,
            "left": null,
            "margin": null,
            "max_height": null,
            "max_width": null,
            "min_height": null,
            "min_width": null,
            "object_fit": null,
            "object_position": null,
            "order": null,
            "overflow": null,
            "overflow_x": null,
            "overflow_y": null,
            "padding": null,
            "right": null,
            "top": null,
            "visibility": null,
            "width": null
          }
        },
        "1de77e7bc60448bf9879512995eddb3b": {
          "model_module": "@jupyter-widgets/controls",
          "model_name": "ToggleButtonModel",
          "model_module_version": "1.5.0",
          "state": {
            "_dom_classes": [],
            "_model_module": "@jupyter-widgets/controls",
            "_model_module_version": "1.5.0",
            "_model_name": "ToggleButtonModel",
            "_view_count": null,
            "_view_module": "@jupyter-widgets/controls",
            "_view_module_version": "1.5.0",
            "_view_name": "ToggleButtonView",
            "button_style": "",
            "description": "",
            "description_tooltip": null,
            "disabled": false,
            "icon": "wrench",
            "layout": "IPY_MODEL_d0ef40bb7a3b43d88fd37ce55c81c87f",
            "style": "IPY_MODEL_4be3c47524ce4bffb99a34e112a24303",
            "tooltip": "Toolbar",
            "value": false
          }
        },
        "9e5dbf17bf9440d8bb2c2fd0e02c259d": {
          "model_module": "@jupyter-widgets/base",
          "model_name": "LayoutModel",
          "model_module_version": "1.2.0",
          "state": {
            "_model_module": "@jupyter-widgets/base",
            "_model_module_version": "1.2.0",
            "_model_name": "LayoutModel",
            "_view_count": null,
            "_view_module": "@jupyter-widgets/base",
            "_view_module_version": "1.2.0",
            "_view_name": "LayoutView",
            "align_content": null,
            "align_items": null,
            "align_self": null,
            "border": null,
            "bottom": null,
            "display": null,
            "flex": null,
            "flex_flow": null,
            "grid_area": null,
            "grid_auto_columns": null,
            "grid_auto_flow": null,
            "grid_auto_rows": null,
            "grid_column": null,
            "grid_gap": null,
            "grid_row": null,
            "grid_template_areas": null,
            "grid_template_columns": null,
            "grid_template_rows": null,
            "height": null,
            "justify_content": null,
            "justify_items": null,
            "left": null,
            "margin": null,
            "max_height": null,
            "max_width": null,
            "min_height": null,
            "min_width": null,
            "object_fit": null,
            "object_position": null,
            "order": null,
            "overflow": null,
            "overflow_x": null,
            "overflow_y": null,
            "padding": null,
            "right": null,
            "top": null,
            "visibility": null,
            "width": null
          }
        },
        "0c9ac5b805d64c1abd3fed0cc29a586c": {
          "model_module": "@jupyter-widgets/base",
          "model_name": "LayoutModel",
          "model_module_version": "1.2.0",
          "state": {
            "_model_module": "@jupyter-widgets/base",
            "_model_module_version": "1.2.0",
            "_model_name": "LayoutModel",
            "_view_count": null,
            "_view_module": "@jupyter-widgets/base",
            "_view_module_version": "1.2.0",
            "_view_name": "LayoutView",
            "align_content": null,
            "align_items": null,
            "align_self": null,
            "border": null,
            "bottom": null,
            "display": null,
            "flex": null,
            "flex_flow": null,
            "grid_area": null,
            "grid_auto_columns": null,
            "grid_auto_flow": null,
            "grid_auto_rows": null,
            "grid_column": null,
            "grid_gap": null,
            "grid_row": null,
            "grid_template_areas": null,
            "grid_template_columns": null,
            "grid_template_rows": null,
            "height": "28px",
            "justify_content": null,
            "justify_items": null,
            "left": null,
            "margin": null,
            "max_height": null,
            "max_width": null,
            "min_height": null,
            "min_width": null,
            "object_fit": null,
            "object_position": null,
            "order": null,
            "overflow": null,
            "overflow_x": null,
            "overflow_y": null,
            "padding": "0px 0px 0px 4px",
            "right": null,
            "top": null,
            "visibility": null,
            "width": "28px"
          }
        },
        "4a7e1c68ed664472b2ea1af268de6107": {
          "model_module": "@jupyter-widgets/controls",
          "model_name": "DescriptionStyleModel",
          "model_module_version": "1.5.0",
          "state": {
            "_model_module": "@jupyter-widgets/controls",
            "_model_module_version": "1.5.0",
            "_model_name": "DescriptionStyleModel",
            "_view_count": null,
            "_view_module": "@jupyter-widgets/base",
            "_view_module_version": "1.2.0",
            "_view_name": "StyleView",
            "description_width": ""
          }
        },
        "d0ef40bb7a3b43d88fd37ce55c81c87f": {
          "model_module": "@jupyter-widgets/base",
          "model_name": "LayoutModel",
          "model_module_version": "1.2.0",
          "state": {
            "_model_module": "@jupyter-widgets/base",
            "_model_module_version": "1.2.0",
            "_model_name": "LayoutModel",
            "_view_count": null,
            "_view_module": "@jupyter-widgets/base",
            "_view_module_version": "1.2.0",
            "_view_name": "LayoutView",
            "align_content": null,
            "align_items": null,
            "align_self": null,
            "border": null,
            "bottom": null,
            "display": null,
            "flex": null,
            "flex_flow": null,
            "grid_area": null,
            "grid_auto_columns": null,
            "grid_auto_flow": null,
            "grid_auto_rows": null,
            "grid_column": null,
            "grid_gap": null,
            "grid_row": null,
            "grid_template_areas": null,
            "grid_template_columns": null,
            "grid_template_rows": null,
            "height": "28px",
            "justify_content": null,
            "justify_items": null,
            "left": null,
            "margin": null,
            "max_height": null,
            "max_width": null,
            "min_height": null,
            "min_width": null,
            "object_fit": null,
            "object_position": null,
            "order": null,
            "overflow": null,
            "overflow_x": null,
            "overflow_y": null,
            "padding": "0px 0px 0px 4px",
            "right": null,
            "top": null,
            "visibility": null,
            "width": "28px"
          }
        },
        "4be3c47524ce4bffb99a34e112a24303": {
          "model_module": "@jupyter-widgets/controls",
          "model_name": "DescriptionStyleModel",
          "model_module_version": "1.5.0",
          "state": {
            "_model_module": "@jupyter-widgets/controls",
            "_model_module_version": "1.5.0",
            "_model_name": "DescriptionStyleModel",
            "_view_count": null,
            "_view_module": "@jupyter-widgets/base",
            "_view_module_version": "1.2.0",
            "_view_name": "StyleView",
            "description_width": ""
          }
        },
        "810e371416924f8b87dfeffeb0b39a3e": {
          "model_module": "jupyter-leaflet",
          "model_name": "LeafletMapModel",
          "model_module_version": "^0.17",
          "state": {
            "_dom_classes": [],
            "_model_module": "jupyter-leaflet",
            "_model_module_version": "^0.17",
            "_model_name": "LeafletMapModel",
            "_view_count": null,
            "_view_module": "jupyter-leaflet",
            "_view_module_version": "^0.17",
            "_view_name": "LeafletMapView",
            "bottom": 13885,
            "bounce_at_zoom_limits": true,
            "box_zoom": true,
            "center": [
              29.377388403478992,
              121.33300781250001
            ],
            "close_popup_on_click": true,
            "controls": [
              "IPY_MODEL_8e4aac3ee460470fa81783f5bb506f73",
              "IPY_MODEL_8e9c9f11a9a549fb9f94b81d731e4bfa",
              "IPY_MODEL_733895635cd34babb18f089e943f0e7b",
              "IPY_MODEL_d863116e704a47c0a8a54356c3151d9c",
              "IPY_MODEL_88dcd485ede040c0913016e86fa18f2e",
              "IPY_MODEL_37bdcaf5b77c4240872c232456b28122",
              "IPY_MODEL_9c2e639dff434962b41098728d4cd610",
              "IPY_MODEL_1650d2d1055b44d2a603577c867a1844"
            ],
            "crs": {
              "name": "EPSG3857",
              "custom": false
            },
            "default_style": "IPY_MODEL_a6b96a28d9964f0293fd4d3eadc513b2",
            "double_click_zoom": true,
            "dragging": true,
            "dragging_style": "IPY_MODEL_92c3ac4252ec46169ae26d8165076fe6",
            "east": 126.90307617187501,
            "fullscreen": false,
            "inertia": true,
            "inertia_deceleration": 3000,
            "inertia_max_speed": 1500,
            "interpolation": "bilinear",
            "keyboard": true,
            "keyboard_pan_offset": 80,
            "keyboard_zoom_offset": 1,
            "layers": [
              "IPY_MODEL_e86687df8cb94f9782479489d2b3c5ca",
              "IPY_MODEL_94dc62c8d83247bdb4aaf793a71aefbf",
              "IPY_MODEL_8bfcd0a863964275bb50a422578af903"
            ],
            "layout": "IPY_MODEL_d3082c2fcba54c18a202b9ad1e684f9f",
            "left": 26922,
            "max_zoom": 24,
            "min_zoom": null,
            "modisdate": "2022-08-22",
            "north": 32.20350534542368,
            "options": [
              "bounce_at_zoom_limits",
              "box_zoom",
              "center",
              "close_popup_on_click",
              "double_click_zoom",
              "dragging",
              "fullscreen",
              "inertia",
              "inertia_deceleration",
              "inertia_max_speed",
              "interpolation",
              "keyboard",
              "keyboard_pan_offset",
              "keyboard_zoom_offset",
              "max_zoom",
              "min_zoom",
              "prefer_canvas",
              "scroll_wheel_zoom",
              "tap",
              "tap_tolerance",
              "touch_zoom",
              "world_copy_jump",
              "zoom",
              "zoom_animation_threshold",
              "zoom_delta",
              "zoom_snap"
            ],
            "panes": {},
            "prefer_canvas": false,
            "right": 27935,
            "scroll_wheel_zoom": true,
            "south": 26.46073804319089,
            "style": "IPY_MODEL_a6b96a28d9964f0293fd4d3eadc513b2",
            "tap": true,
            "tap_tolerance": 15,
            "top": 13285,
            "touch_zoom": true,
            "west": 115.77392578125001,
            "window_url": "https://msiybd80rtb-496ff2e9c6d22116-0-colab.googleusercontent.com/outputframe.html?vrz=colab-20220822-060049-RC00_469150663",
            "world_copy_jump": false,
            "zoom": 7,
            "zoom_animation_threshold": 4,
            "zoom_delta": 1,
            "zoom_snap": 1
          }
        },
        "8e4aac3ee460470fa81783f5bb506f73": {
          "model_module": "jupyter-leaflet",
          "model_name": "LeafletWidgetControlModel",
          "model_module_version": "^0.17",
          "state": {
            "_model_module": "jupyter-leaflet",
            "_model_module_version": "^0.17",
            "_model_name": "LeafletWidgetControlModel",
            "_view_count": null,
            "_view_module": "jupyter-leaflet",
            "_view_module_version": "^0.17",
            "_view_name": "LeafletWidgetControlView",
            "max_height": null,
            "max_width": null,
            "min_height": null,
            "min_width": null,
            "options": [
              "position",
              "transparent_bg"
            ],
            "position": "topleft",
            "transparent_bg": false,
            "widget": "IPY_MODEL_7ad42a5625814554b5c0d34d23630ae4"
          }
        },
        "8e9c9f11a9a549fb9f94b81d731e4bfa": {
          "model_module": "jupyter-leaflet",
          "model_name": "LeafletZoomControlModel",
          "model_module_version": "^0.17",
          "state": {
            "_model_module": "jupyter-leaflet",
            "_model_module_version": "^0.17",
            "_model_name": "LeafletZoomControlModel",
            "_view_count": null,
            "_view_module": "jupyter-leaflet",
            "_view_module_version": "^0.17",
            "_view_name": "LeafletZoomControlView",
            "options": [
              "position",
              "zoom_in_text",
              "zoom_in_title",
              "zoom_out_text",
              "zoom_out_title"
            ],
            "position": "topleft",
            "zoom_in_text": "+",
            "zoom_in_title": "Zoom in",
            "zoom_out_text": "-",
            "zoom_out_title": "Zoom out"
          }
        },
        "733895635cd34babb18f089e943f0e7b": {
          "model_module": "jupyter-leaflet",
          "model_name": "LeafletScaleControlModel",
          "model_module_version": "^0.17",
          "state": {
            "_model_module": "jupyter-leaflet",
            "_model_module_version": "^0.17",
            "_model_name": "LeafletScaleControlModel",
            "_view_count": null,
            "_view_module": "jupyter-leaflet",
            "_view_module_version": "^0.17",
            "_view_name": "LeafletScaleControlView",
            "imperial": true,
            "max_width": 100,
            "metric": true,
            "options": [
              "imperial",
              "max_width",
              "metric",
              "position",
              "update_when_idle"
            ],
            "position": "bottomleft",
            "update_when_idle": false
          }
        },
        "d863116e704a47c0a8a54356c3151d9c": {
          "model_module": "jupyter-leaflet",
          "model_name": "LeafletFullScreenControlModel",
          "model_module_version": "^0.17",
          "state": {
            "_model_module": "jupyter-leaflet",
            "_model_module_version": "^0.17",
            "_model_name": "LeafletFullScreenControlModel",
            "_view_count": null,
            "_view_module": "jupyter-leaflet",
            "_view_module_version": "^0.17",
            "_view_name": "LeafletFullScreenControlView",
            "options": [
              "position"
            ],
            "position": "topleft"
          }
        },
        "88dcd485ede040c0913016e86fa18f2e": {
          "model_module": "jupyter-leaflet",
          "model_name": "LeafletMeasureControlModel",
          "model_module_version": "^0.17",
          "state": {
            "_custom_units": {},
            "_model_module": "jupyter-leaflet",
            "_model_module_version": "^0.17",
            "_model_name": "LeafletMeasureControlModel",
            "_view_count": null,
            "_view_module": "jupyter-leaflet",
            "_view_module_version": "^0.17",
            "_view_name": "LeafletMeasureControlView",
            "active_color": "orange",
            "capture_z_index": 10000,
            "completed_color": "#C8F2BE",
            "options": [
              "active_color",
              "capture_z_index",
              "completed_color",
              "popup_options",
              "position",
              "primary_area_unit",
              "primary_length_unit",
              "secondary_area_unit",
              "secondary_length_unit"
            ],
            "popup_options": {
              "className": "leaflet-measure-resultpopup",
              "autoPanPadding": [
                10,
                10
              ]
            },
            "position": "bottomleft",
            "primary_area_unit": "acres",
            "primary_length_unit": "kilometers",
            "secondary_area_unit": null,
            "secondary_length_unit": null
          }
        },
        "37bdcaf5b77c4240872c232456b28122": {
          "model_module": "jupyter-leaflet",
          "model_name": "LeafletAttributionControlModel",
          "model_module_version": "^0.17",
          "state": {
            "_model_module": "jupyter-leaflet",
            "_model_module_version": "^0.17",
            "_model_name": "LeafletAttributionControlModel",
            "_view_count": null,
            "_view_module": "jupyter-leaflet",
            "_view_module_version": "^0.17",
            "_view_name": "LeafletAttributionControlView",
            "options": [
              "position",
              "prefix"
            ],
            "position": "bottomright",
            "prefix": "ipyleaflet"
          }
        },
        "9c2e639dff434962b41098728d4cd610": {
          "model_module": "jupyter-leaflet",
          "model_name": "LeafletDrawControlModel",
          "model_module_version": "^0.17",
          "state": {
            "_model_module": "jupyter-leaflet",
            "_model_module_version": "^0.17",
            "_model_name": "LeafletDrawControlModel",
            "_view_count": null,
            "_view_module": "jupyter-leaflet",
            "_view_module_version": "^0.17",
            "_view_name": "LeafletDrawControlView",
            "circle": {
              "shapeOptions": {
                "color": "#3388ff"
              }
            },
            "circlemarker": {},
            "data": [],
            "edit": true,
            "marker": {
              "shapeOptions": {
                "color": "#3388ff"
              }
            },
            "options": [
              "position"
            ],
            "polygon": {
              "shapeOptions": {}
            },
            "polyline": {
              "shapeOptions": {}
            },
            "position": "topleft",
            "rectangle": {
              "shapeOptions": {
                "color": "#3388ff"
              }
            },
            "remove": true
          }
        },
        "1650d2d1055b44d2a603577c867a1844": {
          "model_module": "jupyter-leaflet",
          "model_name": "LeafletWidgetControlModel",
          "model_module_version": "^0.17",
          "state": {
            "_model_module": "jupyter-leaflet",
            "_model_module_version": "^0.17",
            "_model_name": "LeafletWidgetControlModel",
            "_view_count": null,
            "_view_module": "jupyter-leaflet",
            "_view_module_version": "^0.17",
            "_view_name": "LeafletWidgetControlView",
            "max_height": null,
            "max_width": null,
            "min_height": null,
            "min_width": null,
            "options": [
              "position",
              "transparent_bg"
            ],
            "position": "topright",
            "transparent_bg": false,
            "widget": "IPY_MODEL_d88e1ad2a63947738b0fa3c812e0c683"
          }
        },
        "a6b96a28d9964f0293fd4d3eadc513b2": {
          "model_module": "jupyter-leaflet",
          "model_name": "LeafletMapStyleModel",
          "model_module_version": "^0.17",
          "state": {
            "_model_module": "jupyter-leaflet",
            "_model_module_version": "^0.17",
            "_model_name": "LeafletMapStyleModel",
            "_view_count": null,
            "_view_module": "@jupyter-widgets/base",
            "_view_module_version": "1.2.0",
            "_view_name": "StyleView",
            "cursor": "grab"
          }
        },
        "92c3ac4252ec46169ae26d8165076fe6": {
          "model_module": "jupyter-leaflet",
          "model_name": "LeafletMapStyleModel",
          "model_module_version": "^0.17",
          "state": {
            "_model_module": "jupyter-leaflet",
            "_model_module_version": "^0.17",
            "_model_name": "LeafletMapStyleModel",
            "_view_count": null,
            "_view_module": "@jupyter-widgets/base",
            "_view_module_version": "1.2.0",
            "_view_name": "StyleView",
            "cursor": "move"
          }
        },
        "e86687df8cb94f9782479489d2b3c5ca": {
          "model_module": "jupyter-leaflet",
          "model_name": "LeafletTileLayerModel",
          "model_module_version": "^0.17",
          "state": {
            "_model_module": "jupyter-leaflet",
            "_model_module_version": "^0.17",
            "_model_name": "LeafletTileLayerModel",
            "_view_count": null,
            "_view_module": "jupyter-leaflet",
            "_view_module_version": "^0.17",
            "_view_name": "LeafletTileLayerView",
            "attribution": "&copy; <a href=\"https://www.openstreetmap.org/copyright\">OpenStreetMap</a> contributors",
            "base": true,
            "bottom": true,
            "bounds": null,
            "detect_retina": false,
            "loading": false,
            "max_native_zoom": null,
            "max_zoom": 19,
            "min_native_zoom": null,
            "min_zoom": 1,
            "name": "OpenStreetMap.Mapnik",
            "no_wrap": false,
            "opacity": 1,
            "options": [
              "attribution",
              "bounds",
              "detect_retina",
              "max_native_zoom",
              "max_zoom",
              "min_native_zoom",
              "min_zoom",
              "no_wrap",
              "tile_size",
              "tms",
              "zoom_offset"
            ],
            "pane": "",
            "popup": null,
            "popup_max_height": null,
            "popup_max_width": 300,
            "popup_min_width": 50,
            "show_loading": false,
            "tile_size": 256,
            "tms": false,
            "url": "https://a.tile.openstreetmap.org/{z}/{x}/{y}.png",
            "visible": true,
            "zoom_offset": 0
          }
        },
        "94dc62c8d83247bdb4aaf793a71aefbf": {
          "model_module": "jupyter-leaflet",
          "model_name": "LeafletTileLayerModel",
          "model_module_version": "^0.17",
          "state": {
            "_model_module": "jupyter-leaflet",
            "_model_module_version": "^0.17",
            "_model_name": "LeafletTileLayerModel",
            "_view_count": null,
            "_view_module": "jupyter-leaflet",
            "_view_module_version": "^0.17",
            "_view_name": "LeafletTileLayerView",
            "attribution": "Google",
            "base": false,
            "bottom": true,
            "bounds": null,
            "detect_retina": false,
            "loading": false,
            "max_native_zoom": null,
            "max_zoom": 22,
            "min_native_zoom": null,
            "min_zoom": 0,
            "name": "Google Maps",
            "no_wrap": false,
            "opacity": 1,
            "options": [
              "attribution",
              "bounds",
              "detect_retina",
              "max_native_zoom",
              "max_zoom",
              "min_native_zoom",
              "min_zoom",
              "no_wrap",
              "tile_size",
              "tms",
              "zoom_offset"
            ],
            "pane": "",
            "popup": null,
            "popup_max_height": null,
            "popup_max_width": 300,
            "popup_min_width": 50,
            "show_loading": false,
            "tile_size": 256,
            "tms": false,
            "url": "https://mt1.google.com/vt/lyrs=m&x={x}&y={y}&z={z}",
            "visible": false,
            "zoom_offset": 0
          }
        },
        "8bfcd0a863964275bb50a422578af903": {
          "model_module": "jupyter-leaflet",
          "model_name": "LeafletTileLayerModel",
          "model_module_version": "^0.17",
          "state": {
            "_model_module": "jupyter-leaflet",
            "_model_module_version": "^0.17",
            "_model_name": "LeafletTileLayerModel",
            "_view_count": null,
            "_view_module": "jupyter-leaflet",
            "_view_module_version": "^0.17",
            "_view_name": "LeafletTileLayerView",
            "attribution": "Google Earth Engine",
            "base": false,
            "bottom": true,
            "bounds": null,
            "detect_retina": false,
            "loading": false,
            "max_native_zoom": null,
            "max_zoom": 24,
            "min_native_zoom": null,
            "min_zoom": 0,
            "name": "",
            "no_wrap": false,
            "opacity": 1,
            "options": [
              "attribution",
              "bounds",
              "detect_retina",
              "max_native_zoom",
              "max_zoom",
              "min_native_zoom",
              "min_zoom",
              "no_wrap",
              "tile_size",
              "tms",
              "zoom_offset"
            ],
            "pane": "",
            "popup": null,
            "popup_max_height": null,
            "popup_max_width": 300,
            "popup_min_width": 50,
            "show_loading": false,
            "tile_size": 256,
            "tms": false,
            "url": "https://earthengine.googleapis.com/v1alpha/projects/earthengine-legacy/maps/fbbab4b9e646f93a363f8afccb7b9b22-276fc02ecb8fd789deb19a427f5d36cc/tiles/{z}/{x}/{y}",
            "visible": true,
            "zoom_offset": 0
          }
        },
        "d3082c2fcba54c18a202b9ad1e684f9f": {
          "model_module": "@jupyter-widgets/base",
          "model_name": "LayoutModel",
          "model_module_version": "1.2.0",
          "state": {
            "_model_module": "@jupyter-widgets/base",
            "_model_module_version": "1.2.0",
            "_model_name": "LayoutModel",
            "_view_count": null,
            "_view_module": "@jupyter-widgets/base",
            "_view_module_version": "1.2.0",
            "_view_name": "LayoutView",
            "align_content": null,
            "align_items": null,
            "align_self": null,
            "border": null,
            "bottom": null,
            "display": null,
            "flex": null,
            "flex_flow": null,
            "grid_area": null,
            "grid_auto_columns": null,
            "grid_auto_flow": null,
            "grid_auto_rows": null,
            "grid_column": null,
            "grid_gap": null,
            "grid_row": null,
            "grid_template_areas": null,
            "grid_template_columns": null,
            "grid_template_rows": null,
            "height": "600px",
            "justify_content": null,
            "justify_items": null,
            "left": null,
            "margin": null,
            "max_height": null,
            "max_width": null,
            "min_height": null,
            "min_width": null,
            "object_fit": null,
            "object_position": null,
            "order": null,
            "overflow": null,
            "overflow_x": null,
            "overflow_y": null,
            "padding": null,
            "right": null,
            "top": null,
            "visibility": null,
            "width": null
          }
        },
        "6c348b8bc6bd43bbb826d6d0eaa7d277": {
          "model_module": "jupyter-leaflet",
          "model_name": "LeafletMapStyleModel",
          "model_module_version": "^0.17",
          "state": {
            "_model_module": "jupyter-leaflet",
            "_model_module_version": "^0.17",
            "_model_name": "LeafletMapStyleModel",
            "_view_count": null,
            "_view_module": "@jupyter-widgets/base",
            "_view_module_version": "1.2.0",
            "_view_name": "StyleView",
            "cursor": "grab"
          }
        },
        "7ad42a5625814554b5c0d34d23630ae4": {
          "model_module": "@jupyter-widgets/controls",
          "model_name": "HBoxModel",
          "model_module_version": "1.5.0",
          "state": {
            "_dom_classes": [],
            "_model_module": "@jupyter-widgets/controls",
            "_model_module_version": "1.5.0",
            "_model_name": "HBoxModel",
            "_view_count": null,
            "_view_module": "@jupyter-widgets/controls",
            "_view_module_version": "1.5.0",
            "_view_name": "HBoxView",
            "box_style": "",
            "children": [
              "IPY_MODEL_243dd63da31043409efe17e981ef6e92"
            ],
            "layout": "IPY_MODEL_3db8ac78d8514a0b9de089343bef278e"
          }
        },
        "d88e1ad2a63947738b0fa3c812e0c683": {
          "model_module": "@jupyter-widgets/controls",
          "model_name": "VBoxModel",
          "model_module_version": "1.5.0",
          "state": {
            "_dom_classes": [],
            "_model_module": "@jupyter-widgets/controls",
            "_model_module_version": "1.5.0",
            "_model_name": "VBoxModel",
            "_view_count": null,
            "_view_module": "@jupyter-widgets/controls",
            "_view_module_version": "1.5.0",
            "_view_name": "VBoxView",
            "box_style": "",
            "children": [
              "IPY_MODEL_39f29f3a47a24a94a86cf1074d3199f1"
            ],
            "layout": "IPY_MODEL_d0c222f9e6e0454384e73b32199ef3a5"
          }
        },
        "243dd63da31043409efe17e981ef6e92": {
          "model_module": "@jupyter-widgets/controls",
          "model_name": "ToggleButtonModel",
          "model_module_version": "1.5.0",
          "state": {
            "_dom_classes": [],
            "_model_module": "@jupyter-widgets/controls",
            "_model_module_version": "1.5.0",
            "_model_name": "ToggleButtonModel",
            "_view_count": null,
            "_view_module": "@jupyter-widgets/controls",
            "_view_module_version": "1.5.0",
            "_view_name": "ToggleButtonView",
            "button_style": "",
            "description": "",
            "description_tooltip": null,
            "disabled": false,
            "icon": "globe",
            "layout": "IPY_MODEL_970a20b40a63422c944bb57ac7950dbf",
            "style": "IPY_MODEL_2b2e9ee550654e228cd52c23ac489a7d",
            "tooltip": "Search location/data",
            "value": false
          }
        },
        "3db8ac78d8514a0b9de089343bef278e": {
          "model_module": "@jupyter-widgets/base",
          "model_name": "LayoutModel",
          "model_module_version": "1.2.0",
          "state": {
            "_model_module": "@jupyter-widgets/base",
            "_model_module_version": "1.2.0",
            "_model_name": "LayoutModel",
            "_view_count": null,
            "_view_module": "@jupyter-widgets/base",
            "_view_module_version": "1.2.0",
            "_view_name": "LayoutView",
            "align_content": null,
            "align_items": null,
            "align_self": null,
            "border": null,
            "bottom": null,
            "display": null,
            "flex": null,
            "flex_flow": null,
            "grid_area": null,
            "grid_auto_columns": null,
            "grid_auto_flow": null,
            "grid_auto_rows": null,
            "grid_column": null,
            "grid_gap": null,
            "grid_row": null,
            "grid_template_areas": null,
            "grid_template_columns": null,
            "grid_template_rows": null,
            "height": null,
            "justify_content": null,
            "justify_items": null,
            "left": null,
            "margin": null,
            "max_height": null,
            "max_width": null,
            "min_height": null,
            "min_width": null,
            "object_fit": null,
            "object_position": null,
            "order": null,
            "overflow": null,
            "overflow_x": null,
            "overflow_y": null,
            "padding": null,
            "right": null,
            "top": null,
            "visibility": null,
            "width": null
          }
        },
        "39f29f3a47a24a94a86cf1074d3199f1": {
          "model_module": "@jupyter-widgets/controls",
          "model_name": "ToggleButtonModel",
          "model_module_version": "1.5.0",
          "state": {
            "_dom_classes": [],
            "_model_module": "@jupyter-widgets/controls",
            "_model_module_version": "1.5.0",
            "_model_name": "ToggleButtonModel",
            "_view_count": null,
            "_view_module": "@jupyter-widgets/controls",
            "_view_module_version": "1.5.0",
            "_view_name": "ToggleButtonView",
            "button_style": "",
            "description": "",
            "description_tooltip": null,
            "disabled": false,
            "icon": "wrench",
            "layout": "IPY_MODEL_6242961d474046f7aca63a0e5a3500de",
            "style": "IPY_MODEL_7498c11ca3a04119bfb50260498500b9",
            "tooltip": "Toolbar",
            "value": false
          }
        },
        "d0c222f9e6e0454384e73b32199ef3a5": {
          "model_module": "@jupyter-widgets/base",
          "model_name": "LayoutModel",
          "model_module_version": "1.2.0",
          "state": {
            "_model_module": "@jupyter-widgets/base",
            "_model_module_version": "1.2.0",
            "_model_name": "LayoutModel",
            "_view_count": null,
            "_view_module": "@jupyter-widgets/base",
            "_view_module_version": "1.2.0",
            "_view_name": "LayoutView",
            "align_content": null,
            "align_items": null,
            "align_self": null,
            "border": null,
            "bottom": null,
            "display": null,
            "flex": null,
            "flex_flow": null,
            "grid_area": null,
            "grid_auto_columns": null,
            "grid_auto_flow": null,
            "grid_auto_rows": null,
            "grid_column": null,
            "grid_gap": null,
            "grid_row": null,
            "grid_template_areas": null,
            "grid_template_columns": null,
            "grid_template_rows": null,
            "height": null,
            "justify_content": null,
            "justify_items": null,
            "left": null,
            "margin": null,
            "max_height": null,
            "max_width": null,
            "min_height": null,
            "min_width": null,
            "object_fit": null,
            "object_position": null,
            "order": null,
            "overflow": null,
            "overflow_x": null,
            "overflow_y": null,
            "padding": null,
            "right": null,
            "top": null,
            "visibility": null,
            "width": null
          }
        },
        "970a20b40a63422c944bb57ac7950dbf": {
          "model_module": "@jupyter-widgets/base",
          "model_name": "LayoutModel",
          "model_module_version": "1.2.0",
          "state": {
            "_model_module": "@jupyter-widgets/base",
            "_model_module_version": "1.2.0",
            "_model_name": "LayoutModel",
            "_view_count": null,
            "_view_module": "@jupyter-widgets/base",
            "_view_module_version": "1.2.0",
            "_view_name": "LayoutView",
            "align_content": null,
            "align_items": null,
            "align_self": null,
            "border": null,
            "bottom": null,
            "display": null,
            "flex": null,
            "flex_flow": null,
            "grid_area": null,
            "grid_auto_columns": null,
            "grid_auto_flow": null,
            "grid_auto_rows": null,
            "grid_column": null,
            "grid_gap": null,
            "grid_row": null,
            "grid_template_areas": null,
            "grid_template_columns": null,
            "grid_template_rows": null,
            "height": "28px",
            "justify_content": null,
            "justify_items": null,
            "left": null,
            "margin": null,
            "max_height": null,
            "max_width": null,
            "min_height": null,
            "min_width": null,
            "object_fit": null,
            "object_position": null,
            "order": null,
            "overflow": null,
            "overflow_x": null,
            "overflow_y": null,
            "padding": "0px 0px 0px 4px",
            "right": null,
            "top": null,
            "visibility": null,
            "width": "28px"
          }
        },
        "2b2e9ee550654e228cd52c23ac489a7d": {
          "model_module": "@jupyter-widgets/controls",
          "model_name": "DescriptionStyleModel",
          "model_module_version": "1.5.0",
          "state": {
            "_model_module": "@jupyter-widgets/controls",
            "_model_module_version": "1.5.0",
            "_model_name": "DescriptionStyleModel",
            "_view_count": null,
            "_view_module": "@jupyter-widgets/base",
            "_view_module_version": "1.2.0",
            "_view_name": "StyleView",
            "description_width": ""
          }
        },
        "6242961d474046f7aca63a0e5a3500de": {
          "model_module": "@jupyter-widgets/base",
          "model_name": "LayoutModel",
          "model_module_version": "1.2.0",
          "state": {
            "_model_module": "@jupyter-widgets/base",
            "_model_module_version": "1.2.0",
            "_model_name": "LayoutModel",
            "_view_count": null,
            "_view_module": "@jupyter-widgets/base",
            "_view_module_version": "1.2.0",
            "_view_name": "LayoutView",
            "align_content": null,
            "align_items": null,
            "align_self": null,
            "border": null,
            "bottom": null,
            "display": null,
            "flex": null,
            "flex_flow": null,
            "grid_area": null,
            "grid_auto_columns": null,
            "grid_auto_flow": null,
            "grid_auto_rows": null,
            "grid_column": null,
            "grid_gap": null,
            "grid_row": null,
            "grid_template_areas": null,
            "grid_template_columns": null,
            "grid_template_rows": null,
            "height": "28px",
            "justify_content": null,
            "justify_items": null,
            "left": null,
            "margin": null,
            "max_height": null,
            "max_width": null,
            "min_height": null,
            "min_width": null,
            "object_fit": null,
            "object_position": null,
            "order": null,
            "overflow": null,
            "overflow_x": null,
            "overflow_y": null,
            "padding": "0px 0px 0px 4px",
            "right": null,
            "top": null,
            "visibility": null,
            "width": "28px"
          }
        },
        "7498c11ca3a04119bfb50260498500b9": {
          "model_module": "@jupyter-widgets/controls",
          "model_name": "DescriptionStyleModel",
          "model_module_version": "1.5.0",
          "state": {
            "_model_module": "@jupyter-widgets/controls",
            "_model_module_version": "1.5.0",
            "_model_name": "DescriptionStyleModel",
            "_view_count": null,
            "_view_module": "@jupyter-widgets/base",
            "_view_module_version": "1.2.0",
            "_view_name": "StyleView",
            "description_width": ""
          }
        },
        "299d1d60e52943bebce116b16e45904f": {
          "model_module": "jupyter-leaflet",
          "model_name": "LeafletMapModel",
          "model_module_version": "^0.17",
          "state": {
            "_dom_classes": [],
            "_model_module": "jupyter-leaflet",
            "_model_module_version": "^0.17",
            "_model_name": "LeafletMapModel",
            "_view_count": null,
            "_view_module": "jupyter-leaflet",
            "_view_module_version": "^0.17",
            "_view_name": "LeafletMapView",
            "bottom": 53891,
            "bounce_at_zoom_limits": true,
            "box_zoom": true,
            "center": [
              31.1493569224881,
              121.42364501953126
            ],
            "close_popup_on_click": true,
            "controls": [
              "IPY_MODEL_cdc22571ba824959ba2080d2e1dd27b7",
              "IPY_MODEL_0fde5bdddcad409d929d0eb9bc321c32",
              "IPY_MODEL_aec9073770fe46b3906048f4f391eefb",
              "IPY_MODEL_13479dcd21bc4684b70ddfc9d9113818",
              "IPY_MODEL_8e309fe0ac1d4d8c8c106c7430f0047c",
              "IPY_MODEL_89abc078efd04b9fad9f9abf457d7b61",
              "IPY_MODEL_d6f0dbbfca054ca592f33a9b2ff47253",
              "IPY_MODEL_c369c4dbf4444e56b684ecc9fa398e25"
            ],
            "crs": {
              "name": "EPSG3857",
              "custom": false
            },
            "default_style": "IPY_MODEL_9d7ebc9ffaff4c5c8c9a9e1d00b21369",
            "double_click_zoom": true,
            "dragging": true,
            "dragging_style": "IPY_MODEL_460df307280f4c18b08c9f79a62a6cee",
            "east": 122.81616210937501,
            "fullscreen": false,
            "inertia": true,
            "inertia_deceleration": 3000,
            "inertia_max_speed": 1500,
            "interpolation": "bilinear",
            "keyboard": true,
            "keyboard_pan_offset": 80,
            "keyboard_zoom_offset": 1,
            "layers": [
              "IPY_MODEL_2b3561bd7748418097042dbc952bd9a1",
              "IPY_MODEL_94dc62c8d83247bdb4aaf793a71aefbf",
              "IPY_MODEL_64b669956d65406c9fdfafaadc4b9530",
              "IPY_MODEL_1b6a8589417c4f46bbed1fe96bb2fa6f",
              "IPY_MODEL_7a859632beed4c27931d8c895b59cbdf"
            ],
            "layout": "IPY_MODEL_3d27277844b14c0ba1dc3638fcfd150a",
            "left": 109239,
            "max_zoom": 24,
            "min_zoom": null,
            "modisdate": "2022-08-22",
            "north": 31.85189834587932,
            "options": [
              "bounce_at_zoom_limits",
              "box_zoom",
              "center",
              "close_popup_on_click",
              "double_click_zoom",
              "dragging",
              "fullscreen",
              "inertia",
              "inertia_deceleration",
              "inertia_max_speed",
              "interpolation",
              "keyboard",
              "keyboard_pan_offset",
              "keyboard_zoom_offset",
              "max_zoom",
              "min_zoom",
              "prefer_canvas",
              "scroll_wheel_zoom",
              "tap",
              "tap_tolerance",
              "touch_zoom",
              "world_copy_jump",
              "zoom",
              "zoom_animation_threshold",
              "zoom_delta",
              "zoom_snap"
            ],
            "panes": {},
            "prefer_canvas": false,
            "right": 110252,
            "scroll_wheel_zoom": true,
            "south": 30.441570071519468,
            "style": "IPY_MODEL_9d7ebc9ffaff4c5c8c9a9e1d00b21369",
            "tap": true,
            "tap_tolerance": 15,
            "top": 53291,
            "touch_zoom": true,
            "west": 120.03387451171876,
            "window_url": "https://msiybd80rtb-496ff2e9c6d22116-0-colab.googleusercontent.com/outputframe.html?vrz=colab-20220822-060049-RC00_469150663",
            "world_copy_jump": false,
            "zoom": 9,
            "zoom_animation_threshold": 4,
            "zoom_delta": 1,
            "zoom_snap": 1
          }
        },
        "cdc22571ba824959ba2080d2e1dd27b7": {
          "model_module": "jupyter-leaflet",
          "model_name": "LeafletWidgetControlModel",
          "model_module_version": "^0.17",
          "state": {
            "_model_module": "jupyter-leaflet",
            "_model_module_version": "^0.17",
            "_model_name": "LeafletWidgetControlModel",
            "_view_count": null,
            "_view_module": "jupyter-leaflet",
            "_view_module_version": "^0.17",
            "_view_name": "LeafletWidgetControlView",
            "max_height": null,
            "max_width": null,
            "min_height": null,
            "min_width": null,
            "options": [
              "position",
              "transparent_bg"
            ],
            "position": "topleft",
            "transparent_bg": false,
            "widget": "IPY_MODEL_4284202671de47d382852ab93e2273d5"
          }
        },
        "0fde5bdddcad409d929d0eb9bc321c32": {
          "model_module": "jupyter-leaflet",
          "model_name": "LeafletZoomControlModel",
          "model_module_version": "^0.17",
          "state": {
            "_model_module": "jupyter-leaflet",
            "_model_module_version": "^0.17",
            "_model_name": "LeafletZoomControlModel",
            "_view_count": null,
            "_view_module": "jupyter-leaflet",
            "_view_module_version": "^0.17",
            "_view_name": "LeafletZoomControlView",
            "options": [
              "position",
              "zoom_in_text",
              "zoom_in_title",
              "zoom_out_text",
              "zoom_out_title"
            ],
            "position": "topleft",
            "zoom_in_text": "+",
            "zoom_in_title": "Zoom in",
            "zoom_out_text": "-",
            "zoom_out_title": "Zoom out"
          }
        },
        "aec9073770fe46b3906048f4f391eefb": {
          "model_module": "jupyter-leaflet",
          "model_name": "LeafletScaleControlModel",
          "model_module_version": "^0.17",
          "state": {
            "_model_module": "jupyter-leaflet",
            "_model_module_version": "^0.17",
            "_model_name": "LeafletScaleControlModel",
            "_view_count": null,
            "_view_module": "jupyter-leaflet",
            "_view_module_version": "^0.17",
            "_view_name": "LeafletScaleControlView",
            "imperial": true,
            "max_width": 100,
            "metric": true,
            "options": [
              "imperial",
              "max_width",
              "metric",
              "position",
              "update_when_idle"
            ],
            "position": "bottomleft",
            "update_when_idle": false
          }
        },
        "13479dcd21bc4684b70ddfc9d9113818": {
          "model_module": "jupyter-leaflet",
          "model_name": "LeafletFullScreenControlModel",
          "model_module_version": "^0.17",
          "state": {
            "_model_module": "jupyter-leaflet",
            "_model_module_version": "^0.17",
            "_model_name": "LeafletFullScreenControlModel",
            "_view_count": null,
            "_view_module": "jupyter-leaflet",
            "_view_module_version": "^0.17",
            "_view_name": "LeafletFullScreenControlView",
            "options": [
              "position"
            ],
            "position": "topleft"
          }
        },
        "8e309fe0ac1d4d8c8c106c7430f0047c": {
          "model_module": "jupyter-leaflet",
          "model_name": "LeafletMeasureControlModel",
          "model_module_version": "^0.17",
          "state": {
            "_custom_units": {},
            "_model_module": "jupyter-leaflet",
            "_model_module_version": "^0.17",
            "_model_name": "LeafletMeasureControlModel",
            "_view_count": null,
            "_view_module": "jupyter-leaflet",
            "_view_module_version": "^0.17",
            "_view_name": "LeafletMeasureControlView",
            "active_color": "orange",
            "capture_z_index": 10000,
            "completed_color": "#C8F2BE",
            "options": [
              "active_color",
              "capture_z_index",
              "completed_color",
              "popup_options",
              "position",
              "primary_area_unit",
              "primary_length_unit",
              "secondary_area_unit",
              "secondary_length_unit"
            ],
            "popup_options": {
              "className": "leaflet-measure-resultpopup",
              "autoPanPadding": [
                10,
                10
              ]
            },
            "position": "bottomleft",
            "primary_area_unit": "acres",
            "primary_length_unit": "kilometers",
            "secondary_area_unit": null,
            "secondary_length_unit": null
          }
        },
        "89abc078efd04b9fad9f9abf457d7b61": {
          "model_module": "jupyter-leaflet",
          "model_name": "LeafletAttributionControlModel",
          "model_module_version": "^0.17",
          "state": {
            "_model_module": "jupyter-leaflet",
            "_model_module_version": "^0.17",
            "_model_name": "LeafletAttributionControlModel",
            "_view_count": null,
            "_view_module": "jupyter-leaflet",
            "_view_module_version": "^0.17",
            "_view_name": "LeafletAttributionControlView",
            "options": [
              "position",
              "prefix"
            ],
            "position": "bottomright",
            "prefix": "ipyleaflet"
          }
        },
        "d6f0dbbfca054ca592f33a9b2ff47253": {
          "model_module": "jupyter-leaflet",
          "model_name": "LeafletDrawControlModel",
          "model_module_version": "^0.17",
          "state": {
            "_model_module": "jupyter-leaflet",
            "_model_module_version": "^0.17",
            "_model_name": "LeafletDrawControlModel",
            "_view_count": null,
            "_view_module": "jupyter-leaflet",
            "_view_module_version": "^0.17",
            "_view_name": "LeafletDrawControlView",
            "circle": {
              "shapeOptions": {
                "color": "#3388ff"
              }
            },
            "circlemarker": {},
            "data": [],
            "edit": true,
            "marker": {
              "shapeOptions": {
                "color": "#3388ff"
              }
            },
            "options": [
              "position"
            ],
            "polygon": {
              "shapeOptions": {}
            },
            "polyline": {
              "shapeOptions": {}
            },
            "position": "topleft",
            "rectangle": {
              "shapeOptions": {
                "color": "#3388ff"
              }
            },
            "remove": true
          }
        },
        "c369c4dbf4444e56b684ecc9fa398e25": {
          "model_module": "jupyter-leaflet",
          "model_name": "LeafletWidgetControlModel",
          "model_module_version": "^0.17",
          "state": {
            "_model_module": "jupyter-leaflet",
            "_model_module_version": "^0.17",
            "_model_name": "LeafletWidgetControlModel",
            "_view_count": null,
            "_view_module": "jupyter-leaflet",
            "_view_module_version": "^0.17",
            "_view_name": "LeafletWidgetControlView",
            "max_height": null,
            "max_width": null,
            "min_height": null,
            "min_width": null,
            "options": [
              "position",
              "transparent_bg"
            ],
            "position": "topright",
            "transparent_bg": false,
            "widget": "IPY_MODEL_185aec1c5c3c427e8ef0df9d0cf68647"
          }
        },
        "9d7ebc9ffaff4c5c8c9a9e1d00b21369": {
          "model_module": "jupyter-leaflet",
          "model_name": "LeafletMapStyleModel",
          "model_module_version": "^0.17",
          "state": {
            "_model_module": "jupyter-leaflet",
            "_model_module_version": "^0.17",
            "_model_name": "LeafletMapStyleModel",
            "_view_count": null,
            "_view_module": "@jupyter-widgets/base",
            "_view_module_version": "1.2.0",
            "_view_name": "StyleView",
            "cursor": "grab"
          }
        },
        "460df307280f4c18b08c9f79a62a6cee": {
          "model_module": "jupyter-leaflet",
          "model_name": "LeafletMapStyleModel",
          "model_module_version": "^0.17",
          "state": {
            "_model_module": "jupyter-leaflet",
            "_model_module_version": "^0.17",
            "_model_name": "LeafletMapStyleModel",
            "_view_count": null,
            "_view_module": "@jupyter-widgets/base",
            "_view_module_version": "1.2.0",
            "_view_name": "StyleView",
            "cursor": "move"
          }
        },
        "2b3561bd7748418097042dbc952bd9a1": {
          "model_module": "jupyter-leaflet",
          "model_name": "LeafletTileLayerModel",
          "model_module_version": "^0.17",
          "state": {
            "_model_module": "jupyter-leaflet",
            "_model_module_version": "^0.17",
            "_model_name": "LeafletTileLayerModel",
            "_view_count": null,
            "_view_module": "jupyter-leaflet",
            "_view_module_version": "^0.17",
            "_view_name": "LeafletTileLayerView",
            "attribution": "&copy; <a href=\"https://www.openstreetmap.org/copyright\">OpenStreetMap</a> contributors",
            "base": true,
            "bottom": true,
            "bounds": null,
            "detect_retina": false,
            "loading": false,
            "max_native_zoom": null,
            "max_zoom": 19,
            "min_native_zoom": null,
            "min_zoom": 1,
            "name": "OpenStreetMap.Mapnik",
            "no_wrap": false,
            "opacity": 1,
            "options": [
              "attribution",
              "bounds",
              "detect_retina",
              "max_native_zoom",
              "max_zoom",
              "min_native_zoom",
              "min_zoom",
              "no_wrap",
              "tile_size",
              "tms",
              "zoom_offset"
            ],
            "pane": "",
            "popup": null,
            "popup_max_height": null,
            "popup_max_width": 300,
            "popup_min_width": 50,
            "show_loading": false,
            "tile_size": 256,
            "tms": false,
            "url": "https://a.tile.openstreetmap.org/{z}/{x}/{y}.png",
            "visible": true,
            "zoom_offset": 0
          }
        },
        "64b669956d65406c9fdfafaadc4b9530": {
          "model_module": "jupyter-leaflet",
          "model_name": "LeafletTileLayerModel",
          "model_module_version": "^0.17",
          "state": {
            "_model_module": "jupyter-leaflet",
            "_model_module_version": "^0.17",
            "_model_name": "LeafletTileLayerModel",
            "_view_count": null,
            "_view_module": "jupyter-leaflet",
            "_view_module_version": "^0.17",
            "_view_name": "LeafletTileLayerView",
            "attribution": "Google Earth Engine",
            "base": false,
            "bottom": true,
            "bounds": null,
            "detect_retina": false,
            "loading": false,
            "max_native_zoom": null,
            "max_zoom": 24,
            "min_native_zoom": null,
            "min_zoom": 0,
            "name": "Urban 2004",
            "no_wrap": false,
            "opacity": 1,
            "options": [
              "attribution",
              "bounds",
              "detect_retina",
              "max_native_zoom",
              "max_zoom",
              "min_native_zoom",
              "min_zoom",
              "no_wrap",
              "tile_size",
              "tms",
              "zoom_offset"
            ],
            "pane": "",
            "popup": null,
            "popup_max_height": null,
            "popup_max_width": 300,
            "popup_min_width": 50,
            "show_loading": false,
            "tile_size": 256,
            "tms": false,
            "url": "https://earthengine.googleapis.com/v1alpha/projects/earthengine-legacy/maps/ce6c11bd34b9157c5b5fb82ba78a314b-d2bc22ee130162376e56cbfb426b26a7/tiles/{z}/{x}/{y}",
            "visible": true,
            "zoom_offset": 0
          }
        },
        "1b6a8589417c4f46bbed1fe96bb2fa6f": {
          "model_module": "jupyter-leaflet",
          "model_name": "LeafletTileLayerModel",
          "model_module_version": "^0.17",
          "state": {
            "_model_module": "jupyter-leaflet",
            "_model_module_version": "^0.17",
            "_model_name": "LeafletTileLayerModel",
            "_view_count": null,
            "_view_module": "jupyter-leaflet",
            "_view_module_version": "^0.17",
            "_view_name": "LeafletTileLayerView",
            "attribution": "Google Earth Engine",
            "base": false,
            "bottom": true,
            "bounds": null,
            "detect_retina": false,
            "loading": false,
            "max_native_zoom": null,
            "max_zoom": 24,
            "min_native_zoom": null,
            "min_zoom": 0,
            "name": "Urban 2010",
            "no_wrap": false,
            "opacity": 1,
            "options": [
              "attribution",
              "bounds",
              "detect_retina",
              "max_native_zoom",
              "max_zoom",
              "min_native_zoom",
              "min_zoom",
              "no_wrap",
              "tile_size",
              "tms",
              "zoom_offset"
            ],
            "pane": "",
            "popup": null,
            "popup_max_height": null,
            "popup_max_width": 300,
            "popup_min_width": 50,
            "show_loading": false,
            "tile_size": 256,
            "tms": false,
            "url": "https://earthengine.googleapis.com/v1alpha/projects/earthengine-legacy/maps/057ea11590c3614eb4e1511a564f1bd9-5ae1ace14c8d2478a27b2b844552bbea/tiles/{z}/{x}/{y}",
            "visible": true,
            "zoom_offset": 0
          }
        },
        "7a859632beed4c27931d8c895b59cbdf": {
          "model_module": "jupyter-leaflet",
          "model_name": "LeafletTileLayerModel",
          "model_module_version": "^0.17",
          "state": {
            "_model_module": "jupyter-leaflet",
            "_model_module_version": "^0.17",
            "_model_name": "LeafletTileLayerModel",
            "_view_count": null,
            "_view_module": "jupyter-leaflet",
            "_view_module_version": "^0.17",
            "_view_name": "LeafletTileLayerView",
            "attribution": "Google Earth Engine",
            "base": false,
            "bottom": true,
            "bounds": null,
            "detect_retina": false,
            "loading": false,
            "max_native_zoom": null,
            "max_zoom": 24,
            "min_native_zoom": null,
            "min_zoom": 0,
            "name": "Urban 2018",
            "no_wrap": false,
            "opacity": 1,
            "options": [
              "attribution",
              "bounds",
              "detect_retina",
              "max_native_zoom",
              "max_zoom",
              "min_native_zoom",
              "min_zoom",
              "no_wrap",
              "tile_size",
              "tms",
              "zoom_offset"
            ],
            "pane": "",
            "popup": null,
            "popup_max_height": null,
            "popup_max_width": 300,
            "popup_min_width": 50,
            "show_loading": false,
            "tile_size": 256,
            "tms": false,
            "url": "https://earthengine.googleapis.com/v1alpha/projects/earthengine-legacy/maps/4a39f2bccc3667e260afab954cbaf239-39c60ce46684d682b46907bfdd14f7ce/tiles/{z}/{x}/{y}",
            "visible": true,
            "zoom_offset": 0
          }
        },
        "3d27277844b14c0ba1dc3638fcfd150a": {
          "model_module": "@jupyter-widgets/base",
          "model_name": "LayoutModel",
          "model_module_version": "1.2.0",
          "state": {
            "_model_module": "@jupyter-widgets/base",
            "_model_module_version": "1.2.0",
            "_model_name": "LayoutModel",
            "_view_count": null,
            "_view_module": "@jupyter-widgets/base",
            "_view_module_version": "1.2.0",
            "_view_name": "LayoutView",
            "align_content": null,
            "align_items": null,
            "align_self": null,
            "border": null,
            "bottom": null,
            "display": null,
            "flex": null,
            "flex_flow": null,
            "grid_area": null,
            "grid_auto_columns": null,
            "grid_auto_flow": null,
            "grid_auto_rows": null,
            "grid_column": null,
            "grid_gap": null,
            "grid_row": null,
            "grid_template_areas": null,
            "grid_template_columns": null,
            "grid_template_rows": null,
            "height": "600px",
            "justify_content": null,
            "justify_items": null,
            "left": null,
            "margin": null,
            "max_height": null,
            "max_width": null,
            "min_height": null,
            "min_width": null,
            "object_fit": null,
            "object_position": null,
            "order": null,
            "overflow": null,
            "overflow_x": null,
            "overflow_y": null,
            "padding": null,
            "right": null,
            "top": null,
            "visibility": null,
            "width": null
          }
        },
        "45d4e7a73f044952a4875b172648bf0c": {
          "model_module": "jupyter-leaflet",
          "model_name": "LeafletMapStyleModel",
          "model_module_version": "^0.17",
          "state": {
            "_model_module": "jupyter-leaflet",
            "_model_module_version": "^0.17",
            "_model_name": "LeafletMapStyleModel",
            "_view_count": null,
            "_view_module": "@jupyter-widgets/base",
            "_view_module_version": "1.2.0",
            "_view_name": "StyleView",
            "cursor": "grab"
          }
        },
        "4284202671de47d382852ab93e2273d5": {
          "model_module": "@jupyter-widgets/controls",
          "model_name": "HBoxModel",
          "model_module_version": "1.5.0",
          "state": {
            "_dom_classes": [],
            "_model_module": "@jupyter-widgets/controls",
            "_model_module_version": "1.5.0",
            "_model_name": "HBoxModel",
            "_view_count": null,
            "_view_module": "@jupyter-widgets/controls",
            "_view_module_version": "1.5.0",
            "_view_name": "HBoxView",
            "box_style": "",
            "children": [
              "IPY_MODEL_a80f80e359e84cb1b853b4b7e1d37f32"
            ],
            "layout": "IPY_MODEL_6c443d35e9344b348ceb22969597f19e"
          }
        },
        "185aec1c5c3c427e8ef0df9d0cf68647": {
          "model_module": "@jupyter-widgets/controls",
          "model_name": "VBoxModel",
          "model_module_version": "1.5.0",
          "state": {
            "_dom_classes": [],
            "_model_module": "@jupyter-widgets/controls",
            "_model_module_version": "1.5.0",
            "_model_name": "VBoxModel",
            "_view_count": null,
            "_view_module": "@jupyter-widgets/controls",
            "_view_module_version": "1.5.0",
            "_view_name": "VBoxView",
            "box_style": "",
            "children": [
              "IPY_MODEL_9ff6e9d8092e4324ab753481a4d1f5f8"
            ],
            "layout": "IPY_MODEL_c3a41fc885bd47db86fd9a563dc5d8e1"
          }
        },
        "a80f80e359e84cb1b853b4b7e1d37f32": {
          "model_module": "@jupyter-widgets/controls",
          "model_name": "ToggleButtonModel",
          "model_module_version": "1.5.0",
          "state": {
            "_dom_classes": [],
            "_model_module": "@jupyter-widgets/controls",
            "_model_module_version": "1.5.0",
            "_model_name": "ToggleButtonModel",
            "_view_count": null,
            "_view_module": "@jupyter-widgets/controls",
            "_view_module_version": "1.5.0",
            "_view_name": "ToggleButtonView",
            "button_style": "",
            "description": "",
            "description_tooltip": null,
            "disabled": false,
            "icon": "globe",
            "layout": "IPY_MODEL_45d19270b94b477db5b6a6b914d59686",
            "style": "IPY_MODEL_7bfaeae3807f432aa3f7309d4bd10df9",
            "tooltip": "Search location/data",
            "value": false
          }
        },
        "6c443d35e9344b348ceb22969597f19e": {
          "model_module": "@jupyter-widgets/base",
          "model_name": "LayoutModel",
          "model_module_version": "1.2.0",
          "state": {
            "_model_module": "@jupyter-widgets/base",
            "_model_module_version": "1.2.0",
            "_model_name": "LayoutModel",
            "_view_count": null,
            "_view_module": "@jupyter-widgets/base",
            "_view_module_version": "1.2.0",
            "_view_name": "LayoutView",
            "align_content": null,
            "align_items": null,
            "align_self": null,
            "border": null,
            "bottom": null,
            "display": null,
            "flex": null,
            "flex_flow": null,
            "grid_area": null,
            "grid_auto_columns": null,
            "grid_auto_flow": null,
            "grid_auto_rows": null,
            "grid_column": null,
            "grid_gap": null,
            "grid_row": null,
            "grid_template_areas": null,
            "grid_template_columns": null,
            "grid_template_rows": null,
            "height": null,
            "justify_content": null,
            "justify_items": null,
            "left": null,
            "margin": null,
            "max_height": null,
            "max_width": null,
            "min_height": null,
            "min_width": null,
            "object_fit": null,
            "object_position": null,
            "order": null,
            "overflow": null,
            "overflow_x": null,
            "overflow_y": null,
            "padding": null,
            "right": null,
            "top": null,
            "visibility": null,
            "width": null
          }
        },
        "9ff6e9d8092e4324ab753481a4d1f5f8": {
          "model_module": "@jupyter-widgets/controls",
          "model_name": "ToggleButtonModel",
          "model_module_version": "1.5.0",
          "state": {
            "_dom_classes": [],
            "_model_module": "@jupyter-widgets/controls",
            "_model_module_version": "1.5.0",
            "_model_name": "ToggleButtonModel",
            "_view_count": null,
            "_view_module": "@jupyter-widgets/controls",
            "_view_module_version": "1.5.0",
            "_view_name": "ToggleButtonView",
            "button_style": "",
            "description": "",
            "description_tooltip": null,
            "disabled": false,
            "icon": "wrench",
            "layout": "IPY_MODEL_58ee18ed000644e38007e649a425734f",
            "style": "IPY_MODEL_9d717b7fbe2143058bc3ce8f77c24bdf",
            "tooltip": "Toolbar",
            "value": false
          }
        },
        "c3a41fc885bd47db86fd9a563dc5d8e1": {
          "model_module": "@jupyter-widgets/base",
          "model_name": "LayoutModel",
          "model_module_version": "1.2.0",
          "state": {
            "_model_module": "@jupyter-widgets/base",
            "_model_module_version": "1.2.0",
            "_model_name": "LayoutModel",
            "_view_count": null,
            "_view_module": "@jupyter-widgets/base",
            "_view_module_version": "1.2.0",
            "_view_name": "LayoutView",
            "align_content": null,
            "align_items": null,
            "align_self": null,
            "border": null,
            "bottom": null,
            "display": null,
            "flex": null,
            "flex_flow": null,
            "grid_area": null,
            "grid_auto_columns": null,
            "grid_auto_flow": null,
            "grid_auto_rows": null,
            "grid_column": null,
            "grid_gap": null,
            "grid_row": null,
            "grid_template_areas": null,
            "grid_template_columns": null,
            "grid_template_rows": null,
            "height": null,
            "justify_content": null,
            "justify_items": null,
            "left": null,
            "margin": null,
            "max_height": null,
            "max_width": null,
            "min_height": null,
            "min_width": null,
            "object_fit": null,
            "object_position": null,
            "order": null,
            "overflow": null,
            "overflow_x": null,
            "overflow_y": null,
            "padding": null,
            "right": null,
            "top": null,
            "visibility": null,
            "width": null
          }
        },
        "45d19270b94b477db5b6a6b914d59686": {
          "model_module": "@jupyter-widgets/base",
          "model_name": "LayoutModel",
          "model_module_version": "1.2.0",
          "state": {
            "_model_module": "@jupyter-widgets/base",
            "_model_module_version": "1.2.0",
            "_model_name": "LayoutModel",
            "_view_count": null,
            "_view_module": "@jupyter-widgets/base",
            "_view_module_version": "1.2.0",
            "_view_name": "LayoutView",
            "align_content": null,
            "align_items": null,
            "align_self": null,
            "border": null,
            "bottom": null,
            "display": null,
            "flex": null,
            "flex_flow": null,
            "grid_area": null,
            "grid_auto_columns": null,
            "grid_auto_flow": null,
            "grid_auto_rows": null,
            "grid_column": null,
            "grid_gap": null,
            "grid_row": null,
            "grid_template_areas": null,
            "grid_template_columns": null,
            "grid_template_rows": null,
            "height": "28px",
            "justify_content": null,
            "justify_items": null,
            "left": null,
            "margin": null,
            "max_height": null,
            "max_width": null,
            "min_height": null,
            "min_width": null,
            "object_fit": null,
            "object_position": null,
            "order": null,
            "overflow": null,
            "overflow_x": null,
            "overflow_y": null,
            "padding": "0px 0px 0px 4px",
            "right": null,
            "top": null,
            "visibility": null,
            "width": "28px"
          }
        },
        "7bfaeae3807f432aa3f7309d4bd10df9": {
          "model_module": "@jupyter-widgets/controls",
          "model_name": "DescriptionStyleModel",
          "model_module_version": "1.5.0",
          "state": {
            "_model_module": "@jupyter-widgets/controls",
            "_model_module_version": "1.5.0",
            "_model_name": "DescriptionStyleModel",
            "_view_count": null,
            "_view_module": "@jupyter-widgets/base",
            "_view_module_version": "1.2.0",
            "_view_name": "StyleView",
            "description_width": ""
          }
        },
        "58ee18ed000644e38007e649a425734f": {
          "model_module": "@jupyter-widgets/base",
          "model_name": "LayoutModel",
          "model_module_version": "1.2.0",
          "state": {
            "_model_module": "@jupyter-widgets/base",
            "_model_module_version": "1.2.0",
            "_model_name": "LayoutModel",
            "_view_count": null,
            "_view_module": "@jupyter-widgets/base",
            "_view_module_version": "1.2.0",
            "_view_name": "LayoutView",
            "align_content": null,
            "align_items": null,
            "align_self": null,
            "border": null,
            "bottom": null,
            "display": null,
            "flex": null,
            "flex_flow": null,
            "grid_area": null,
            "grid_auto_columns": null,
            "grid_auto_flow": null,
            "grid_auto_rows": null,
            "grid_column": null,
            "grid_gap": null,
            "grid_row": null,
            "grid_template_areas": null,
            "grid_template_columns": null,
            "grid_template_rows": null,
            "height": "28px",
            "justify_content": null,
            "justify_items": null,
            "left": null,
            "margin": null,
            "max_height": null,
            "max_width": null,
            "min_height": null,
            "min_width": null,
            "object_fit": null,
            "object_position": null,
            "order": null,
            "overflow": null,
            "overflow_x": null,
            "overflow_y": null,
            "padding": "0px 0px 0px 4px",
            "right": null,
            "top": null,
            "visibility": null,
            "width": "28px"
          }
        },
        "9d717b7fbe2143058bc3ce8f77c24bdf": {
          "model_module": "@jupyter-widgets/controls",
          "model_name": "DescriptionStyleModel",
          "model_module_version": "1.5.0",
          "state": {
            "_model_module": "@jupyter-widgets/controls",
            "_model_module_version": "1.5.0",
            "_model_name": "DescriptionStyleModel",
            "_view_count": null,
            "_view_module": "@jupyter-widgets/base",
            "_view_module_version": "1.2.0",
            "_view_name": "StyleView",
            "description_width": ""
          }
        },
        "5105b62f67154997ac4de879136893de": {
          "model_module": "jupyter-leaflet",
          "model_name": "LeafletMapModel",
          "model_module_version": "^0.17",
          "state": {
            "_dom_classes": [],
            "_model_module": "jupyter-leaflet",
            "_model_module_version": "^0.17",
            "_model_name": "LeafletMapModel",
            "_view_count": null,
            "_view_module": "jupyter-leaflet",
            "_view_module_version": "^0.17",
            "_view_name": "LeafletMapView",
            "bottom": 53932,
            "bounce_at_zoom_limits": true,
            "box_zoom": true,
            "center": [
              31.052933985705163,
              121.11602783203126
            ],
            "close_popup_on_click": true,
            "controls": [
              "IPY_MODEL_da69e37ebfe748d18d1c128b2125e18b",
              "IPY_MODEL_8fadd28652dd4954b8c313ffc6de8164",
              "IPY_MODEL_c1fe7367bb3e40b8bd8f41d82ad6f13d",
              "IPY_MODEL_592f1e0183d84627be9b0bf97e923a30",
              "IPY_MODEL_b654187afbbb4eac91abda87c2217402",
              "IPY_MODEL_04b0f55ad9e04e439e142a9860d98020",
              "IPY_MODEL_7d5c457ed8c1478baaf9d1c9c2f91bad",
              "IPY_MODEL_c2450e5ffae94d1a9d39b12b28d14345"
            ],
            "crs": {
              "name": "EPSG3857",
              "custom": false
            },
            "default_style": "IPY_MODEL_436b80faa0af45b5b72c93c501963997",
            "double_click_zoom": true,
            "dragging": true,
            "dragging_style": "IPY_MODEL_422f1d0c01754807a452578d88df4806",
            "east": 122.50854492187501,
            "fullscreen": false,
            "inertia": true,
            "inertia_deceleration": 3000,
            "inertia_max_speed": 1500,
            "interpolation": "bilinear",
            "keyboard": true,
            "keyboard_pan_offset": 80,
            "keyboard_zoom_offset": 1,
            "layers": [
              "IPY_MODEL_6a507113fe494b9b8056531579fc3feb",
              "IPY_MODEL_94dc62c8d83247bdb4aaf793a71aefbf",
              "IPY_MODEL_705ba48c070a4750b1f9e0984e122e0b"
            ],
            "layout": "IPY_MODEL_c1db3e21f7904e93ac825de7cb3d6fb4",
            "left": 109127,
            "max_zoom": 24,
            "min_zoom": null,
            "modisdate": "2022-08-22",
            "north": 31.75619625757135,
            "options": [
              "bounce_at_zoom_limits",
              "box_zoom",
              "center",
              "close_popup_on_click",
              "double_click_zoom",
              "dragging",
              "fullscreen",
              "inertia",
              "inertia_deceleration",
              "inertia_max_speed",
              "interpolation",
              "keyboard",
              "keyboard_pan_offset",
              "keyboard_zoom_offset",
              "max_zoom",
              "min_zoom",
              "prefer_canvas",
              "scroll_wheel_zoom",
              "tap",
              "tap_tolerance",
              "touch_zoom",
              "world_copy_jump",
              "zoom",
              "zoom_animation_threshold",
              "zoom_delta",
              "zoom_snap"
            ],
            "panes": {},
            "prefer_canvas": false,
            "right": 110140,
            "scroll_wheel_zoom": true,
            "south": 30.344435586368462,
            "style": "IPY_MODEL_436b80faa0af45b5b72c93c501963997",
            "tap": true,
            "tap_tolerance": 15,
            "top": 53332,
            "touch_zoom": true,
            "west": 119.72625732421876,
            "window_url": "https://msiybd80rtb-496ff2e9c6d22116-0-colab.googleusercontent.com/outputframe.html?vrz=colab-20220822-060049-RC00_469150663",
            "world_copy_jump": false,
            "zoom": 9,
            "zoom_animation_threshold": 4,
            "zoom_delta": 1,
            "zoom_snap": 1
          }
        },
        "da69e37ebfe748d18d1c128b2125e18b": {
          "model_module": "jupyter-leaflet",
          "model_name": "LeafletWidgetControlModel",
          "model_module_version": "^0.17",
          "state": {
            "_model_module": "jupyter-leaflet",
            "_model_module_version": "^0.17",
            "_model_name": "LeafletWidgetControlModel",
            "_view_count": null,
            "_view_module": "jupyter-leaflet",
            "_view_module_version": "^0.17",
            "_view_name": "LeafletWidgetControlView",
            "max_height": null,
            "max_width": null,
            "min_height": null,
            "min_width": null,
            "options": [
              "position",
              "transparent_bg"
            ],
            "position": "topleft",
            "transparent_bg": false,
            "widget": "IPY_MODEL_fb9f4992cce74008b1f0bc3662580d43"
          }
        },
        "8fadd28652dd4954b8c313ffc6de8164": {
          "model_module": "jupyter-leaflet",
          "model_name": "LeafletZoomControlModel",
          "model_module_version": "^0.17",
          "state": {
            "_model_module": "jupyter-leaflet",
            "_model_module_version": "^0.17",
            "_model_name": "LeafletZoomControlModel",
            "_view_count": null,
            "_view_module": "jupyter-leaflet",
            "_view_module_version": "^0.17",
            "_view_name": "LeafletZoomControlView",
            "options": [
              "position",
              "zoom_in_text",
              "zoom_in_title",
              "zoom_out_text",
              "zoom_out_title"
            ],
            "position": "topleft",
            "zoom_in_text": "+",
            "zoom_in_title": "Zoom in",
            "zoom_out_text": "-",
            "zoom_out_title": "Zoom out"
          }
        },
        "c1fe7367bb3e40b8bd8f41d82ad6f13d": {
          "model_module": "jupyter-leaflet",
          "model_name": "LeafletScaleControlModel",
          "model_module_version": "^0.17",
          "state": {
            "_model_module": "jupyter-leaflet",
            "_model_module_version": "^0.17",
            "_model_name": "LeafletScaleControlModel",
            "_view_count": null,
            "_view_module": "jupyter-leaflet",
            "_view_module_version": "^0.17",
            "_view_name": "LeafletScaleControlView",
            "imperial": true,
            "max_width": 100,
            "metric": true,
            "options": [
              "imperial",
              "max_width",
              "metric",
              "position",
              "update_when_idle"
            ],
            "position": "bottomleft",
            "update_when_idle": false
          }
        },
        "592f1e0183d84627be9b0bf97e923a30": {
          "model_module": "jupyter-leaflet",
          "model_name": "LeafletFullScreenControlModel",
          "model_module_version": "^0.17",
          "state": {
            "_model_module": "jupyter-leaflet",
            "_model_module_version": "^0.17",
            "_model_name": "LeafletFullScreenControlModel",
            "_view_count": null,
            "_view_module": "jupyter-leaflet",
            "_view_module_version": "^0.17",
            "_view_name": "LeafletFullScreenControlView",
            "options": [
              "position"
            ],
            "position": "topleft"
          }
        },
        "b654187afbbb4eac91abda87c2217402": {
          "model_module": "jupyter-leaflet",
          "model_name": "LeafletMeasureControlModel",
          "model_module_version": "^0.17",
          "state": {
            "_custom_units": {},
            "_model_module": "jupyter-leaflet",
            "_model_module_version": "^0.17",
            "_model_name": "LeafletMeasureControlModel",
            "_view_count": null,
            "_view_module": "jupyter-leaflet",
            "_view_module_version": "^0.17",
            "_view_name": "LeafletMeasureControlView",
            "active_color": "orange",
            "capture_z_index": 10000,
            "completed_color": "#C8F2BE",
            "options": [
              "active_color",
              "capture_z_index",
              "completed_color",
              "popup_options",
              "position",
              "primary_area_unit",
              "primary_length_unit",
              "secondary_area_unit",
              "secondary_length_unit"
            ],
            "popup_options": {
              "className": "leaflet-measure-resultpopup",
              "autoPanPadding": [
                10,
                10
              ]
            },
            "position": "bottomleft",
            "primary_area_unit": "acres",
            "primary_length_unit": "kilometers",
            "secondary_area_unit": null,
            "secondary_length_unit": null
          }
        },
        "04b0f55ad9e04e439e142a9860d98020": {
          "model_module": "jupyter-leaflet",
          "model_name": "LeafletAttributionControlModel",
          "model_module_version": "^0.17",
          "state": {
            "_model_module": "jupyter-leaflet",
            "_model_module_version": "^0.17",
            "_model_name": "LeafletAttributionControlModel",
            "_view_count": null,
            "_view_module": "jupyter-leaflet",
            "_view_module_version": "^0.17",
            "_view_name": "LeafletAttributionControlView",
            "options": [
              "position",
              "prefix"
            ],
            "position": "bottomright",
            "prefix": "ipyleaflet"
          }
        },
        "7d5c457ed8c1478baaf9d1c9c2f91bad": {
          "model_module": "jupyter-leaflet",
          "model_name": "LeafletDrawControlModel",
          "model_module_version": "^0.17",
          "state": {
            "_model_module": "jupyter-leaflet",
            "_model_module_version": "^0.17",
            "_model_name": "LeafletDrawControlModel",
            "_view_count": null,
            "_view_module": "jupyter-leaflet",
            "_view_module_version": "^0.17",
            "_view_name": "LeafletDrawControlView",
            "circle": {
              "shapeOptions": {
                "color": "#3388ff"
              }
            },
            "circlemarker": {},
            "data": [],
            "edit": true,
            "marker": {
              "shapeOptions": {
                "color": "#3388ff"
              }
            },
            "options": [
              "position"
            ],
            "polygon": {
              "shapeOptions": {}
            },
            "polyline": {
              "shapeOptions": {}
            },
            "position": "topleft",
            "rectangle": {
              "shapeOptions": {
                "color": "#3388ff"
              }
            },
            "remove": true
          }
        },
        "c2450e5ffae94d1a9d39b12b28d14345": {
          "model_module": "jupyter-leaflet",
          "model_name": "LeafletWidgetControlModel",
          "model_module_version": "^0.17",
          "state": {
            "_model_module": "jupyter-leaflet",
            "_model_module_version": "^0.17",
            "_model_name": "LeafletWidgetControlModel",
            "_view_count": null,
            "_view_module": "jupyter-leaflet",
            "_view_module_version": "^0.17",
            "_view_name": "LeafletWidgetControlView",
            "max_height": null,
            "max_width": null,
            "min_height": null,
            "min_width": null,
            "options": [
              "position",
              "transparent_bg"
            ],
            "position": "topright",
            "transparent_bg": false,
            "widget": "IPY_MODEL_34fac363478b4fca8e553b5246875326"
          }
        },
        "436b80faa0af45b5b72c93c501963997": {
          "model_module": "jupyter-leaflet",
          "model_name": "LeafletMapStyleModel",
          "model_module_version": "^0.17",
          "state": {
            "_model_module": "jupyter-leaflet",
            "_model_module_version": "^0.17",
            "_model_name": "LeafletMapStyleModel",
            "_view_count": null,
            "_view_module": "@jupyter-widgets/base",
            "_view_module_version": "1.2.0",
            "_view_name": "StyleView",
            "cursor": "grab"
          }
        },
        "422f1d0c01754807a452578d88df4806": {
          "model_module": "jupyter-leaflet",
          "model_name": "LeafletMapStyleModel",
          "model_module_version": "^0.17",
          "state": {
            "_model_module": "jupyter-leaflet",
            "_model_module_version": "^0.17",
            "_model_name": "LeafletMapStyleModel",
            "_view_count": null,
            "_view_module": "@jupyter-widgets/base",
            "_view_module_version": "1.2.0",
            "_view_name": "StyleView",
            "cursor": "move"
          }
        },
        "6a507113fe494b9b8056531579fc3feb": {
          "model_module": "jupyter-leaflet",
          "model_name": "LeafletTileLayerModel",
          "model_module_version": "^0.17",
          "state": {
            "_model_module": "jupyter-leaflet",
            "_model_module_version": "^0.17",
            "_model_name": "LeafletTileLayerModel",
            "_view_count": null,
            "_view_module": "jupyter-leaflet",
            "_view_module_version": "^0.17",
            "_view_name": "LeafletTileLayerView",
            "attribution": "&copy; <a href=\"https://www.openstreetmap.org/copyright\">OpenStreetMap</a> contributors",
            "base": true,
            "bottom": true,
            "bounds": null,
            "detect_retina": false,
            "loading": false,
            "max_native_zoom": null,
            "max_zoom": 19,
            "min_native_zoom": null,
            "min_zoom": 1,
            "name": "OpenStreetMap.Mapnik",
            "no_wrap": false,
            "opacity": 1,
            "options": [
              "attribution",
              "bounds",
              "detect_retina",
              "max_native_zoom",
              "max_zoom",
              "min_native_zoom",
              "min_zoom",
              "no_wrap",
              "tile_size",
              "tms",
              "zoom_offset"
            ],
            "pane": "",
            "popup": null,
            "popup_max_height": null,
            "popup_max_width": 300,
            "popup_min_width": 50,
            "show_loading": false,
            "tile_size": 256,
            "tms": false,
            "url": "https://a.tile.openstreetmap.org/{z}/{x}/{y}.png",
            "visible": true,
            "zoom_offset": 0
          }
        },
        "705ba48c070a4750b1f9e0984e122e0b": {
          "model_module": "jupyter-leaflet",
          "model_name": "LeafletTileLayerModel",
          "model_module_version": "^0.17",
          "state": {
            "_model_module": "jupyter-leaflet",
            "_model_module_version": "^0.17",
            "_model_name": "LeafletTileLayerModel",
            "_view_count": null,
            "_view_module": "jupyter-leaflet",
            "_view_module_version": "^0.17",
            "_view_name": "LeafletTileLayerView",
            "attribution": "Google Earth Engine",
            "base": false,
            "bottom": true,
            "bounds": null,
            "detect_retina": false,
            "loading": false,
            "max_native_zoom": null,
            "max_zoom": 24,
            "min_native_zoom": null,
            "min_zoom": 0,
            "name": "UHI 2020",
            "no_wrap": false,
            "opacity": 1,
            "options": [
              "attribution",
              "bounds",
              "detect_retina",
              "max_native_zoom",
              "max_zoom",
              "min_native_zoom",
              "min_zoom",
              "no_wrap",
              "tile_size",
              "tms",
              "zoom_offset"
            ],
            "pane": "",
            "popup": null,
            "popup_max_height": null,
            "popup_max_width": 300,
            "popup_min_width": 50,
            "show_loading": false,
            "tile_size": 256,
            "tms": false,
            "url": "https://earthengine.googleapis.com/v1alpha/projects/earthengine-legacy/maps/dc24b52644631a0819c05167f4a99607-76e53c7455097905599b252a6a474da6/tiles/{z}/{x}/{y}",
            "visible": true,
            "zoom_offset": 0
          }
        },
        "c1db3e21f7904e93ac825de7cb3d6fb4": {
          "model_module": "@jupyter-widgets/base",
          "model_name": "LayoutModel",
          "model_module_version": "1.2.0",
          "state": {
            "_model_module": "@jupyter-widgets/base",
            "_model_module_version": "1.2.0",
            "_model_name": "LayoutModel",
            "_view_count": null,
            "_view_module": "@jupyter-widgets/base",
            "_view_module_version": "1.2.0",
            "_view_name": "LayoutView",
            "align_content": null,
            "align_items": null,
            "align_self": null,
            "border": null,
            "bottom": null,
            "display": null,
            "flex": null,
            "flex_flow": null,
            "grid_area": null,
            "grid_auto_columns": null,
            "grid_auto_flow": null,
            "grid_auto_rows": null,
            "grid_column": null,
            "grid_gap": null,
            "grid_row": null,
            "grid_template_areas": null,
            "grid_template_columns": null,
            "grid_template_rows": null,
            "height": "600px",
            "justify_content": null,
            "justify_items": null,
            "left": null,
            "margin": null,
            "max_height": null,
            "max_width": null,
            "min_height": null,
            "min_width": null,
            "object_fit": null,
            "object_position": null,
            "order": null,
            "overflow": null,
            "overflow_x": null,
            "overflow_y": null,
            "padding": null,
            "right": null,
            "top": null,
            "visibility": null,
            "width": null
          }
        },
        "0c3ff7d40cd04929b71f759b36a68683": {
          "model_module": "jupyter-leaflet",
          "model_name": "LeafletMapStyleModel",
          "model_module_version": "^0.17",
          "state": {
            "_model_module": "jupyter-leaflet",
            "_model_module_version": "^0.17",
            "_model_name": "LeafletMapStyleModel",
            "_view_count": null,
            "_view_module": "@jupyter-widgets/base",
            "_view_module_version": "1.2.0",
            "_view_name": "StyleView",
            "cursor": "grab"
          }
        },
        "fb9f4992cce74008b1f0bc3662580d43": {
          "model_module": "@jupyter-widgets/controls",
          "model_name": "HBoxModel",
          "model_module_version": "1.5.0",
          "state": {
            "_dom_classes": [],
            "_model_module": "@jupyter-widgets/controls",
            "_model_module_version": "1.5.0",
            "_model_name": "HBoxModel",
            "_view_count": null,
            "_view_module": "@jupyter-widgets/controls",
            "_view_module_version": "1.5.0",
            "_view_name": "HBoxView",
            "box_style": "",
            "children": [
              "IPY_MODEL_db51c20276ea4fc0b170266e781a3b1a"
            ],
            "layout": "IPY_MODEL_77480bdcc0c6455391b63822b45d3a85"
          }
        },
        "34fac363478b4fca8e553b5246875326": {
          "model_module": "@jupyter-widgets/controls",
          "model_name": "VBoxModel",
          "model_module_version": "1.5.0",
          "state": {
            "_dom_classes": [],
            "_model_module": "@jupyter-widgets/controls",
            "_model_module_version": "1.5.0",
            "_model_name": "VBoxModel",
            "_view_count": null,
            "_view_module": "@jupyter-widgets/controls",
            "_view_module_version": "1.5.0",
            "_view_name": "VBoxView",
            "box_style": "",
            "children": [
              "IPY_MODEL_b90532e1bdfe4921b7b46de0b7837738"
            ],
            "layout": "IPY_MODEL_86bd56f2f6f94ac39dc036d02c506ca9"
          }
        },
        "db51c20276ea4fc0b170266e781a3b1a": {
          "model_module": "@jupyter-widgets/controls",
          "model_name": "ToggleButtonModel",
          "model_module_version": "1.5.0",
          "state": {
            "_dom_classes": [],
            "_model_module": "@jupyter-widgets/controls",
            "_model_module_version": "1.5.0",
            "_model_name": "ToggleButtonModel",
            "_view_count": null,
            "_view_module": "@jupyter-widgets/controls",
            "_view_module_version": "1.5.0",
            "_view_name": "ToggleButtonView",
            "button_style": "",
            "description": "",
            "description_tooltip": null,
            "disabled": false,
            "icon": "globe",
            "layout": "IPY_MODEL_3325236410ad42e5aed54093201ad780",
            "style": "IPY_MODEL_e764bc68312845b9bd0206d253923326",
            "tooltip": "Search location/data",
            "value": false
          }
        },
        "77480bdcc0c6455391b63822b45d3a85": {
          "model_module": "@jupyter-widgets/base",
          "model_name": "LayoutModel",
          "model_module_version": "1.2.0",
          "state": {
            "_model_module": "@jupyter-widgets/base",
            "_model_module_version": "1.2.0",
            "_model_name": "LayoutModel",
            "_view_count": null,
            "_view_module": "@jupyter-widgets/base",
            "_view_module_version": "1.2.0",
            "_view_name": "LayoutView",
            "align_content": null,
            "align_items": null,
            "align_self": null,
            "border": null,
            "bottom": null,
            "display": null,
            "flex": null,
            "flex_flow": null,
            "grid_area": null,
            "grid_auto_columns": null,
            "grid_auto_flow": null,
            "grid_auto_rows": null,
            "grid_column": null,
            "grid_gap": null,
            "grid_row": null,
            "grid_template_areas": null,
            "grid_template_columns": null,
            "grid_template_rows": null,
            "height": null,
            "justify_content": null,
            "justify_items": null,
            "left": null,
            "margin": null,
            "max_height": null,
            "max_width": null,
            "min_height": null,
            "min_width": null,
            "object_fit": null,
            "object_position": null,
            "order": null,
            "overflow": null,
            "overflow_x": null,
            "overflow_y": null,
            "padding": null,
            "right": null,
            "top": null,
            "visibility": null,
            "width": null
          }
        },
        "b90532e1bdfe4921b7b46de0b7837738": {
          "model_module": "@jupyter-widgets/controls",
          "model_name": "ToggleButtonModel",
          "model_module_version": "1.5.0",
          "state": {
            "_dom_classes": [],
            "_model_module": "@jupyter-widgets/controls",
            "_model_module_version": "1.5.0",
            "_model_name": "ToggleButtonModel",
            "_view_count": null,
            "_view_module": "@jupyter-widgets/controls",
            "_view_module_version": "1.5.0",
            "_view_name": "ToggleButtonView",
            "button_style": "",
            "description": "",
            "description_tooltip": null,
            "disabled": false,
            "icon": "wrench",
            "layout": "IPY_MODEL_2c80d49fef484226b8f2c612a3971fa6",
            "style": "IPY_MODEL_dc01761cc313470881bceeeb24d070c9",
            "tooltip": "Toolbar",
            "value": false
          }
        },
        "86bd56f2f6f94ac39dc036d02c506ca9": {
          "model_module": "@jupyter-widgets/base",
          "model_name": "LayoutModel",
          "model_module_version": "1.2.0",
          "state": {
            "_model_module": "@jupyter-widgets/base",
            "_model_module_version": "1.2.0",
            "_model_name": "LayoutModel",
            "_view_count": null,
            "_view_module": "@jupyter-widgets/base",
            "_view_module_version": "1.2.0",
            "_view_name": "LayoutView",
            "align_content": null,
            "align_items": null,
            "align_self": null,
            "border": null,
            "bottom": null,
            "display": null,
            "flex": null,
            "flex_flow": null,
            "grid_area": null,
            "grid_auto_columns": null,
            "grid_auto_flow": null,
            "grid_auto_rows": null,
            "grid_column": null,
            "grid_gap": null,
            "grid_row": null,
            "grid_template_areas": null,
            "grid_template_columns": null,
            "grid_template_rows": null,
            "height": null,
            "justify_content": null,
            "justify_items": null,
            "left": null,
            "margin": null,
            "max_height": null,
            "max_width": null,
            "min_height": null,
            "min_width": null,
            "object_fit": null,
            "object_position": null,
            "order": null,
            "overflow": null,
            "overflow_x": null,
            "overflow_y": null,
            "padding": null,
            "right": null,
            "top": null,
            "visibility": null,
            "width": null
          }
        },
        "3325236410ad42e5aed54093201ad780": {
          "model_module": "@jupyter-widgets/base",
          "model_name": "LayoutModel",
          "model_module_version": "1.2.0",
          "state": {
            "_model_module": "@jupyter-widgets/base",
            "_model_module_version": "1.2.0",
            "_model_name": "LayoutModel",
            "_view_count": null,
            "_view_module": "@jupyter-widgets/base",
            "_view_module_version": "1.2.0",
            "_view_name": "LayoutView",
            "align_content": null,
            "align_items": null,
            "align_self": null,
            "border": null,
            "bottom": null,
            "display": null,
            "flex": null,
            "flex_flow": null,
            "grid_area": null,
            "grid_auto_columns": null,
            "grid_auto_flow": null,
            "grid_auto_rows": null,
            "grid_column": null,
            "grid_gap": null,
            "grid_row": null,
            "grid_template_areas": null,
            "grid_template_columns": null,
            "grid_template_rows": null,
            "height": "28px",
            "justify_content": null,
            "justify_items": null,
            "left": null,
            "margin": null,
            "max_height": null,
            "max_width": null,
            "min_height": null,
            "min_width": null,
            "object_fit": null,
            "object_position": null,
            "order": null,
            "overflow": null,
            "overflow_x": null,
            "overflow_y": null,
            "padding": "0px 0px 0px 4px",
            "right": null,
            "top": null,
            "visibility": null,
            "width": "28px"
          }
        },
        "e764bc68312845b9bd0206d253923326": {
          "model_module": "@jupyter-widgets/controls",
          "model_name": "DescriptionStyleModel",
          "model_module_version": "1.5.0",
          "state": {
            "_model_module": "@jupyter-widgets/controls",
            "_model_module_version": "1.5.0",
            "_model_name": "DescriptionStyleModel",
            "_view_count": null,
            "_view_module": "@jupyter-widgets/base",
            "_view_module_version": "1.2.0",
            "_view_name": "StyleView",
            "description_width": ""
          }
        },
        "2c80d49fef484226b8f2c612a3971fa6": {
          "model_module": "@jupyter-widgets/base",
          "model_name": "LayoutModel",
          "model_module_version": "1.2.0",
          "state": {
            "_model_module": "@jupyter-widgets/base",
            "_model_module_version": "1.2.0",
            "_model_name": "LayoutModel",
            "_view_count": null,
            "_view_module": "@jupyter-widgets/base",
            "_view_module_version": "1.2.0",
            "_view_name": "LayoutView",
            "align_content": null,
            "align_items": null,
            "align_self": null,
            "border": null,
            "bottom": null,
            "display": null,
            "flex": null,
            "flex_flow": null,
            "grid_area": null,
            "grid_auto_columns": null,
            "grid_auto_flow": null,
            "grid_auto_rows": null,
            "grid_column": null,
            "grid_gap": null,
            "grid_row": null,
            "grid_template_areas": null,
            "grid_template_columns": null,
            "grid_template_rows": null,
            "height": "28px",
            "justify_content": null,
            "justify_items": null,
            "left": null,
            "margin": null,
            "max_height": null,
            "max_width": null,
            "min_height": null,
            "min_width": null,
            "object_fit": null,
            "object_position": null,
            "order": null,
            "overflow": null,
            "overflow_x": null,
            "overflow_y": null,
            "padding": "0px 0px 0px 4px",
            "right": null,
            "top": null,
            "visibility": null,
            "width": "28px"
          }
        },
        "dc01761cc313470881bceeeb24d070c9": {
          "model_module": "@jupyter-widgets/controls",
          "model_name": "DescriptionStyleModel",
          "model_module_version": "1.5.0",
          "state": {
            "_model_module": "@jupyter-widgets/controls",
            "_model_module_version": "1.5.0",
            "_model_name": "DescriptionStyleModel",
            "_view_count": null,
            "_view_module": "@jupyter-widgets/base",
            "_view_module_version": "1.2.0",
            "_view_name": "StyleView",
            "description_width": ""
          }
        },
        "e4483a28cb624136849712f08b54c0c4": {
          "model_module": "jupyter-leaflet",
          "model_name": "LeafletMapModel",
          "model_module_version": "^0.17",
          "state": {
            "_dom_classes": [],
            "_model_module": "jupyter-leaflet",
            "_model_module_version": "^0.17",
            "_model_name": "LeafletMapModel",
            "_view_count": null,
            "_view_module": "jupyter-leaflet",
            "_view_module_version": "^0.17",
            "_view_name": "LeafletMapView",
            "bottom": 214468,
            "bounce_at_zoom_limits": true,
            "box_zoom": true,
            "center": [
              31.264465555752835,
              120.72944641113283
            ],
            "close_popup_on_click": true,
            "controls": [
              "IPY_MODEL_3468c30551ab405a840bc8eb12e691bc",
              "IPY_MODEL_c6ce3f4725ae421d9eac45dbddbe9eb6",
              "IPY_MODEL_d7057d1200d74a569fe701b891515787",
              "IPY_MODEL_1b59d3df174340b4bd767ec57259dc44",
              "IPY_MODEL_2f9eedd1a33c47928c7ef777182a7e27",
              "IPY_MODEL_bc8b342c30d34ecf9a4a173e5892b96f",
              "IPY_MODEL_617e36463ff84232ad922cb9a8e9f9c9",
              "IPY_MODEL_f590ab9ea44a4ad187126db05387e1a1"
            ],
            "crs": {
              "name": "EPSG3857",
              "custom": false
            },
            "default_style": "IPY_MODEL_edc43a5c47fc415e98c6e5fa92d62d0c",
            "double_click_zoom": true,
            "dragging": true,
            "dragging_style": "IPY_MODEL_9e10e4eb424c45bcb6ae9a449a0cc0ff",
            "east": 121.07757568359376,
            "fullscreen": false,
            "inertia": true,
            "inertia_deceleration": 3000,
            "inertia_max_speed": 1500,
            "interpolation": "bilinear",
            "keyboard": true,
            "keyboard_pan_offset": 80,
            "keyboard_zoom_offset": 1,
            "layers": [
              "IPY_MODEL_046d7c34c19c441eb5d23be1a3331d96",
              "IPY_MODEL_94dc62c8d83247bdb4aaf793a71aefbf",
              "IPY_MODEL_7633b0de639c45e1abc00d049afef994"
            ],
            "layout": "IPY_MODEL_75e4ecde5ec946f88ca875d2ec08845a",
            "left": 437463,
            "max_zoom": 24,
            "min_zoom": null,
            "modisdate": "2022-08-22",
            "north": 31.440380540593694,
            "options": [
              "bounce_at_zoom_limits",
              "box_zoom",
              "center",
              "close_popup_on_click",
              "double_click_zoom",
              "dragging",
              "fullscreen",
              "inertia",
              "inertia_deceleration",
              "inertia_max_speed",
              "interpolation",
              "keyboard",
              "keyboard_pan_offset",
              "keyboard_zoom_offset",
              "max_zoom",
              "min_zoom",
              "prefer_canvas",
              "scroll_wheel_zoom",
              "tap",
              "tap_tolerance",
              "touch_zoom",
              "world_copy_jump",
              "zoom",
              "zoom_animation_threshold",
              "zoom_delta",
              "zoom_snap"
            ],
            "panes": {},
            "prefer_canvas": false,
            "right": 438476,
            "scroll_wheel_zoom": true,
            "south": 31.088222024691504,
            "style": "IPY_MODEL_edc43a5c47fc415e98c6e5fa92d62d0c",
            "tap": true,
            "tap_tolerance": 15,
            "top": 213868,
            "touch_zoom": true,
            "west": 120.3820037841797,
            "window_url": "https://msiybd80rtb-496ff2e9c6d22116-0-colab.googleusercontent.com/outputframe.html?vrz=colab-20220822-060049-RC00_469150663",
            "world_copy_jump": false,
            "zoom": 11,
            "zoom_animation_threshold": 4,
            "zoom_delta": 1,
            "zoom_snap": 1
          }
        },
        "3468c30551ab405a840bc8eb12e691bc": {
          "model_module": "jupyter-leaflet",
          "model_name": "LeafletWidgetControlModel",
          "model_module_version": "^0.17",
          "state": {
            "_model_module": "jupyter-leaflet",
            "_model_module_version": "^0.17",
            "_model_name": "LeafletWidgetControlModel",
            "_view_count": null,
            "_view_module": "jupyter-leaflet",
            "_view_module_version": "^0.17",
            "_view_name": "LeafletWidgetControlView",
            "max_height": null,
            "max_width": null,
            "min_height": null,
            "min_width": null,
            "options": [
              "position",
              "transparent_bg"
            ],
            "position": "topleft",
            "transparent_bg": false,
            "widget": "IPY_MODEL_fdffcaac8b27473e947e1c07ffa69f2e"
          }
        },
        "c6ce3f4725ae421d9eac45dbddbe9eb6": {
          "model_module": "jupyter-leaflet",
          "model_name": "LeafletZoomControlModel",
          "model_module_version": "^0.17",
          "state": {
            "_model_module": "jupyter-leaflet",
            "_model_module_version": "^0.17",
            "_model_name": "LeafletZoomControlModel",
            "_view_count": null,
            "_view_module": "jupyter-leaflet",
            "_view_module_version": "^0.17",
            "_view_name": "LeafletZoomControlView",
            "options": [
              "position",
              "zoom_in_text",
              "zoom_in_title",
              "zoom_out_text",
              "zoom_out_title"
            ],
            "position": "topleft",
            "zoom_in_text": "+",
            "zoom_in_title": "Zoom in",
            "zoom_out_text": "-",
            "zoom_out_title": "Zoom out"
          }
        },
        "d7057d1200d74a569fe701b891515787": {
          "model_module": "jupyter-leaflet",
          "model_name": "LeafletScaleControlModel",
          "model_module_version": "^0.17",
          "state": {
            "_model_module": "jupyter-leaflet",
            "_model_module_version": "^0.17",
            "_model_name": "LeafletScaleControlModel",
            "_view_count": null,
            "_view_module": "jupyter-leaflet",
            "_view_module_version": "^0.17",
            "_view_name": "LeafletScaleControlView",
            "imperial": true,
            "max_width": 100,
            "metric": true,
            "options": [
              "imperial",
              "max_width",
              "metric",
              "position",
              "update_when_idle"
            ],
            "position": "bottomleft",
            "update_when_idle": false
          }
        },
        "1b59d3df174340b4bd767ec57259dc44": {
          "model_module": "jupyter-leaflet",
          "model_name": "LeafletFullScreenControlModel",
          "model_module_version": "^0.17",
          "state": {
            "_model_module": "jupyter-leaflet",
            "_model_module_version": "^0.17",
            "_model_name": "LeafletFullScreenControlModel",
            "_view_count": null,
            "_view_module": "jupyter-leaflet",
            "_view_module_version": "^0.17",
            "_view_name": "LeafletFullScreenControlView",
            "options": [
              "position"
            ],
            "position": "topleft"
          }
        },
        "2f9eedd1a33c47928c7ef777182a7e27": {
          "model_module": "jupyter-leaflet",
          "model_name": "LeafletMeasureControlModel",
          "model_module_version": "^0.17",
          "state": {
            "_custom_units": {},
            "_model_module": "jupyter-leaflet",
            "_model_module_version": "^0.17",
            "_model_name": "LeafletMeasureControlModel",
            "_view_count": null,
            "_view_module": "jupyter-leaflet",
            "_view_module_version": "^0.17",
            "_view_name": "LeafletMeasureControlView",
            "active_color": "orange",
            "capture_z_index": 10000,
            "completed_color": "#C8F2BE",
            "options": [
              "active_color",
              "capture_z_index",
              "completed_color",
              "popup_options",
              "position",
              "primary_area_unit",
              "primary_length_unit",
              "secondary_area_unit",
              "secondary_length_unit"
            ],
            "popup_options": {
              "className": "leaflet-measure-resultpopup",
              "autoPanPadding": [
                10,
                10
              ]
            },
            "position": "bottomleft",
            "primary_area_unit": "acres",
            "primary_length_unit": "kilometers",
            "secondary_area_unit": null,
            "secondary_length_unit": null
          }
        },
        "bc8b342c30d34ecf9a4a173e5892b96f": {
          "model_module": "jupyter-leaflet",
          "model_name": "LeafletAttributionControlModel",
          "model_module_version": "^0.17",
          "state": {
            "_model_module": "jupyter-leaflet",
            "_model_module_version": "^0.17",
            "_model_name": "LeafletAttributionControlModel",
            "_view_count": null,
            "_view_module": "jupyter-leaflet",
            "_view_module_version": "^0.17",
            "_view_name": "LeafletAttributionControlView",
            "options": [
              "position",
              "prefix"
            ],
            "position": "bottomright",
            "prefix": "ipyleaflet"
          }
        },
        "617e36463ff84232ad922cb9a8e9f9c9": {
          "model_module": "jupyter-leaflet",
          "model_name": "LeafletDrawControlModel",
          "model_module_version": "^0.17",
          "state": {
            "_model_module": "jupyter-leaflet",
            "_model_module_version": "^0.17",
            "_model_name": "LeafletDrawControlModel",
            "_view_count": null,
            "_view_module": "jupyter-leaflet",
            "_view_module_version": "^0.17",
            "_view_name": "LeafletDrawControlView",
            "circle": {
              "shapeOptions": {
                "color": "#3388ff"
              }
            },
            "circlemarker": {},
            "data": [],
            "edit": true,
            "marker": {
              "shapeOptions": {
                "color": "#3388ff"
              }
            },
            "options": [
              "position"
            ],
            "polygon": {
              "shapeOptions": {}
            },
            "polyline": {
              "shapeOptions": {}
            },
            "position": "topleft",
            "rectangle": {
              "shapeOptions": {
                "color": "#3388ff"
              }
            },
            "remove": true
          }
        },
        "f590ab9ea44a4ad187126db05387e1a1": {
          "model_module": "jupyter-leaflet",
          "model_name": "LeafletWidgetControlModel",
          "model_module_version": "^0.17",
          "state": {
            "_model_module": "jupyter-leaflet",
            "_model_module_version": "^0.17",
            "_model_name": "LeafletWidgetControlModel",
            "_view_count": null,
            "_view_module": "jupyter-leaflet",
            "_view_module_version": "^0.17",
            "_view_name": "LeafletWidgetControlView",
            "max_height": null,
            "max_width": null,
            "min_height": null,
            "min_width": null,
            "options": [
              "position",
              "transparent_bg"
            ],
            "position": "topright",
            "transparent_bg": false,
            "widget": "IPY_MODEL_bf664a88544148b9aa6586a7c506f6ad"
          }
        },
        "edc43a5c47fc415e98c6e5fa92d62d0c": {
          "model_module": "jupyter-leaflet",
          "model_name": "LeafletMapStyleModel",
          "model_module_version": "^0.17",
          "state": {
            "_model_module": "jupyter-leaflet",
            "_model_module_version": "^0.17",
            "_model_name": "LeafletMapStyleModel",
            "_view_count": null,
            "_view_module": "@jupyter-widgets/base",
            "_view_module_version": "1.2.0",
            "_view_name": "StyleView",
            "cursor": "grab"
          }
        },
        "9e10e4eb424c45bcb6ae9a449a0cc0ff": {
          "model_module": "jupyter-leaflet",
          "model_name": "LeafletMapStyleModel",
          "model_module_version": "^0.17",
          "state": {
            "_model_module": "jupyter-leaflet",
            "_model_module_version": "^0.17",
            "_model_name": "LeafletMapStyleModel",
            "_view_count": null,
            "_view_module": "@jupyter-widgets/base",
            "_view_module_version": "1.2.0",
            "_view_name": "StyleView",
            "cursor": "move"
          }
        },
        "046d7c34c19c441eb5d23be1a3331d96": {
          "model_module": "jupyter-leaflet",
          "model_name": "LeafletTileLayerModel",
          "model_module_version": "^0.17",
          "state": {
            "_model_module": "jupyter-leaflet",
            "_model_module_version": "^0.17",
            "_model_name": "LeafletTileLayerModel",
            "_view_count": null,
            "_view_module": "jupyter-leaflet",
            "_view_module_version": "^0.17",
            "_view_name": "LeafletTileLayerView",
            "attribution": "&copy; <a href=\"https://www.openstreetmap.org/copyright\">OpenStreetMap</a> contributors",
            "base": true,
            "bottom": true,
            "bounds": null,
            "detect_retina": false,
            "loading": false,
            "max_native_zoom": null,
            "max_zoom": 19,
            "min_native_zoom": null,
            "min_zoom": 1,
            "name": "OpenStreetMap.Mapnik",
            "no_wrap": false,
            "opacity": 1,
            "options": [
              "attribution",
              "bounds",
              "detect_retina",
              "max_native_zoom",
              "max_zoom",
              "min_native_zoom",
              "min_zoom",
              "no_wrap",
              "tile_size",
              "tms",
              "zoom_offset"
            ],
            "pane": "",
            "popup": null,
            "popup_max_height": null,
            "popup_max_width": 300,
            "popup_min_width": 50,
            "show_loading": false,
            "tile_size": 256,
            "tms": false,
            "url": "https://a.tile.openstreetmap.org/{z}/{x}/{y}.png",
            "visible": true,
            "zoom_offset": 0
          }
        },
        "7633b0de639c45e1abc00d049afef994": {
          "model_module": "jupyter-leaflet",
          "model_name": "LeafletTileLayerModel",
          "model_module_version": "^0.17",
          "state": {
            "_model_module": "jupyter-leaflet",
            "_model_module_version": "^0.17",
            "_model_name": "LeafletTileLayerModel",
            "_view_count": null,
            "_view_module": "jupyter-leaflet",
            "_view_module_version": "^0.17",
            "_view_name": "LeafletTileLayerView",
            "attribution": "Google Earth Engine",
            "base": false,
            "bottom": true,
            "bounds": null,
            "detect_retina": false,
            "loading": false,
            "max_native_zoom": null,
            "max_zoom": 24,
            "min_native_zoom": null,
            "min_zoom": 0,
            "name": "Population 2020",
            "no_wrap": false,
            "opacity": 1,
            "options": [
              "attribution",
              "bounds",
              "detect_retina",
              "max_native_zoom",
              "max_zoom",
              "min_native_zoom",
              "min_zoom",
              "no_wrap",
              "tile_size",
              "tms",
              "zoom_offset"
            ],
            "pane": "",
            "popup": null,
            "popup_max_height": null,
            "popup_max_width": 300,
            "popup_min_width": 50,
            "show_loading": false,
            "tile_size": 256,
            "tms": false,
            "url": "https://earthengine.googleapis.com/v1alpha/projects/earthengine-legacy/maps/3635e40980c2b0befaa566f896c7ed53-dbca3d0813d0e86758516c4c7a73c73e/tiles/{z}/{x}/{y}",
            "visible": true,
            "zoom_offset": 0
          }
        },
        "75e4ecde5ec946f88ca875d2ec08845a": {
          "model_module": "@jupyter-widgets/base",
          "model_name": "LayoutModel",
          "model_module_version": "1.2.0",
          "state": {
            "_model_module": "@jupyter-widgets/base",
            "_model_module_version": "1.2.0",
            "_model_name": "LayoutModel",
            "_view_count": null,
            "_view_module": "@jupyter-widgets/base",
            "_view_module_version": "1.2.0",
            "_view_name": "LayoutView",
            "align_content": null,
            "align_items": null,
            "align_self": null,
            "border": null,
            "bottom": null,
            "display": null,
            "flex": null,
            "flex_flow": null,
            "grid_area": null,
            "grid_auto_columns": null,
            "grid_auto_flow": null,
            "grid_auto_rows": null,
            "grid_column": null,
            "grid_gap": null,
            "grid_row": null,
            "grid_template_areas": null,
            "grid_template_columns": null,
            "grid_template_rows": null,
            "height": "600px",
            "justify_content": null,
            "justify_items": null,
            "left": null,
            "margin": null,
            "max_height": null,
            "max_width": null,
            "min_height": null,
            "min_width": null,
            "object_fit": null,
            "object_position": null,
            "order": null,
            "overflow": null,
            "overflow_x": null,
            "overflow_y": null,
            "padding": null,
            "right": null,
            "top": null,
            "visibility": null,
            "width": null
          }
        },
        "7da10b27e8234d0198b61ee09b7849ce": {
          "model_module": "jupyter-leaflet",
          "model_name": "LeafletMapStyleModel",
          "model_module_version": "^0.17",
          "state": {
            "_model_module": "jupyter-leaflet",
            "_model_module_version": "^0.17",
            "_model_name": "LeafletMapStyleModel",
            "_view_count": null,
            "_view_module": "@jupyter-widgets/base",
            "_view_module_version": "1.2.0",
            "_view_name": "StyleView",
            "cursor": "grab"
          }
        },
        "fdffcaac8b27473e947e1c07ffa69f2e": {
          "model_module": "@jupyter-widgets/controls",
          "model_name": "HBoxModel",
          "model_module_version": "1.5.0",
          "state": {
            "_dom_classes": [],
            "_model_module": "@jupyter-widgets/controls",
            "_model_module_version": "1.5.0",
            "_model_name": "HBoxModel",
            "_view_count": null,
            "_view_module": "@jupyter-widgets/controls",
            "_view_module_version": "1.5.0",
            "_view_name": "HBoxView",
            "box_style": "",
            "children": [
              "IPY_MODEL_e58928e8e7ca4b1cb975822cbee89e65"
            ],
            "layout": "IPY_MODEL_4647e7e2605449a9801db2d41f2f9072"
          }
        },
        "bf664a88544148b9aa6586a7c506f6ad": {
          "model_module": "@jupyter-widgets/controls",
          "model_name": "VBoxModel",
          "model_module_version": "1.5.0",
          "state": {
            "_dom_classes": [],
            "_model_module": "@jupyter-widgets/controls",
            "_model_module_version": "1.5.0",
            "_model_name": "VBoxModel",
            "_view_count": null,
            "_view_module": "@jupyter-widgets/controls",
            "_view_module_version": "1.5.0",
            "_view_name": "VBoxView",
            "box_style": "",
            "children": [
              "IPY_MODEL_c830da4ce45f4bc19e8307f5775fa750"
            ],
            "layout": "IPY_MODEL_94335c8e95c74bcda853b78efa21f65f"
          }
        },
        "e58928e8e7ca4b1cb975822cbee89e65": {
          "model_module": "@jupyter-widgets/controls",
          "model_name": "ToggleButtonModel",
          "model_module_version": "1.5.0",
          "state": {
            "_dom_classes": [],
            "_model_module": "@jupyter-widgets/controls",
            "_model_module_version": "1.5.0",
            "_model_name": "ToggleButtonModel",
            "_view_count": null,
            "_view_module": "@jupyter-widgets/controls",
            "_view_module_version": "1.5.0",
            "_view_name": "ToggleButtonView",
            "button_style": "",
            "description": "",
            "description_tooltip": null,
            "disabled": false,
            "icon": "globe",
            "layout": "IPY_MODEL_a94efa6b3cbf4aa2abb8ca11e88b52b8",
            "style": "IPY_MODEL_424dd5421c0343a7909ba234e0f4026f",
            "tooltip": "Search location/data",
            "value": false
          }
        },
        "4647e7e2605449a9801db2d41f2f9072": {
          "model_module": "@jupyter-widgets/base",
          "model_name": "LayoutModel",
          "model_module_version": "1.2.0",
          "state": {
            "_model_module": "@jupyter-widgets/base",
            "_model_module_version": "1.2.0",
            "_model_name": "LayoutModel",
            "_view_count": null,
            "_view_module": "@jupyter-widgets/base",
            "_view_module_version": "1.2.0",
            "_view_name": "LayoutView",
            "align_content": null,
            "align_items": null,
            "align_self": null,
            "border": null,
            "bottom": null,
            "display": null,
            "flex": null,
            "flex_flow": null,
            "grid_area": null,
            "grid_auto_columns": null,
            "grid_auto_flow": null,
            "grid_auto_rows": null,
            "grid_column": null,
            "grid_gap": null,
            "grid_row": null,
            "grid_template_areas": null,
            "grid_template_columns": null,
            "grid_template_rows": null,
            "height": null,
            "justify_content": null,
            "justify_items": null,
            "left": null,
            "margin": null,
            "max_height": null,
            "max_width": null,
            "min_height": null,
            "min_width": null,
            "object_fit": null,
            "object_position": null,
            "order": null,
            "overflow": null,
            "overflow_x": null,
            "overflow_y": null,
            "padding": null,
            "right": null,
            "top": null,
            "visibility": null,
            "width": null
          }
        },
        "c830da4ce45f4bc19e8307f5775fa750": {
          "model_module": "@jupyter-widgets/controls",
          "model_name": "ToggleButtonModel",
          "model_module_version": "1.5.0",
          "state": {
            "_dom_classes": [],
            "_model_module": "@jupyter-widgets/controls",
            "_model_module_version": "1.5.0",
            "_model_name": "ToggleButtonModel",
            "_view_count": null,
            "_view_module": "@jupyter-widgets/controls",
            "_view_module_version": "1.5.0",
            "_view_name": "ToggleButtonView",
            "button_style": "",
            "description": "",
            "description_tooltip": null,
            "disabled": false,
            "icon": "wrench",
            "layout": "IPY_MODEL_8503a1132c4a4efc9d8065f50178bb13",
            "style": "IPY_MODEL_3ecd3adc6bf044e1a8933601a022d76c",
            "tooltip": "Toolbar",
            "value": false
          }
        },
        "94335c8e95c74bcda853b78efa21f65f": {
          "model_module": "@jupyter-widgets/base",
          "model_name": "LayoutModel",
          "model_module_version": "1.2.0",
          "state": {
            "_model_module": "@jupyter-widgets/base",
            "_model_module_version": "1.2.0",
            "_model_name": "LayoutModel",
            "_view_count": null,
            "_view_module": "@jupyter-widgets/base",
            "_view_module_version": "1.2.0",
            "_view_name": "LayoutView",
            "align_content": null,
            "align_items": null,
            "align_self": null,
            "border": null,
            "bottom": null,
            "display": null,
            "flex": null,
            "flex_flow": null,
            "grid_area": null,
            "grid_auto_columns": null,
            "grid_auto_flow": null,
            "grid_auto_rows": null,
            "grid_column": null,
            "grid_gap": null,
            "grid_row": null,
            "grid_template_areas": null,
            "grid_template_columns": null,
            "grid_template_rows": null,
            "height": null,
            "justify_content": null,
            "justify_items": null,
            "left": null,
            "margin": null,
            "max_height": null,
            "max_width": null,
            "min_height": null,
            "min_width": null,
            "object_fit": null,
            "object_position": null,
            "order": null,
            "overflow": null,
            "overflow_x": null,
            "overflow_y": null,
            "padding": null,
            "right": null,
            "top": null,
            "visibility": null,
            "width": null
          }
        },
        "a94efa6b3cbf4aa2abb8ca11e88b52b8": {
          "model_module": "@jupyter-widgets/base",
          "model_name": "LayoutModel",
          "model_module_version": "1.2.0",
          "state": {
            "_model_module": "@jupyter-widgets/base",
            "_model_module_version": "1.2.0",
            "_model_name": "LayoutModel",
            "_view_count": null,
            "_view_module": "@jupyter-widgets/base",
            "_view_module_version": "1.2.0",
            "_view_name": "LayoutView",
            "align_content": null,
            "align_items": null,
            "align_self": null,
            "border": null,
            "bottom": null,
            "display": null,
            "flex": null,
            "flex_flow": null,
            "grid_area": null,
            "grid_auto_columns": null,
            "grid_auto_flow": null,
            "grid_auto_rows": null,
            "grid_column": null,
            "grid_gap": null,
            "grid_row": null,
            "grid_template_areas": null,
            "grid_template_columns": null,
            "grid_template_rows": null,
            "height": "28px",
            "justify_content": null,
            "justify_items": null,
            "left": null,
            "margin": null,
            "max_height": null,
            "max_width": null,
            "min_height": null,
            "min_width": null,
            "object_fit": null,
            "object_position": null,
            "order": null,
            "overflow": null,
            "overflow_x": null,
            "overflow_y": null,
            "padding": "0px 0px 0px 4px",
            "right": null,
            "top": null,
            "visibility": null,
            "width": "28px"
          }
        },
        "424dd5421c0343a7909ba234e0f4026f": {
          "model_module": "@jupyter-widgets/controls",
          "model_name": "DescriptionStyleModel",
          "model_module_version": "1.5.0",
          "state": {
            "_model_module": "@jupyter-widgets/controls",
            "_model_module_version": "1.5.0",
            "_model_name": "DescriptionStyleModel",
            "_view_count": null,
            "_view_module": "@jupyter-widgets/base",
            "_view_module_version": "1.2.0",
            "_view_name": "StyleView",
            "description_width": ""
          }
        },
        "8503a1132c4a4efc9d8065f50178bb13": {
          "model_module": "@jupyter-widgets/base",
          "model_name": "LayoutModel",
          "model_module_version": "1.2.0",
          "state": {
            "_model_module": "@jupyter-widgets/base",
            "_model_module_version": "1.2.0",
            "_model_name": "LayoutModel",
            "_view_count": null,
            "_view_module": "@jupyter-widgets/base",
            "_view_module_version": "1.2.0",
            "_view_name": "LayoutView",
            "align_content": null,
            "align_items": null,
            "align_self": null,
            "border": null,
            "bottom": null,
            "display": null,
            "flex": null,
            "flex_flow": null,
            "grid_area": null,
            "grid_auto_columns": null,
            "grid_auto_flow": null,
            "grid_auto_rows": null,
            "grid_column": null,
            "grid_gap": null,
            "grid_row": null,
            "grid_template_areas": null,
            "grid_template_columns": null,
            "grid_template_rows": null,
            "height": "28px",
            "justify_content": null,
            "justify_items": null,
            "left": null,
            "margin": null,
            "max_height": null,
            "max_width": null,
            "min_height": null,
            "min_width": null,
            "object_fit": null,
            "object_position": null,
            "order": null,
            "overflow": null,
            "overflow_x": null,
            "overflow_y": null,
            "padding": "0px 0px 0px 4px",
            "right": null,
            "top": null,
            "visibility": null,
            "width": "28px"
          }
        },
        "3ecd3adc6bf044e1a8933601a022d76c": {
          "model_module": "@jupyter-widgets/controls",
          "model_name": "DescriptionStyleModel",
          "model_module_version": "1.5.0",
          "state": {
            "_model_module": "@jupyter-widgets/controls",
            "_model_module_version": "1.5.0",
            "_model_name": "DescriptionStyleModel",
            "_view_count": null,
            "_view_module": "@jupyter-widgets/base",
            "_view_module_version": "1.2.0",
            "_view_name": "StyleView",
            "description_width": ""
          }
        }
      }
    }
  },
  "nbformat": 4,
  "nbformat_minor": 0
}