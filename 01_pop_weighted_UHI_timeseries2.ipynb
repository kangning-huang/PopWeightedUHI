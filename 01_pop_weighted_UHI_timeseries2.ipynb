{
  "cells": [
    {
      "cell_type": "markdown",
      "metadata": {
        "id": "view-in-github",
        "colab_type": "text"
      },
      "source": [
        "<a href=\"https://colab.research.google.com/github/kangning-huang/PopWeightedUHI/blob/main/01_pop_weighted_UHI_timeseries2.ipynb\" target=\"_parent\"><img src=\"https://colab.research.google.com/assets/colab-badge.svg\" alt=\"Open In Colab\"/></a>"
      ]
    },
    {
      "cell_type": "markdown",
      "metadata": {
        "id": "zBHPx0xWQJ5A"
      },
      "source": [
        "# Install and import"
      ]
    },
    {
      "cell_type": "code",
      "execution_count": null,
      "metadata": {
        "id": "IEVjVJOmYVfH"
      },
      "outputs": [],
      "source": [
        "!pip install geemap &> /dev/null"
      ]
    },
    {
      "cell_type": "code",
      "execution_count": null,
      "metadata": {
        "colab": {
          "background_save": true,
          "base_uri": "https://localhost:8080/"
        },
        "id": "S9-6uAS6QGC1",
        "outputId": "9195245c-ed5d-4cdb-d424-34159e2ced59"
      },
      "outputs": [
        {
          "name": "stdout",
          "output_type": "stream",
          "text": [
            "To authorize access needed by Earth Engine, open the following URL in a web browser and follow the instructions. If the web browser does not start automatically, please manually browse the URL below.\n",
            "\n",
            "    https://code.earthengine.google.com/client-auth?scopes=https%3A//www.googleapis.com/auth/earthengine%20https%3A//www.googleapis.com/auth/devstorage.full_control&request_id=W0Iv7cHUHkSvOa_tN4lcBX9lJyBoNCHg5j69ifw6VT4&tc=-hac4BMbn4Z_sDzgm5qGM6dJONt9_eSX1fc20gwPsqg&cc=ZlRZfHGablajf6kA4EOPdPb-V0_HvMhB0QTzPh0lN2U\n",
            "\n",
            "The authorization workflow will generate a code, which you should paste in the box below.\n",
            "\n",
            "Successfully saved authorization token.\n"
          ]
        }
      ],
      "source": [
        "import pandas as pd\n",
        "import matplotlib.pyplot as plt\n",
        "import seaborn as sns\n",
        "import numpy as np\n",
        "\n",
        "from scipy import stats\n",
        "\n",
        "from tqdm import tqdm\n",
        "\n",
        "import geemap\n",
        "import json\n",
        "import os\n",
        "import requests\n",
        "from geemap import geojson_to_ee, ee_to_geojson\n",
        "# from ipyleaflet import GeoJSON\n",
        "\n",
        "import altair as alt\n",
        "import folium\n",
        "\n",
        "import ee\n",
        "ee.Authenticate()\n",
        "ee.Initialize()"
      ]
    },
    {
      "cell_type": "code",
      "execution_count": null,
      "metadata": {
        "colab": {
          "background_save": true
        },
        "id": "tbO5LLSJUVCU"
      },
      "outputs": [],
      "source": [
        "!pip install geopandas &> /dev/null"
      ]
    },
    {
      "cell_type": "code",
      "execution_count": null,
      "metadata": {
        "colab": {
          "background_save": true
        },
        "id": "U2wtq535Uesz"
      },
      "outputs": [],
      "source": [
        "import geopandas as gdp\n",
        "import pandas as pd"
      ]
    },
    {
      "cell_type": "code",
      "execution_count": null,
      "metadata": {
        "id": "6V5f-G_oQXDf"
      },
      "outputs": [],
      "source": [
        "from google.colab import drive\n",
        "drive.mount('/content/drive')"
      ]
    },
    {
      "cell_type": "markdown",
      "metadata": {
        "id": "nEor5YM_lHd5"
      },
      "source": [
        "# Load Data"
      ]
    },
    {
      "cell_type": "markdown",
      "metadata": {
        "id": "8LVFHiCEUDH9"
      },
      "source": [
        "## Load FUAs"
      ]
    },
    {
      "cell_type": "code",
      "execution_count": null,
      "metadata": {
        "id": "fxW8OPsKUFc8"
      },
      "outputs": [],
      "source": [
        "gdf_FUAs = gdp.read_file('/content/drive/MyDrive/Research_Projects/2022_UHI_vs_GHG/data/GHS_FUA_UCDB2015_GLOBE_R2019A_54009_1K_V1_0/GHS_FUA_UCDB2015_GLOBE_R2019A_54009_1K_V1_0.gpkg')\n",
        "gdf_FUAs = gdf_FUAs.sort_values('FUA_p_2015', ascending=False)\n",
        "# print(gdf_FUAs.head(5))\n",
        "\n",
        "gdf_Shanghai = gdf_FUAs.loc[gdf_FUAs['eFUA_name']=='Shanghai']\n",
        "gdf_Hefei    = gdf_FUAs.loc[gdf_FUAs['eFUA_name']=='Hefei']\n",
        "gdf_Helsinki = gdf_FUAs.loc[gdf_FUAs['eFUA_name']=='Helsinki']\n",
        "fc_Shanghai = geemap.geopandas_to_ee(gdf_Shanghai)\n",
        "fc_Hefei    = geemap.geopandas_to_ee(gdf_Hefei)\n",
        "fc_Helsinki = geemap.geopandas_to_ee(gdf_Helsinki)\n",
        "Map = geemap.Map()\n",
        "Map.addLayer(fc_Hefei,{},'')\n",
        "Map.center_object(fc_Hefei.geometry())\n",
        "Map"
      ]
    },
    {
      "cell_type": "markdown",
      "metadata": {
        "id": "0BUkJ_mzuh58"
      },
      "source": [
        "## Load Urban Land"
      ]
    },
    {
      "cell_type": "code",
      "execution_count": null,
      "metadata": {
        "id": "M-vnKlZQujQn"
      },
      "outputs": [],
      "source": [
        "def GetUrbanLandByYear(year):\n",
        "  urbanYearCode = ee.Image(\"Tsinghua/FROM-GLC/GAIA/v10\")\n",
        "  urban = urbanYearCode.gt(2019-year)\n",
        "  return urban.updateMask(urban)\n",
        "\n",
        "visParms_urb = {\n",
        "  'bands': ['change_year_index'],\n",
        "  'min': 1,\n",
        "  'max': 34,\n",
        "  'palette': ['blue', 'yellow', 'red']\n",
        "}\n",
        "\n",
        "Map = geemap.Map()\n",
        "# Map.addLayer(urban, visParms_urb, 'Urban change year')\n",
        "Map.addLayer(GetUrbanLandByYear(2004), {'palette':['red']}, 'Urban 2004')\n",
        "Map.addLayer(GetUrbanLandByYear(2010), {'palette':['red']}, 'Urban 2010')\n",
        "Map.addLayer(GetUrbanLandByYear(2018), {'palette':['red']}, 'Urban 2018')\n",
        "Map.center_object(fc_Shanghai)\n",
        "Map"
      ]
    },
    {
      "cell_type": "markdown",
      "metadata": {
        "id": "AfVCT0wHlNcm"
      },
      "source": [
        "## Load UHIs"
      ]
    },
    {
      "cell_type": "code",
      "execution_count": null,
      "metadata": {
        "id": "pYI1gXqkAioh"
      },
      "outputs": [],
      "source": [
        "# Function to get UHI stats by year\n",
        "def GetUhiStatsByYear(year):\n",
        "  # getting the image collection\n",
        "  uhiModis1 = ee.ImageCollection('users/lorenzomentaschi/uhiModis');\n",
        "  uhiModis2 = ee.ImageCollection('users/lucfeyen3/uhiModis');\n",
        "  uhiModis = uhiModis1.merge(uhiModis2);\n",
        "  # Filter images in the year\n",
        "  filterYear = ee.Filter.calendarRange(year, year, 'year')\n",
        "  # Filter pixles with more than 50 rual pixels\n",
        "  def FilterByMinNRuralPixel(img):\n",
        "    minNRuralPixel = 50\n",
        "    ruralPxlCnt = img.select('N_NOTURB_PIX_Day')\n",
        "    msk = ruralPxlCnt.gte(minNRuralPixel)\n",
        "    return img.select(['UHI_Day_1km', 'UHI_Night_1km']).updateMask(msk)\n",
        "  # Apply both filters\n",
        "  ImColYear = ee.ImageCollection(uhiModis.filter(filterYear).map(FilterByMinNRuralPixel))\n",
        "  ImStatsYear = ImColYear.reduce(ee.Reducer.percentile([95, 99]))\n",
        "  return ImStatsYear\n",
        "\n",
        "# Add test layer to map\n",
        "visParms_uhi = {\n",
        "    'min': -18, 'max': 18,\n",
        "    'palette': ['00008F', '0010FF', '0060FF', '00FFFF', 'CCFFCC', 'FFFF00', 'FF8000', 'FF2000', '800000']\n",
        "}\n",
        "\n",
        "Map = geemap.Map()\n",
        "Map.addLayer(GetUhiStatsByYear(2020).select('UHI_Day_1km_p99'), visParms_uhi, 'UHI 2020')\n",
        "Map.center_object(fc_Shanghai.geometry())\n",
        "Map"
      ]
    },
    {
      "cell_type": "markdown",
      "metadata": {
        "id": "JcS-6kqplPKv"
      },
      "source": [
        "## Load WorldPop"
      ]
    },
    {
      "cell_type": "code",
      "execution_count": null,
      "metadata": {
        "id": "eE0S7LOCV5v6"
      },
      "outputs": [],
      "source": [
        "# Function to get WorldPop by year\n",
        "def GetWorldPopByYear(year):\n",
        "  ImColPop = ee.ImageCollection(\"WorldPop/GP/100m/pop\")\n",
        "  ImColPopYear = ImColPop.filter(ee.Filter.calendarRange(year,year,'year'))\n",
        "  return ImColPopYear.mosaic()\n",
        "\n",
        "# Function to get WorldPop (1km) by year\n",
        "def GetWorldPop1kmByYear(year):\n",
        "  ImColPop = ee.ImageCollection(\"WorldPop/GP/100m/pop\")\n",
        "  uhiModis1 = ee.ImageCollection('users/lorenzomentaschi/uhiModis');\n",
        "  uhiProjection = uhiModis1.first().projection().getInfo()['crs']\n",
        "  ImColPopYear = ImColPop.filter(ee.Filter.calendarRange(year,year,'year'))\n",
        "  return ImColPopYear.mosaic().reduceResolution(ee.Reducer.sum()).reproject({'crs': uhiProjection, 'scale': 1000})\n",
        "\n",
        "# Add test layer to map\n",
        "visParms_pop = {\n",
        "  'bands': ['population'],\n",
        "  'min': 0.0,\n",
        "  'max': 50.0,\n",
        "  'palette': ['24126c', '1fff4f', 'd4ff50']\n",
        "}\n",
        "\n",
        "Map = geemap.Map()\n",
        "Map.addLayer(GetWorldPopByYear(2020), visParms_pop, 'Population 2020')\n",
        "# Map.addLayer(GetWorldPop1kmByYear(2020), visParms_pop, 'Population 2020 (1km)')\n",
        "Map.center_object(fc_Shanghai.geometry())\n",
        "Map\n",
        "# ee.ImageCollection(\"WorldPop/GP/100m/pop\").first().projection().getInfo()\n",
        "# ee.ImageCollection('users/lorenzomentaschi/uhiModis').first().projection().getInfo()"
      ]
    },
    {
      "cell_type": "markdown",
      "metadata": {
        "id": "CvGG4c8klRGt"
      },
      "source": [
        "# UHI times POP & Urban"
      ]
    },
    {
      "cell_type": "code",
      "execution_count": null,
      "metadata": {
        "id": "OacUW7L9Wv0W"
      },
      "outputs": [],
      "source": [
        "# Function to get UHI masked by urban land\n",
        "def GetUhiStatsUrbanByYear(year):\n",
        "  ImUhiStat = GetUhiStatsByYear(year)\n",
        "  ImUrban = GetUrbanLandByYear(year)\n",
        "  return ImUhiStat.updateMask(ImUrban)\n",
        "\n",
        "# Function to get UHI times POP\n",
        "def GetUhiStatsTimesPopByYear(year):\n",
        "  # ImUhiStat = GetUhiStatsByYear(year)\n",
        "  ImUhiStat = GetUhiStatsUrbanByYear(year)\n",
        "  ImPop = GetWorldPopByYear(year).updateMask(ImUhiStat.select(1))\n",
        "  return ImUhiStat.multiply(ImPop)\n",
        "\n",
        "# Add test layer to map\n",
        "visParms_uhipop = {\n",
        "    'max': 5000,\n",
        "    'palette': ['green', 'yellow', 'orange', 'red', 'purple']\n",
        "}\n",
        "\n",
        "Map = geemap.Map()\n",
        "# Map.addLayer(GetUhiStatsTimesPopByYear(2020).select('UHI_Day_1km_p99'), visParms_uhipop, 'UHI x POP 2020')\n",
        "\n",
        "Map.addLayer(GetUhiStatsUrbanByYear(2004).select('UHI_Day_1km_p99'), visParms_uhi, 'UHI 2004')\n",
        "Map.addLayer(GetUhiStatsUrbanByYear(2010).select('UHI_Day_1km_p99'), visParms_uhi, 'UHI 2010')\n",
        "Map.addLayer(GetUhiStatsUrbanByYear(2020).select('UHI_Day_1km_p99'), visParms_uhi, 'UHI 2020')\n",
        "Map.center_object(fc_Shanghai.geometry())\n",
        "Map"
      ]
    },
    {
      "cell_type": "markdown",
      "metadata": {
        "id": "t64EF-m8YEaK"
      },
      "source": [
        "# Mean UHI, POP for FUA"
      ]
    },
    {
      "cell_type": "markdown",
      "metadata": {
        "id": "sucU6RJ7lC1q"
      },
      "source": [
        "## Define function to calculate UHI per cap"
      ]
    },
    {
      "cell_type": "code",
      "execution_count": null,
      "metadata": {
        "id": "nH-hKsewYVms"
      },
      "outputs": [],
      "source": [
        "# Testing\n",
        "# gdf_fua = gdf_Shanghai\n",
        "# gdf_fua = gdf_Helsinki\n",
        "# year = 2020\n",
        "\n",
        "# Define function to calculate UHI per cap for FUA, in a year\n",
        "def GetUhiPercapFUAbyYear(gdf_fua, year):\n",
        "  fc_fua = geemap.geopandas_to_ee(gdf_fua).first()\n",
        "  geo_fua = fc_fua.geometry()\n",
        "  uhi_cnt = GetUhiStatsUrbanByYear(year).reduceRegion(ee.Reducer.count(), geo_fua, 1000).getInfo()\n",
        "  if uhi_cnt['UHI_Day_1km_p99'] > 0:\n",
        "    uhi_mean        = GetUhiStatsUrbanByYear(year).reduceRegion(ee.Reducer.mean(), geo_fua, 1000).getInfo()\n",
        "    # pop_sum_100m    = GetWorldPopByYear(year).reduceRegion(ee.Reducer.sum(), geo_fua, 100).getInfo()\n",
        "    pop_sum_1km     = GetWorldPopByYear(year).reduceRegion(ee.Reducer.sum(), geo_fua, 1000).getInfo()\n",
        "    uhiTimesPop_sum = GetUhiStatsTimesPopByYear(year).reduceRegion(ee.Reducer.sum(), geo_fua, 1000).getInfo()\n",
        "    fua_id   = gdf_fua[['eFUA_ID']].iloc[0].iloc[0]\n",
        "    fua_name = gdf_fua[['eFUA_name']].iloc[0].iloc[0]\n",
        "    uhi_day_p99_percap = uhiTimesPop_sum['UHI_Day_1km_p99']   / pop_sum_1km['population']\n",
        "    uhi_nig_p99_percap = uhiTimesPop_sum['UHI_Night_1km_p99'] / pop_sum_1km['population']\n",
        "    df_UhiPercap = pd.DataFrame({\n",
        "        'Year': year,\n",
        "        # 'population': pop_sum_100m['population'],\n",
        "        'UHI_Day_1km_p99': [uhi_mean['UHI_Day_1km_p99']],\n",
        "        'UHI_Night_1km_99': [uhi_mean['UHI_Night_1km_p99']],\n",
        "        'UHI_Day_1km_p99_percap': [uhi_day_p99_percap], \n",
        "        'UHI_Night_1km_p99_percap': [uhi_nig_p99_percap],\n",
        "        'eFUA_name':[fua_name], \n",
        "        'eFUA_ID':[fua_id]}, index=[fua_id])\n",
        "  else:\n",
        "    df_UhiPercap = pd.DataFrame({})\n",
        "  return df_UhiPercap\n",
        "\n",
        "# print(GetUhiPercapFUAbyYear(gdf_Helsinki, 2010).empty)\n",
        "print(GetUhiPercapFUAbyYear(gdf_Hefei, 2005).filter(like='UHI_Day'))\n",
        "print(GetUhiPercapFUAbyYear(gdf_Hefei, 2010).filter(like='UHI_Day'))\n",
        "print(GetUhiPercapFUAbyYear(gdf_Hefei, 2015).filter(like='UHI_Day'))\n",
        "print(GetUhiPercapFUAbyYear(gdf_Hefei, 2020).filter(like='UHI_Day'))"
      ]
    },
    {
      "cell_type": "markdown",
      "metadata": {
        "id": "q27J5tkelGYf"
      },
      "source": [
        "## Apply function to all FUAs"
      ]
    },
    {
      "cell_type": "markdown",
      "metadata": {
        "id": "gDH-f0Nefx-L"
      },
      "source": [
        "## First run"
      ]
    },
    {
      "cell_type": "code",
      "execution_count": null,
      "metadata": {
        "id": "mVyYdd49lJYJ"
      },
      "outputs": [],
      "source": [
        "# path_out = '/content/drive/MyDrive/Research_Projects/2022_UHI_vs_GHG/results/pop_weighted_UHIs/'\n",
        "# filename_out = path_out + 'pop_weighted_uhi_fuas.csv'\n",
        "\n",
        "# # Create a empty data frame for results\n",
        "# df_UhiPercap = pd.DataFrame()\n",
        "\n",
        "# # Loop through FUAs\n",
        "# for index, row in tqdm(gdf_FUAs.head(100).iterrows()):\n",
        "#   for year in range(2003, 2021):\n",
        "#     fua_id = row['eFUA_ID']\n",
        "#     gdf_fua = gdf_FUAs.loc[gdf_FUAs['eFUA_ID']==fua_id]\n",
        "#     df_UhiPercap_new = GetUhiPercapFUAbyYear(gdf_fua, year)\n",
        "#     if df_UhiPercap_new.empty==False:\n",
        "#       df_UhiPercap = df_UhiPercap.append(df_UhiPercap_new)\n",
        "#       df_UhiPercap.to_csv(filename_out)\n",
        "\n",
        "# df_UhiPercap.head(10)"
      ]
    },
    {
      "cell_type": "markdown",
      "metadata": {
        "id": "sBnzv9Nufz43"
      },
      "source": [
        "## Continue previous runs"
      ]
    },
    {
      "cell_type": "code",
      "execution_count": null,
      "metadata": {
        "id": "ltDTsHhvf5IC"
      },
      "outputs": [],
      "source": [
        "path_out = '/content/drive/MyDrive/Research_Projects/2022_UHI_vs_GHG/results/pop_weighted_UHIs/'\n",
        "filename_out = path_out + 'pop_weighted_uhi_fuas.csv'\n",
        "\n",
        "# Read previous run\n",
        "df_UhiPercap = pd.read_csv(filename_out)\n",
        "\n",
        "# Loop through FUAs\n",
        "for index, row in tqdm(gdf_FUAs.head(100).iterrows()):\n",
        "  for year in range(2003, 2021):\n",
        "    fua_id = row['eFUA_ID']\n",
        "    is_FuaID_exists = (df_UhiPercap['eFUA_ID']==fua_id) # Has the FUA been run?\n",
        "    is_Year_exists = (df_UhiPercap['Year']==year)       # Has the year been run?\n",
        "    # Only run the (FUA, year) combo that has not been run\n",
        "    if df_UhiPercap.loc[is_FuaID_exists & is_Year_exists].empty:\n",
        "      gdf_fua = gdf_FUAs.loc[gdf_FUAs['eFUA_ID']==fua_id]\n",
        "      df_UhiPercap_new = GetUhiPercapFUAbyYear(gdf_fua, year)\n",
        "      if df_UhiPercap_new.empty==False:\n",
        "        df_UhiPercap = df_UhiPercap.append(df_UhiPercap_new)\n",
        "        df_UhiPercap.to_csv(filename_out)"
      ]
    }
  ],
  "metadata": {
    "colab": {
      "collapsed_sections": [
        "JcS-6kqplPKv"
      ],
      "name": "01_pop_weighted_UHI_timeseries2.ipynb",
      "toc_visible": true,
      "provenance": [],
      "include_colab_link": true
    },
    "kernelspec": {
      "display_name": "Python 3",
      "name": "python3"
    },
    "language_info": {
      "name": "python"
    }
  },
  "nbformat": 4,
  "nbformat_minor": 0
}