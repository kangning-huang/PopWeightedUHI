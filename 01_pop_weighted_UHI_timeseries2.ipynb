{
  "cells": [
    {
      "cell_type": "markdown",
      "metadata": {
        "id": "view-in-github",
        "colab_type": "text"
      },
      "source": [
        "<a href=\"https://colab.research.google.com/github/kangning-huang/PopWeightedUHI/blob/main/01_pop_weighted_UHI_timeseries2.ipynb\" target=\"_parent\"><img src=\"https://colab.research.google.com/assets/colab-badge.svg\" alt=\"Open In Colab\"/></a>"
      ]
    },
    {
      "cell_type": "markdown",
      "metadata": {
        "id": "zBHPx0xWQJ5A"
      },
      "source": [
        "# Install and import"
      ]
    },
    {
      "cell_type": "code",
      "execution_count": 1,
      "metadata": {
        "id": "IEVjVJOmYVfH"
      },
      "outputs": [],
      "source": [
        "!pip install geemap &> /dev/null"
      ]
    },
    {
      "cell_type": "code",
      "execution_count": 2,
      "metadata": {
        "colab": {
          "base_uri": "https://localhost:8080/",
          "height": 176
        },
        "id": "S9-6uAS6QGC1",
        "outputId": "64d47186-7bb5-4b71-d6d5-ada06ddaad90"
      },
      "outputs": [
        {
          "output_type": "stream",
          "name": "stdout",
          "text": [
            "To authorize access needed by Earth Engine, open the following URL in a web browser and follow the instructions. If the web browser does not start automatically, please manually browse the URL below.\n",
            "\n",
            "    https://code.earthengine.google.com/client-auth?scopes=https%3A//www.googleapis.com/auth/earthengine%20https%3A//www.googleapis.com/auth/devstorage.full_control&request_id=B0WAZ_pEQGx6Ei20wVdsnougQyjGu6GCnUV6uVb1FjI&tc=WsX7j1o3jT9Gx43qDwboZ6EI0qcpa2EAoc_lRdvMPew&cc=vZNyD7eFutEDAAhi_vTUlp2fpNjujj2v7ifmMwI8Iso\n",
            "\n",
            "The authorization workflow will generate a code, which you should paste in the box below.\n",
            "Enter verification code: 4/1AdQt8qisdX2ByP-v252EjQxzPEurWLPQ8qef12drYgln9O2nvin3YlzMHW0\n",
            "\n",
            "Successfully saved authorization token.\n"
          ]
        }
      ],
      "source": [
        "import pandas as pd\n",
        "import matplotlib.pyplot as plt\n",
        "import seaborn as sns\n",
        "import numpy as np\n",
        "\n",
        "from scipy import stats\n",
        "\n",
        "from tqdm import tqdm\n",
        "\n",
        "import geemap\n",
        "import json\n",
        "import os\n",
        "import requests\n",
        "from geemap import geojson_to_ee, ee_to_geojson\n",
        "# from ipyleaflet import GeoJSON\n",
        "\n",
        "import altair as alt\n",
        "import folium\n",
        "\n",
        "import ee\n",
        "ee.Authenticate()\n",
        "ee.Initialize()"
      ]
    },
    {
      "cell_type": "code",
      "execution_count": 3,
      "metadata": {
        "id": "tbO5LLSJUVCU"
      },
      "outputs": [],
      "source": [
        "!pip install geopandas &> /dev/null"
      ]
    },
    {
      "cell_type": "code",
      "execution_count": 4,
      "metadata": {
        "id": "U2wtq535Uesz"
      },
      "outputs": [],
      "source": [
        "import geopandas as gdp\n",
        "import pandas as pd"
      ]
    },
    {
      "cell_type": "code",
      "execution_count": 5,
      "metadata": {
        "colab": {
          "base_uri": "https://localhost:8080/"
        },
        "id": "6V5f-G_oQXDf",
        "outputId": "ebc776ee-628e-48d6-b90b-8964348f1a60"
      },
      "outputs": [
        {
          "output_type": "stream",
          "name": "stdout",
          "text": [
            "Mounted at /content/drive\n"
          ]
        }
      ],
      "source": [
        "from google.colab import drive\n",
        "drive.mount('/content/drive')"
      ]
    },
    {
      "cell_type": "markdown",
      "metadata": {
        "id": "nEor5YM_lHd5"
      },
      "source": [
        "# Load Data"
      ]
    },
    {
      "cell_type": "markdown",
      "metadata": {
        "id": "8LVFHiCEUDH9"
      },
      "source": [
        "## Load FUAs"
      ]
    },
    {
      "cell_type": "code",
      "execution_count": 6,
      "metadata": {
        "colab": {
          "base_uri": "https://localhost:8080/",
          "height": 621,
          "referenced_widgets": [
            "9eff18f5199f436b9868f012e876c2fa",
            "c1b084de441442cd82ac76ccffee17c4",
            "634d19c0965d4bdfb3f67e295f1508ae",
            "b26927fdbb184433b91ca91d323921e1",
            "d25c312fb6d143a6a4b3966b58341c60",
            "8f0e3d8928c64301a7f9b5734bbd04ff",
            "acd5347000954d088b36f89545cc4a48",
            "356839ab4b314560b8f47b149c8b213c",
            "ced516a875f3420b93de57ab70a6e6d1",
            "127bb2f6ee824912a102d579de33a59d",
            "3b242c67bc2b433690a98ebdd4f54e65",
            "10d560afafbe4e37942c13704df08275",
            "067963635b754056b656a5bc13eeee0c",
            "e76ca4b957aa45178d6104385f6e16f6",
            "17a81fb0c47c4c2985619532ca0c55fa",
            "6504f5d7d6ee463285d2e67dd562fad7",
            "ec7a9a1ea0d843e49d66f98e2e6d3ad5",
            "298c36b85b6a481080b96be0c245320a",
            "e83c44aa802b41e7a7938f219ff55164",
            "19b5f2db136d4d3c825611c61640bfa8",
            "5402ef01de824b729e8fdb4b958d3b5c",
            "248b4cf3a4af4f39a02f46213424b587",
            "321843d21fe14077857184456c5d2040",
            "e16221d3acff4b0485aa97ba46fd75c0",
            "ca383e318a0f4483a6ee4b8542904900",
            "4d703d866af54781b523beff3ee657f1"
          ]
        },
        "id": "fxW8OPsKUFc8",
        "outputId": "953cc721-58fb-4b6c-c703-05f0df73a42b"
      },
      "outputs": [
        {
          "output_type": "display_data",
          "data": {
            "text/plain": [
              "Map(center=[20, 0], controls=(WidgetControl(options=['position', 'transparent_bg'], widget=HBox(children=(Togg…"
            ],
            "application/vnd.jupyter.widget-view+json": {
              "version_major": 2,
              "version_minor": 0,
              "model_id": "9eff18f5199f436b9868f012e876c2fa"
            }
          },
          "metadata": {
            "application/vnd.jupyter.widget-view+json": {
              "colab": {
                "custom_widget_manager": {
                  "url": "https://ssl.gstatic.com/colaboratory-static/widgets/colab-cdn-widget-manager/d2e234f7cc04bf79/manager.min.js"
                }
              }
            }
          }
        }
      ],
      "source": [
        "gdf_FUAs = gdp.read_file('/content/drive/MyDrive/Research_Projects/2022_UHI_vs_GHG/data/GHS_FUA_UCDB2015_GLOBE_R2019A_54009_1K_V1_0/GHS_FUA_UCDB2015_GLOBE_R2019A_54009_1K_V1_0.gpkg')\n",
        "gdf_FUAs = gdf_FUAs.sort_values('FUA_p_2015', ascending=False)\n",
        "# print(gdf_FUAs.head(5))\n",
        "\n",
        "gdf_Shanghai = gdf_FUAs.loc[gdf_FUAs['eFUA_name']=='Shanghai']\n",
        "gdf_Helsinki = gdf_FUAs.loc[gdf_FUAs['eFUA_name']=='Helsinki']\n",
        "fc_Shanghai = geemap.geopandas_to_ee(gdf_Shanghai)\n",
        "fc_Helsinki = geemap.geopandas_to_ee(gdf_Helsinki)\n",
        "Map = geemap.Map()\n",
        "Map.addLayer(fc_Shanghai,{},'Shanghai')\n",
        "Map.center_object(fc_Shanghai.geometry())\n",
        "Map"
      ]
    },
    {
      "cell_type": "markdown",
      "metadata": {
        "id": "AfVCT0wHlNcm"
      },
      "source": [
        "## Load UHIs"
      ]
    },
    {
      "cell_type": "code",
      "execution_count": 8,
      "metadata": {
        "colab": {
          "base_uri": "https://localhost:8080/",
          "height": 621,
          "referenced_widgets": [
            "5a37fbdd09fa480694bb671cd02470f4",
            "1c9007a5ea5749138bf43985e50915b6",
            "0f0d38f265c248abb416b77f035e1754",
            "6f2618ce8f774bcca55f17dea335a6da",
            "e13bf60c613643db95fddaedd1f519e7",
            "9d1fca26fd6649d4adbb07990f382f0c",
            "aab1b75ccad4426294dd4ef2f262f642",
            "4336711ea158419ea8dad201301c9fab",
            "ed84aa4728f04852a9b69f6cc0b18a00",
            "8e659461784543e589a59f00a960c38c",
            "93f4df71564b40569b16295569401fdd",
            "bd6c4a1c20c649888610431d92194b93",
            "067963635b754056b656a5bc13eeee0c",
            "6206474f254e48eb9eb5e62d018bfb31",
            "3ad6a7f9d65341caa7369533635d8e57",
            "3b26de309c8a42ec9c02376ce93f68ce",
            "983012c9822749af9e45a188e9686718",
            "f41f8ed7e6714d2c9b5912ba3ba39d91",
            "ae06b510f5d3450b82f6e65da733f4c5",
            "3a558b9fdfe54e45b40696e2a8ca2562",
            "5dec514778a8488c97ddfd75eb53399b",
            "6abc4d3d7ddf42febbf20f87d83e0205",
            "20e5524100c04436bcbbcc025b47268a",
            "3d5f9c36b9ff4d32b29f28bb13c95d23",
            "b2999763f62247deaa6dc519e2a4d257",
            "f4da4383f3bf4cd583055acb9f68a6d3"
          ]
        },
        "id": "pYI1gXqkAioh",
        "outputId": "7be2efbb-4268-4cda-e203-cb94b8bc18e0"
      },
      "outputs": [
        {
          "output_type": "display_data",
          "data": {
            "text/plain": [
              "Map(center=[20, 0], controls=(WidgetControl(options=['position', 'transparent_bg'], widget=HBox(children=(Togg…"
            ],
            "application/vnd.jupyter.widget-view+json": {
              "version_major": 2,
              "version_minor": 0,
              "model_id": "5a37fbdd09fa480694bb671cd02470f4"
            }
          },
          "metadata": {
            "application/vnd.jupyter.widget-view+json": {
              "colab": {
                "custom_widget_manager": {
                  "url": "https://ssl.gstatic.com/colaboratory-static/widgets/colab-cdn-widget-manager/d2e234f7cc04bf79/manager.min.js"
                }
              }
            }
          }
        }
      ],
      "source": [
        "# Function to get UHI stats by year\n",
        "def GetUhiStatsByYear(year):\n",
        "  # getting the image collection\n",
        "  uhiModis1 = ee.ImageCollection('users/lorenzomentaschi/uhiModis');\n",
        "  uhiModis2 = ee.ImageCollection('users/lucfeyen3/uhiModis');\n",
        "  uhiModis = uhiModis1.merge(uhiModis2);\n",
        "  # Filter images in the year\n",
        "  filterYear = ee.Filter.calendarRange(year, year, 'year')\n",
        "  # Filter pixles with more than 50 rual pixels\n",
        "  def FilterByMinNRuralPixel(img):\n",
        "    minNRuralPixel = 50\n",
        "    ruralPxlCnt = img.select('N_NOTURB_PIX_Day')\n",
        "    msk = ruralPxlCnt.gte(minNRuralPixel)\n",
        "    return img.select(['UHI_Day_1km', 'UHI_Night_1km']).updateMask(msk)\n",
        "  # Apply both filters\n",
        "  ImColYear = ee.ImageCollection(uhiModis.filter(filterYear).map(FilterByMinNRuralPixel))\n",
        "  ImStatsYear = ImColYear.reduce(ee.Reducer.percentile([95, 99]))\n",
        "  return ImStatsYear\n",
        "\n",
        "# Add test layer to map\n",
        "visParms_uhi = {\n",
        "    'min': -18, 'max': 18,\n",
        "    'palette': ['00008F', '0010FF', '0060FF', '00FFFF', 'CCFFCC', 'FFFF00', 'FF8000', 'FF2000', '800000']\n",
        "}\n",
        "\n",
        "Map = geemap.Map()\n",
        "Map.addLayer(GetUhiStatsByYear(2020).select('UHI_Day_1km_p99'), visParms_uhi, 'UHI 2020')\n",
        "Map.center_object(fc_Shanghai.geometry())\n",
        "Map"
      ]
    },
    {
      "cell_type": "markdown",
      "metadata": {
        "id": "JcS-6kqplPKv"
      },
      "source": [
        "## Load WorldPop"
      ]
    },
    {
      "cell_type": "code",
      "execution_count": 44,
      "metadata": {
        "colab": {
          "base_uri": "https://localhost:8080/",
          "height": 621,
          "referenced_widgets": [
            "2167d878cae1490f81c5515d472fd3f0",
            "f965848a263649dba08aca20db85b5d8",
            "4c45dd8a166249f3bb9525ce989eb18a",
            "9a07f6ac7ceb45e7ba66ae0eff0d7ba4",
            "48df6d2f8d9a4fd4b039f0a8449f664e",
            "ec790c4a21c849bd872a2e13c1a83cd9",
            "8cebce3421a84abea566ce81f771110f",
            "6af6d6a9f0864036849c445f3c1cdfc5",
            "77d9aba9e03440289643ed6a4a67b9e9",
            "8c9c0dd7ee4e4209a18157fa6ff60835",
            "63d86f549e584c7d90fc39c4c0cdb669",
            "f126613e9531430db550e6e7d5bfcb0f",
            "067963635b754056b656a5bc13eeee0c",
            "eab201ed56f040149a9eef4a756a7ea0",
            "453fab2af4cb4a1d95e2ed699e98b44e",
            "7e7a091b55284a3abe1fea95e5259ba0",
            "c21d84f73fa9473ab5202b1e5b85d5e8",
            "974d2b70ef6a4bc9902965e46f7774be",
            "f9c846fc2d5c4a20a2578990f7dcbd12",
            "70c4a4cc5f094b7fa5fd5e57231cf5f3",
            "f21562a812b44cf9a8e86c4050fbf09d",
            "a50ceff78c4f48cbacd5168ccdec9655",
            "aefb0bae202b43f9832e812efc7dd892",
            "e75116c8eaf94388afb9792d6bf416dd",
            "b23c9a71e31540b09e59381b84571b3d",
            "6ed25b4a4d604a3dbb494564d565a974"
          ]
        },
        "id": "eE0S7LOCV5v6",
        "outputId": "252dac12-a6ee-4eb0-d704-db66e06c34d2"
      },
      "outputs": [
        {
          "output_type": "display_data",
          "data": {
            "text/plain": [
              "Map(center=[20, 0], controls=(WidgetControl(options=['position', 'transparent_bg'], widget=HBox(children=(Togg…"
            ],
            "application/vnd.jupyter.widget-view+json": {
              "version_major": 2,
              "version_minor": 0,
              "model_id": "2167d878cae1490f81c5515d472fd3f0"
            }
          },
          "metadata": {
            "application/vnd.jupyter.widget-view+json": {
              "colab": {
                "custom_widget_manager": {
                  "url": "https://ssl.gstatic.com/colaboratory-static/widgets/colab-cdn-widget-manager/d2e234f7cc04bf79/manager.min.js"
                }
              }
            }
          }
        }
      ],
      "source": [
        "# Function to get WorldPop by year\n",
        "def GetWorldPopByYear(year):\n",
        "  ImColPop = ee.ImageCollection(\"WorldPop/GP/100m/pop\")\n",
        "  ImColPopYear = ImColPop.filter(ee.Filter.calendarRange(year,year,'year'))\n",
        "  return ImColPopYear.mosaic()\n",
        "\n",
        "# Function to get WorldPop (1km) by year\n",
        "def GetWorldPop1kmByYear(year):\n",
        "  ImColPop = ee.ImageCollection(\"WorldPop/GP/100m/pop\")\n",
        "  uhiModis1 = ee.ImageCollection('users/lorenzomentaschi/uhiModis');\n",
        "  uhiProjection = uhiModis1.first().projection().getInfo()['crs']\n",
        "  ImColPopYear = ImColPop.filter(ee.Filter.calendarRange(year,year,'year'))\n",
        "  return ImColPopYear.mosaic().reduceResolution(ee.Reducer.sum()).reproject({'crs': uhiProjection, 'scale': 1000})\n",
        "\n",
        "# Add test layer to map\n",
        "visParms_pop = {\n",
        "  'bands': ['population'],\n",
        "  'min': 0.0,\n",
        "  'max': 50.0,\n",
        "  'palette': ['24126c', '1fff4f', 'd4ff50']\n",
        "}\n",
        "\n",
        "Map = geemap.Map()\n",
        "Map.addLayer(GetWorldPopByYear(2020), visParms_pop, 'Population 2020')\n",
        "# Map.addLayer(GetWorldPop1kmByYear(2020), visParms_pop, 'Population 2020 (1km)')\n",
        "Map.center_object(fc_Shanghai.geometry())\n",
        "Map\n",
        "# ee.ImageCollection(\"WorldPop/GP/100m/pop\").first().projection().getInfo()\n",
        "# ee.ImageCollection('users/lorenzomentaschi/uhiModis').first().projection().getInfo()"
      ]
    },
    {
      "cell_type": "markdown",
      "metadata": {
        "id": "CvGG4c8klRGt"
      },
      "source": [
        "# UHI times POP"
      ]
    },
    {
      "cell_type": "code",
      "execution_count": 46,
      "metadata": {
        "colab": {
          "base_uri": "https://localhost:8080/",
          "height": 621,
          "referenced_widgets": [
            "2f24ce14c3e14e8d9797c62e2fb63be5",
            "3c6af6f3988b485283068e04e9744e3e",
            "4f7b38384c46437a9d37119fe7065adb",
            "ba6a739b4e534f86b8b2f5f8cb406a6e",
            "e6d2d26248ca4d1daf45f270bb22418e",
            "28e85a9146c24874b328a5174d979abb",
            "b611f337d47f4585b13567e65de0a442",
            "e49db2f777fc4b51936460b028c32f0b",
            "cbbacaf3ebdf433ebfe06bc743f18962",
            "db0046d014e44c6bad77f72e0a472643",
            "8e7f657263a5478094d04931da2c7bf4",
            "c263444cbff04655ac6f49ccf4940b26",
            "067963635b754056b656a5bc13eeee0c",
            "6ea6edb39da240d88c99045ae1fb7e53",
            "fc2eb28116584d31bfc800b4f3c75713",
            "19027739c58643f987d8047a865f0284",
            "e975ca14f5fa4809a004c83e38bad28a",
            "b4060337b5a74d258fa7bb9797f5fbd5",
            "461ef9a93a674d4d89e45249689f41f2",
            "6fb3c8ea4aeb49b4b9d4670786bae4bc",
            "9db2396b4bd2400698e497f4c0052a5b",
            "9c2f9533b57748cf860029a34432c38e",
            "3a1e8b7a64324fdcbea0a702d69aa1da",
            "8ec9cd4dc37943659bd79d8191f1bf8e",
            "e0c522ca9e0d4117a28162313a83420b",
            "ccebbd01069e42efa1576e55f0d9566e"
          ]
        },
        "id": "OacUW7L9Wv0W",
        "outputId": "156dfb0b-ec8f-488d-ec02-8938795be275"
      },
      "outputs": [
        {
          "output_type": "display_data",
          "data": {
            "text/plain": [
              "Map(center=[20, 0], controls=(WidgetControl(options=['position', 'transparent_bg'], widget=HBox(children=(Togg…"
            ],
            "application/vnd.jupyter.widget-view+json": {
              "version_major": 2,
              "version_minor": 0,
              "model_id": "2f24ce14c3e14e8d9797c62e2fb63be5"
            }
          },
          "metadata": {
            "application/vnd.jupyter.widget-view+json": {
              "colab": {
                "custom_widget_manager": {
                  "url": "https://ssl.gstatic.com/colaboratory-static/widgets/colab-cdn-widget-manager/d2e234f7cc04bf79/manager.min.js"
                }
              }
            }
          }
        }
      ],
      "source": [
        "# Function to get UHI times POP\n",
        "def GetUhiStatsTimesPopByYear(year):\n",
        "  ImUhiStat = GetUhiStatsByYear(year)\n",
        "  ImPop = GetWorldPopByYear(year).updateMask(ImUhiStat.select(1))\n",
        "  return ImUhiStat.multiply(ImPop)\n",
        "\n",
        "# Add test layer to map\n",
        "visParms_uhipop = {\n",
        "    'max': 5000,\n",
        "    'palette': ['green', 'yellow', 'orange', 'red', 'purple']\n",
        "}\n",
        "\n",
        "Map = geemap.Map()\n",
        "Map.addLayer(GetUhiStatsTimesPopByYear(2020).select('UHI_Day_1km_p99'), visParms_uhipop, 'UHI x POP 2020')\n",
        "Map.center_object(fc_Shanghai.geometry())\n",
        "Map"
      ]
    },
    {
      "cell_type": "markdown",
      "metadata": {
        "id": "t64EF-m8YEaK"
      },
      "source": [
        "# Mean UHI, POP for FUA"
      ]
    },
    {
      "cell_type": "markdown",
      "metadata": {
        "id": "sucU6RJ7lC1q"
      },
      "source": [
        "## Define function to calculate UHI per cap"
      ]
    },
    {
      "cell_type": "code",
      "execution_count": 54,
      "metadata": {
        "colab": {
          "base_uri": "https://localhost:8080/"
        },
        "id": "nH-hKsewYVms",
        "outputId": "dd329cd2-afc8-40f5-cfa3-d42cd70ca627"
      },
      "outputs": [
        {
          "output_type": "stream",
          "name": "stdout",
          "text": [
            "True\n",
            "         Year  UHI_Day_1km_p99  UHI_Night_1km_99  UHI_Day_1km_p95_percap  \\\n",
            "10097.0  2020         5.895528          2.350958                8.002348   \n",
            "\n",
            "         UHI_Night_1km_p99_percap eFUA_name  eFUA_ID  \n",
            "10097.0                  3.587992  Shanghai  10097.0  \n"
          ]
        }
      ],
      "source": [
        "# Testing\n",
        "# gdf_fua = gdf_Shanghai\n",
        "# gdf_fua = gdf_Helsinki\n",
        "# year = 2020\n",
        "\n",
        "# Define function to calculate UHI per cap for FUA, in a year\n",
        "def GetUhiPercapFUAbyYear(gdf_fua, year):\n",
        "  fc_fua = geemap.geopandas_to_ee(gdf_fua).first()\n",
        "  geo_fua = fc_fua.geometry()\n",
        "  uhi_cnt = GetUhiStatsByYear(year).reduceRegion(ee.Reducer.count(), geo_fua, 1000).getInfo()\n",
        "  if uhi_cnt['UHI_Day_1km_p99'] > 0:\n",
        "    uhi_mean        = GetUhiStatsByYear(year).reduceRegion(ee.Reducer.mean(), geo_fua, 1000).getInfo()\n",
        "    # pop_sum_100m    = GetWorldPopByYear(year).reduceRegion(ee.Reducer.sum(), geo_fua, 100).getInfo()\n",
        "    pop_sum_1km     = GetWorldPopByYear(year).reduceRegion(ee.Reducer.sum(), geo_fua, 1000).getInfo()\n",
        "    uhiTimesPop_sum = GetUhiStatsTimesPopByYear(year).reduceRegion(ee.Reducer.sum(), geo_fua, 1000).getInfo()\n",
        "    fua_id   = gdf_fua[['eFUA_ID']].iloc[0].iloc[0]\n",
        "    fua_name = gdf_fua[['eFUA_name']].iloc[0].iloc[0]\n",
        "    uhi_day_p99_percap = uhiTimesPop_sum['UHI_Day_1km_p99']   / pop_sum_1km['population']\n",
        "    uhi_nig_p99_percap = uhiTimesPop_sum['UHI_Night_1km_p99'] / pop_sum_1km['population']\n",
        "    df_UhiPercap = pd.DataFrame({\n",
        "        'Year': year,\n",
        "        # 'population': pop_sum_100m['population'],\n",
        "        'UHI_Day_1km_p99': [uhi_mean['UHI_Day_1km_p99']],\n",
        "        'UHI_Night_1km_99': [uhi_mean['UHI_Night_1km_p99']],\n",
        "        'UHI_Day_1km_p95_percap': [uhi_day_p99_percap], \n",
        "        'UHI_Night_1km_p99_percap': [uhi_nig_p99_percap],\n",
        "        'eFUA_name':[fua_name], \n",
        "        'eFUA_ID':[fua_id]}, index=[fua_id])\n",
        "  else:\n",
        "    df_UhiPercap = pd.DataFrame({})\n",
        "  return df_UhiPercap\n",
        "\n",
        "print(GetUhiPercapFUAbyYear(gdf_Helsinki, 2020).empty)\n",
        "print(GetUhiPercapFUAbyYear(gdf_Shanghai, 2020))"
      ]
    },
    {
      "cell_type": "markdown",
      "metadata": {
        "id": "q27J5tkelGYf"
      },
      "source": [
        "## Apply function to all FUAs"
      ]
    },
    {
      "cell_type": "code",
      "execution_count": null,
      "metadata": {
        "colab": {
          "base_uri": "https://localhost:8080/"
        },
        "id": "mVyYdd49lJYJ",
        "outputId": "c7cb9e55-c819-46ea-de34-edb68f7c4be8"
      },
      "outputs": [
        {
          "output_type": "stream",
          "name": "stderr",
          "text": [
            "6it [05:22, 60.17s/it]"
          ]
        }
      ],
      "source": [
        "path_out = '/content/drive/MyDrive/Research_Projects/2022_UHI_vs_GHG/results/pop_weighted_UHIs/'\n",
        "filename_out = path_out + 'pop_weighted_uhi_fuas.csv'\n",
        "\n",
        "# Create a empty data frame for results\n",
        "df_UhiPercap = pd.DataFrame()\n",
        "\n",
        "# Read previous run\n",
        "# df_UhiPercap = pd.read_csv(filename_out)\n",
        "\n",
        "# Loop through FUAs\n",
        "for index, row in tqdm(gdf_FUAs.head(100).iterrows()):\n",
        "  for year in range(2003, 2021):\n",
        "    fua_id = row['eFUA_ID']\n",
        "    # is_FuaID_exists = (df_UhiPercap['eFUA_ID']==fua_id) # Has the FUA been run?\n",
        "    # is_Year_exists = (df_UhiPercap['Year']==year)       # Has the year been run?\n",
        "    # Only run the FUA-year combo that has not been run\n",
        "    # if df_UhiPercap.loc[is_FuaID_exists & is_Year_exists].empty:\n",
        "    gdf_fua = gdf_FUAs.loc[gdf_FUAs['eFUA_ID']==fua_id]\n",
        "    df_UhiPercap_new = GetUhiPercapFUAbyYear(gdf_fua, year)\n",
        "    if df_UhiPercap_new.empty==False:\n",
        "      df_UhiPercap = df_UhiPercap.append(df_UhiPercap_new)\n",
        "      df_UhiPercap.to_csv(filename_out)\n",
        "\n",
        "df_UhiPercap.head(10)"
      ]
    }
  ],
  "metadata": {
    "colab": {
      "collapsed_sections": [],
      "name": "01_pop_weighted_UHI_timeseries2.ipynb",
      "toc_visible": true,
      "provenance": [],
      "history_visible": true,
      "include_colab_link": true
    },
    "kernelspec": {
      "display_name": "Python 3",
      "name": "python3"
    },
    "language_info": {
      "name": "python"
    },
    "widgets": {
      "application/vnd.jupyter.widget-state+json": {
        "9eff18f5199f436b9868f012e876c2fa": {
          "model_module": "jupyter-leaflet",
          "model_name": "LeafletMapModel",
          "model_module_version": "^0.17.0",
          "state": {
            "_dom_classes": [],
            "_model_module": "jupyter-leaflet",
            "_model_module_version": "^0.17.0",
            "_model_name": "LeafletMapModel",
            "_view_count": null,
            "_view_module": "jupyter-leaflet",
            "_view_module_version": "^0.17.0",
            "_view_name": "LeafletMapView",
            "bottom": 53891,
            "bounce_at_zoom_limits": true,
            "box_zoom": true,
            "center": [
              31.1493569224881,
              121.42227172851564
            ],
            "close_popup_on_click": true,
            "controls": [
              "IPY_MODEL_c1b084de441442cd82ac76ccffee17c4",
              "IPY_MODEL_634d19c0965d4bdfb3f67e295f1508ae",
              "IPY_MODEL_b26927fdbb184433b91ca91d323921e1",
              "IPY_MODEL_d25c312fb6d143a6a4b3966b58341c60",
              "IPY_MODEL_8f0e3d8928c64301a7f9b5734bbd04ff",
              "IPY_MODEL_acd5347000954d088b36f89545cc4a48",
              "IPY_MODEL_356839ab4b314560b8f47b149c8b213c",
              "IPY_MODEL_ced516a875f3420b93de57ab70a6e6d1"
            ],
            "crs": {
              "name": "EPSG3857",
              "custom": false
            },
            "default_style": "IPY_MODEL_127bb2f6ee824912a102d579de33a59d",
            "double_click_zoom": true,
            "dragging": true,
            "dragging_style": "IPY_MODEL_3b242c67bc2b433690a98ebdd4f54e65",
            "east": 122.64312744140626,
            "fullscreen": false,
            "inertia": true,
            "inertia_deceleration": 3000,
            "inertia_max_speed": 1500,
            "interpolation": "bilinear",
            "keyboard": true,
            "keyboard_pan_offset": 80,
            "keyboard_zoom_offset": 1,
            "layers": [
              "IPY_MODEL_10d560afafbe4e37942c13704df08275",
              "IPY_MODEL_067963635b754056b656a5bc13eeee0c",
              "IPY_MODEL_e76ca4b957aa45178d6104385f6e16f6"
            ],
            "layout": "IPY_MODEL_17a81fb0c47c4c2985619532ca0c55fa",
            "left": 109300,
            "max_zoom": 24,
            "min_zoom": null,
            "modisdate": "2022-08-04",
            "north": 31.85189834587932,
            "options": [
              "bounce_at_zoom_limits",
              "box_zoom",
              "center",
              "close_popup_on_click",
              "double_click_zoom",
              "dragging",
              "fullscreen",
              "inertia",
              "inertia_deceleration",
              "inertia_max_speed",
              "interpolation",
              "keyboard",
              "keyboard_pan_offset",
              "keyboard_zoom_offset",
              "max_zoom",
              "min_zoom",
              "prefer_canvas",
              "scroll_wheel_zoom",
              "tap",
              "tap_tolerance",
              "touch_zoom",
              "world_copy_jump",
              "zoom",
              "zoom_animation_threshold",
              "zoom_delta",
              "zoom_snap"
            ],
            "panes": {},
            "prefer_canvas": false,
            "right": 110189,
            "scroll_wheel_zoom": true,
            "south": 30.441570071519468,
            "style": "IPY_MODEL_127bb2f6ee824912a102d579de33a59d",
            "tap": true,
            "tap_tolerance": 15,
            "top": 53291,
            "touch_zoom": true,
            "west": 120.20141601562501,
            "window_url": "https://cqhp8fvbh4-496ff2e9c6d22116-0-colab.googleusercontent.com/outputframe.html?vrz=colab-20220802-060059-RC00_464755217",
            "world_copy_jump": false,
            "zoom": 9,
            "zoom_animation_threshold": 4,
            "zoom_delta": 1,
            "zoom_snap": 1
          }
        },
        "c1b084de441442cd82ac76ccffee17c4": {
          "model_module": "jupyter-leaflet",
          "model_name": "LeafletWidgetControlModel",
          "model_module_version": "^0.17.0",
          "state": {
            "_model_module": "jupyter-leaflet",
            "_model_module_version": "^0.17.0",
            "_model_name": "LeafletWidgetControlModel",
            "_view_count": null,
            "_view_module": "jupyter-leaflet",
            "_view_module_version": "^0.17.0",
            "_view_name": "LeafletWidgetControlView",
            "max_height": null,
            "max_width": null,
            "min_height": null,
            "min_width": null,
            "options": [
              "position",
              "transparent_bg"
            ],
            "position": "topleft",
            "transparent_bg": false,
            "widget": "IPY_MODEL_ec7a9a1ea0d843e49d66f98e2e6d3ad5"
          }
        },
        "634d19c0965d4bdfb3f67e295f1508ae": {
          "model_module": "jupyter-leaflet",
          "model_name": "LeafletZoomControlModel",
          "model_module_version": "^0.17.0",
          "state": {
            "_model_module": "jupyter-leaflet",
            "_model_module_version": "^0.17.0",
            "_model_name": "LeafletZoomControlModel",
            "_view_count": null,
            "_view_module": "jupyter-leaflet",
            "_view_module_version": "^0.17.0",
            "_view_name": "LeafletZoomControlView",
            "options": [
              "position",
              "zoom_in_text",
              "zoom_in_title",
              "zoom_out_text",
              "zoom_out_title"
            ],
            "position": "topleft",
            "zoom_in_text": "+",
            "zoom_in_title": "Zoom in",
            "zoom_out_text": "-",
            "zoom_out_title": "Zoom out"
          }
        },
        "b26927fdbb184433b91ca91d323921e1": {
          "model_module": "jupyter-leaflet",
          "model_name": "LeafletScaleControlModel",
          "model_module_version": "^0.17.0",
          "state": {
            "_model_module": "jupyter-leaflet",
            "_model_module_version": "^0.17.0",
            "_model_name": "LeafletScaleControlModel",
            "_view_count": null,
            "_view_module": "jupyter-leaflet",
            "_view_module_version": "^0.17.0",
            "_view_name": "LeafletScaleControlView",
            "imperial": true,
            "max_width": 100,
            "metric": true,
            "options": [
              "imperial",
              "max_width",
              "metric",
              "position",
              "update_when_idle"
            ],
            "position": "bottomleft",
            "update_when_idle": false
          }
        },
        "d25c312fb6d143a6a4b3966b58341c60": {
          "model_module": "jupyter-leaflet",
          "model_name": "LeafletFullScreenControlModel",
          "model_module_version": "^0.17.0",
          "state": {
            "_model_module": "jupyter-leaflet",
            "_model_module_version": "^0.17.0",
            "_model_name": "LeafletFullScreenControlModel",
            "_view_count": null,
            "_view_module": "jupyter-leaflet",
            "_view_module_version": "^0.17.0",
            "_view_name": "LeafletFullScreenControlView",
            "options": [
              "position"
            ],
            "position": "topleft"
          }
        },
        "8f0e3d8928c64301a7f9b5734bbd04ff": {
          "model_module": "jupyter-leaflet",
          "model_name": "LeafletMeasureControlModel",
          "model_module_version": "^0.17.0",
          "state": {
            "_custom_units": {},
            "_model_module": "jupyter-leaflet",
            "_model_module_version": "^0.17.0",
            "_model_name": "LeafletMeasureControlModel",
            "_view_count": null,
            "_view_module": "jupyter-leaflet",
            "_view_module_version": "^0.17.0",
            "_view_name": "LeafletMeasureControlView",
            "active_color": "orange",
            "capture_z_index": 10000,
            "completed_color": "#C8F2BE",
            "options": [
              "active_color",
              "capture_z_index",
              "completed_color",
              "popup_options",
              "position",
              "primary_area_unit",
              "primary_length_unit",
              "secondary_area_unit",
              "secondary_length_unit"
            ],
            "popup_options": {
              "className": "leaflet-measure-resultpopup",
              "autoPanPadding": [
                10,
                10
              ]
            },
            "position": "bottomleft",
            "primary_area_unit": "acres",
            "primary_length_unit": "kilometers",
            "secondary_area_unit": null,
            "secondary_length_unit": null
          }
        },
        "acd5347000954d088b36f89545cc4a48": {
          "model_module": "jupyter-leaflet",
          "model_name": "LeafletAttributionControlModel",
          "model_module_version": "^0.17.0",
          "state": {
            "_model_module": "jupyter-leaflet",
            "_model_module_version": "^0.17.0",
            "_model_name": "LeafletAttributionControlModel",
            "_view_count": null,
            "_view_module": "jupyter-leaflet",
            "_view_module_version": "^0.17.0",
            "_view_name": "LeafletAttributionControlView",
            "options": [
              "position",
              "prefix"
            ],
            "position": "bottomright",
            "prefix": "ipyleaflet"
          }
        },
        "356839ab4b314560b8f47b149c8b213c": {
          "model_module": "jupyter-leaflet",
          "model_name": "LeafletDrawControlModel",
          "model_module_version": "^0.17.0",
          "state": {
            "_model_module": "jupyter-leaflet",
            "_model_module_version": "^0.17.0",
            "_model_name": "LeafletDrawControlModel",
            "_view_count": null,
            "_view_module": "jupyter-leaflet",
            "_view_module_version": "^0.17.0",
            "_view_name": "LeafletDrawControlView",
            "circle": {
              "shapeOptions": {
                "color": "#3388ff"
              }
            },
            "circlemarker": {},
            "data": [],
            "edit": true,
            "marker": {
              "shapeOptions": {
                "color": "#3388ff"
              }
            },
            "options": [
              "position"
            ],
            "polygon": {
              "shapeOptions": {}
            },
            "polyline": {
              "shapeOptions": {}
            },
            "position": "topleft",
            "rectangle": {
              "shapeOptions": {
                "color": "#3388ff"
              }
            },
            "remove": true
          }
        },
        "ced516a875f3420b93de57ab70a6e6d1": {
          "model_module": "jupyter-leaflet",
          "model_name": "LeafletWidgetControlModel",
          "model_module_version": "^0.17.0",
          "state": {
            "_model_module": "jupyter-leaflet",
            "_model_module_version": "^0.17.0",
            "_model_name": "LeafletWidgetControlModel",
            "_view_count": null,
            "_view_module": "jupyter-leaflet",
            "_view_module_version": "^0.17.0",
            "_view_name": "LeafletWidgetControlView",
            "max_height": null,
            "max_width": null,
            "min_height": null,
            "min_width": null,
            "options": [
              "position",
              "transparent_bg"
            ],
            "position": "topright",
            "transparent_bg": false,
            "widget": "IPY_MODEL_298c36b85b6a481080b96be0c245320a"
          }
        },
        "127bb2f6ee824912a102d579de33a59d": {
          "model_module": "jupyter-leaflet",
          "model_name": "LeafletMapStyleModel",
          "model_module_version": "^0.17.0",
          "state": {
            "_model_module": "jupyter-leaflet",
            "_model_module_version": "^0.17.0",
            "_model_name": "LeafletMapStyleModel",
            "_view_count": null,
            "_view_module": "@jupyter-widgets/base",
            "_view_module_version": "1.2.0",
            "_view_name": "StyleView",
            "cursor": "grab"
          }
        },
        "3b242c67bc2b433690a98ebdd4f54e65": {
          "model_module": "jupyter-leaflet",
          "model_name": "LeafletMapStyleModel",
          "model_module_version": "^0.17.0",
          "state": {
            "_model_module": "jupyter-leaflet",
            "_model_module_version": "^0.17.0",
            "_model_name": "LeafletMapStyleModel",
            "_view_count": null,
            "_view_module": "@jupyter-widgets/base",
            "_view_module_version": "1.2.0",
            "_view_name": "StyleView",
            "cursor": "move"
          }
        },
        "10d560afafbe4e37942c13704df08275": {
          "model_module": "jupyter-leaflet",
          "model_name": "LeafletTileLayerModel",
          "model_module_version": "^0.17.0",
          "state": {
            "_model_module": "jupyter-leaflet",
            "_model_module_version": "^0.17.0",
            "_model_name": "LeafletTileLayerModel",
            "_view_count": null,
            "_view_module": "jupyter-leaflet",
            "_view_module_version": "^0.17.0",
            "_view_name": "LeafletTileLayerView",
            "attribution": "&copy; <a href=\"https://www.openstreetmap.org/copyright\">OpenStreetMap</a> contributors",
            "base": true,
            "bottom": true,
            "bounds": null,
            "detect_retina": false,
            "loading": false,
            "max_native_zoom": null,
            "max_zoom": 19,
            "min_native_zoom": null,
            "min_zoom": 1,
            "name": "OpenStreetMap.Mapnik",
            "no_wrap": false,
            "opacity": 1,
            "options": [
              "attribution",
              "bounds",
              "detect_retina",
              "max_native_zoom",
              "max_zoom",
              "min_native_zoom",
              "min_zoom",
              "no_wrap",
              "tile_size",
              "tms"
            ],
            "pane": "",
            "popup": null,
            "popup_max_height": null,
            "popup_max_width": 300,
            "popup_min_width": 50,
            "show_loading": false,
            "tile_size": 256,
            "tms": false,
            "url": "https://a.tile.openstreetmap.org/{z}/{x}/{y}.png",
            "visible": true
          }
        },
        "067963635b754056b656a5bc13eeee0c": {
          "model_module": "jupyter-leaflet",
          "model_name": "LeafletTileLayerModel",
          "model_module_version": "^0.17.0",
          "state": {
            "_model_module": "jupyter-leaflet",
            "_model_module_version": "^0.17.0",
            "_model_name": "LeafletTileLayerModel",
            "_view_count": null,
            "_view_module": "jupyter-leaflet",
            "_view_module_version": "^0.17.0",
            "_view_name": "LeafletTileLayerView",
            "attribution": "Google",
            "base": false,
            "bottom": true,
            "bounds": null,
            "detect_retina": false,
            "loading": false,
            "max_native_zoom": null,
            "max_zoom": 22,
            "min_native_zoom": null,
            "min_zoom": 0,
            "name": "Google Maps",
            "no_wrap": false,
            "opacity": 1,
            "options": [
              "attribution",
              "bounds",
              "detect_retina",
              "max_native_zoom",
              "max_zoom",
              "min_native_zoom",
              "min_zoom",
              "no_wrap",
              "tile_size",
              "tms"
            ],
            "pane": "",
            "popup": null,
            "popup_max_height": null,
            "popup_max_width": 300,
            "popup_min_width": 50,
            "show_loading": false,
            "tile_size": 256,
            "tms": false,
            "url": "https://mt1.google.com/vt/lyrs=m&x={x}&y={y}&z={z}",
            "visible": true
          }
        },
        "e76ca4b957aa45178d6104385f6e16f6": {
          "model_module": "jupyter-leaflet",
          "model_name": "LeafletTileLayerModel",
          "model_module_version": "^0.17.0",
          "state": {
            "_model_module": "jupyter-leaflet",
            "_model_module_version": "^0.17.0",
            "_model_name": "LeafletTileLayerModel",
            "_view_count": null,
            "_view_module": "jupyter-leaflet",
            "_view_module_version": "^0.17.0",
            "_view_name": "LeafletTileLayerView",
            "attribution": "Google Earth Engine",
            "base": false,
            "bottom": true,
            "bounds": null,
            "detect_retina": false,
            "loading": false,
            "max_native_zoom": null,
            "max_zoom": 24,
            "min_native_zoom": null,
            "min_zoom": 0,
            "name": "Shanghai",
            "no_wrap": false,
            "opacity": 1,
            "options": [
              "attribution",
              "bounds",
              "detect_retina",
              "max_native_zoom",
              "max_zoom",
              "min_native_zoom",
              "min_zoom",
              "no_wrap",
              "tile_size",
              "tms"
            ],
            "pane": "",
            "popup": null,
            "popup_max_height": null,
            "popup_max_width": 300,
            "popup_min_width": 50,
            "show_loading": false,
            "tile_size": 256,
            "tms": false,
            "url": "https://earthengine.googleapis.com/v1alpha/projects/earthengine-legacy/maps/0baf1bf4c25f429042e6f3152f8afbef-4b1c32c4d3b5d502f18282c8093b92c9/tiles/{z}/{x}/{y}",
            "visible": true
          }
        },
        "17a81fb0c47c4c2985619532ca0c55fa": {
          "model_module": "@jupyter-widgets/base",
          "model_name": "LayoutModel",
          "model_module_version": "1.2.0",
          "state": {
            "_model_module": "@jupyter-widgets/base",
            "_model_module_version": "1.2.0",
            "_model_name": "LayoutModel",
            "_view_count": null,
            "_view_module": "@jupyter-widgets/base",
            "_view_module_version": "1.2.0",
            "_view_name": "LayoutView",
            "align_content": null,
            "align_items": null,
            "align_self": null,
            "border": null,
            "bottom": null,
            "display": null,
            "flex": null,
            "flex_flow": null,
            "grid_area": null,
            "grid_auto_columns": null,
            "grid_auto_flow": null,
            "grid_auto_rows": null,
            "grid_column": null,
            "grid_gap": null,
            "grid_row": null,
            "grid_template_areas": null,
            "grid_template_columns": null,
            "grid_template_rows": null,
            "height": "600px",
            "justify_content": null,
            "justify_items": null,
            "left": null,
            "margin": null,
            "max_height": null,
            "max_width": null,
            "min_height": null,
            "min_width": null,
            "object_fit": null,
            "object_position": null,
            "order": null,
            "overflow": null,
            "overflow_x": null,
            "overflow_y": null,
            "padding": null,
            "right": null,
            "top": null,
            "visibility": null,
            "width": null
          }
        },
        "6504f5d7d6ee463285d2e67dd562fad7": {
          "model_module": "jupyter-leaflet",
          "model_name": "LeafletMapStyleModel",
          "model_module_version": "^0.17.0",
          "state": {
            "_model_module": "jupyter-leaflet",
            "_model_module_version": "^0.17.0",
            "_model_name": "LeafletMapStyleModel",
            "_view_count": null,
            "_view_module": "@jupyter-widgets/base",
            "_view_module_version": "1.2.0",
            "_view_name": "StyleView",
            "cursor": "grab"
          }
        },
        "ec7a9a1ea0d843e49d66f98e2e6d3ad5": {
          "model_module": "@jupyter-widgets/controls",
          "model_name": "HBoxModel",
          "model_module_version": "1.5.0",
          "state": {
            "_dom_classes": [],
            "_model_module": "@jupyter-widgets/controls",
            "_model_module_version": "1.5.0",
            "_model_name": "HBoxModel",
            "_view_count": null,
            "_view_module": "@jupyter-widgets/controls",
            "_view_module_version": "1.5.0",
            "_view_name": "HBoxView",
            "box_style": "",
            "children": [
              "IPY_MODEL_e83c44aa802b41e7a7938f219ff55164"
            ],
            "layout": "IPY_MODEL_19b5f2db136d4d3c825611c61640bfa8"
          }
        },
        "298c36b85b6a481080b96be0c245320a": {
          "model_module": "@jupyter-widgets/controls",
          "model_name": "VBoxModel",
          "model_module_version": "1.5.0",
          "state": {
            "_dom_classes": [],
            "_model_module": "@jupyter-widgets/controls",
            "_model_module_version": "1.5.0",
            "_model_name": "VBoxModel",
            "_view_count": null,
            "_view_module": "@jupyter-widgets/controls",
            "_view_module_version": "1.5.0",
            "_view_name": "VBoxView",
            "box_style": "",
            "children": [
              "IPY_MODEL_5402ef01de824b729e8fdb4b958d3b5c"
            ],
            "layout": "IPY_MODEL_248b4cf3a4af4f39a02f46213424b587"
          }
        },
        "e83c44aa802b41e7a7938f219ff55164": {
          "model_module": "@jupyter-widgets/controls",
          "model_name": "ToggleButtonModel",
          "model_module_version": "1.5.0",
          "state": {
            "_dom_classes": [],
            "_model_module": "@jupyter-widgets/controls",
            "_model_module_version": "1.5.0",
            "_model_name": "ToggleButtonModel",
            "_view_count": null,
            "_view_module": "@jupyter-widgets/controls",
            "_view_module_version": "1.5.0",
            "_view_name": "ToggleButtonView",
            "button_style": "",
            "description": "",
            "description_tooltip": null,
            "disabled": false,
            "icon": "globe",
            "layout": "IPY_MODEL_321843d21fe14077857184456c5d2040",
            "style": "IPY_MODEL_e16221d3acff4b0485aa97ba46fd75c0",
            "tooltip": "Search location/data",
            "value": false
          }
        },
        "19b5f2db136d4d3c825611c61640bfa8": {
          "model_module": "@jupyter-widgets/base",
          "model_name": "LayoutModel",
          "model_module_version": "1.2.0",
          "state": {
            "_model_module": "@jupyter-widgets/base",
            "_model_module_version": "1.2.0",
            "_model_name": "LayoutModel",
            "_view_count": null,
            "_view_module": "@jupyter-widgets/base",
            "_view_module_version": "1.2.0",
            "_view_name": "LayoutView",
            "align_content": null,
            "align_items": null,
            "align_self": null,
            "border": null,
            "bottom": null,
            "display": null,
            "flex": null,
            "flex_flow": null,
            "grid_area": null,
            "grid_auto_columns": null,
            "grid_auto_flow": null,
            "grid_auto_rows": null,
            "grid_column": null,
            "grid_gap": null,
            "grid_row": null,
            "grid_template_areas": null,
            "grid_template_columns": null,
            "grid_template_rows": null,
            "height": null,
            "justify_content": null,
            "justify_items": null,
            "left": null,
            "margin": null,
            "max_height": null,
            "max_width": null,
            "min_height": null,
            "min_width": null,
            "object_fit": null,
            "object_position": null,
            "order": null,
            "overflow": null,
            "overflow_x": null,
            "overflow_y": null,
            "padding": null,
            "right": null,
            "top": null,
            "visibility": null,
            "width": null
          }
        },
        "5402ef01de824b729e8fdb4b958d3b5c": {
          "model_module": "@jupyter-widgets/controls",
          "model_name": "ToggleButtonModel",
          "model_module_version": "1.5.0",
          "state": {
            "_dom_classes": [],
            "_model_module": "@jupyter-widgets/controls",
            "_model_module_version": "1.5.0",
            "_model_name": "ToggleButtonModel",
            "_view_count": null,
            "_view_module": "@jupyter-widgets/controls",
            "_view_module_version": "1.5.0",
            "_view_name": "ToggleButtonView",
            "button_style": "",
            "description": "",
            "description_tooltip": null,
            "disabled": false,
            "icon": "wrench",
            "layout": "IPY_MODEL_ca383e318a0f4483a6ee4b8542904900",
            "style": "IPY_MODEL_4d703d866af54781b523beff3ee657f1",
            "tooltip": "Toolbar",
            "value": false
          }
        },
        "248b4cf3a4af4f39a02f46213424b587": {
          "model_module": "@jupyter-widgets/base",
          "model_name": "LayoutModel",
          "model_module_version": "1.2.0",
          "state": {
            "_model_module": "@jupyter-widgets/base",
            "_model_module_version": "1.2.0",
            "_model_name": "LayoutModel",
            "_view_count": null,
            "_view_module": "@jupyter-widgets/base",
            "_view_module_version": "1.2.0",
            "_view_name": "LayoutView",
            "align_content": null,
            "align_items": null,
            "align_self": null,
            "border": null,
            "bottom": null,
            "display": null,
            "flex": null,
            "flex_flow": null,
            "grid_area": null,
            "grid_auto_columns": null,
            "grid_auto_flow": null,
            "grid_auto_rows": null,
            "grid_column": null,
            "grid_gap": null,
            "grid_row": null,
            "grid_template_areas": null,
            "grid_template_columns": null,
            "grid_template_rows": null,
            "height": null,
            "justify_content": null,
            "justify_items": null,
            "left": null,
            "margin": null,
            "max_height": null,
            "max_width": null,
            "min_height": null,
            "min_width": null,
            "object_fit": null,
            "object_position": null,
            "order": null,
            "overflow": null,
            "overflow_x": null,
            "overflow_y": null,
            "padding": null,
            "right": null,
            "top": null,
            "visibility": null,
            "width": null
          }
        },
        "321843d21fe14077857184456c5d2040": {
          "model_module": "@jupyter-widgets/base",
          "model_name": "LayoutModel",
          "model_module_version": "1.2.0",
          "state": {
            "_model_module": "@jupyter-widgets/base",
            "_model_module_version": "1.2.0",
            "_model_name": "LayoutModel",
            "_view_count": null,
            "_view_module": "@jupyter-widgets/base",
            "_view_module_version": "1.2.0",
            "_view_name": "LayoutView",
            "align_content": null,
            "align_items": null,
            "align_self": null,
            "border": null,
            "bottom": null,
            "display": null,
            "flex": null,
            "flex_flow": null,
            "grid_area": null,
            "grid_auto_columns": null,
            "grid_auto_flow": null,
            "grid_auto_rows": null,
            "grid_column": null,
            "grid_gap": null,
            "grid_row": null,
            "grid_template_areas": null,
            "grid_template_columns": null,
            "grid_template_rows": null,
            "height": "28px",
            "justify_content": null,
            "justify_items": null,
            "left": null,
            "margin": null,
            "max_height": null,
            "max_width": null,
            "min_height": null,
            "min_width": null,
            "object_fit": null,
            "object_position": null,
            "order": null,
            "overflow": null,
            "overflow_x": null,
            "overflow_y": null,
            "padding": "0px 0px 0px 4px",
            "right": null,
            "top": null,
            "visibility": null,
            "width": "28px"
          }
        },
        "e16221d3acff4b0485aa97ba46fd75c0": {
          "model_module": "@jupyter-widgets/controls",
          "model_name": "DescriptionStyleModel",
          "model_module_version": "1.5.0",
          "state": {
            "_model_module": "@jupyter-widgets/controls",
            "_model_module_version": "1.5.0",
            "_model_name": "DescriptionStyleModel",
            "_view_count": null,
            "_view_module": "@jupyter-widgets/base",
            "_view_module_version": "1.2.0",
            "_view_name": "StyleView",
            "description_width": ""
          }
        },
        "ca383e318a0f4483a6ee4b8542904900": {
          "model_module": "@jupyter-widgets/base",
          "model_name": "LayoutModel",
          "model_module_version": "1.2.0",
          "state": {
            "_model_module": "@jupyter-widgets/base",
            "_model_module_version": "1.2.0",
            "_model_name": "LayoutModel",
            "_view_count": null,
            "_view_module": "@jupyter-widgets/base",
            "_view_module_version": "1.2.0",
            "_view_name": "LayoutView",
            "align_content": null,
            "align_items": null,
            "align_self": null,
            "border": null,
            "bottom": null,
            "display": null,
            "flex": null,
            "flex_flow": null,
            "grid_area": null,
            "grid_auto_columns": null,
            "grid_auto_flow": null,
            "grid_auto_rows": null,
            "grid_column": null,
            "grid_gap": null,
            "grid_row": null,
            "grid_template_areas": null,
            "grid_template_columns": null,
            "grid_template_rows": null,
            "height": "28px",
            "justify_content": null,
            "justify_items": null,
            "left": null,
            "margin": null,
            "max_height": null,
            "max_width": null,
            "min_height": null,
            "min_width": null,
            "object_fit": null,
            "object_position": null,
            "order": null,
            "overflow": null,
            "overflow_x": null,
            "overflow_y": null,
            "padding": "0px 0px 0px 4px",
            "right": null,
            "top": null,
            "visibility": null,
            "width": "28px"
          }
        },
        "4d703d866af54781b523beff3ee657f1": {
          "model_module": "@jupyter-widgets/controls",
          "model_name": "DescriptionStyleModel",
          "model_module_version": "1.5.0",
          "state": {
            "_model_module": "@jupyter-widgets/controls",
            "_model_module_version": "1.5.0",
            "_model_name": "DescriptionStyleModel",
            "_view_count": null,
            "_view_module": "@jupyter-widgets/base",
            "_view_module_version": "1.2.0",
            "_view_name": "StyleView",
            "description_width": ""
          }
        },
        "5a37fbdd09fa480694bb671cd02470f4": {
          "model_module": "jupyter-leaflet",
          "model_name": "LeafletMapModel",
          "model_module_version": "^0.17.0",
          "state": {
            "_dom_classes": [],
            "_model_module": "jupyter-leaflet",
            "_model_module_version": "^0.17.0",
            "_model_name": "LeafletMapModel",
            "_view_count": null,
            "_view_module": "jupyter-leaflet",
            "_view_module_version": "^0.17.0",
            "_view_name": "LeafletMapView",
            "bottom": 53891,
            "bounce_at_zoom_limits": true,
            "box_zoom": true,
            "center": [
              31.1493569224881,
              121.42227172851564
            ],
            "close_popup_on_click": true,
            "controls": [
              "IPY_MODEL_1c9007a5ea5749138bf43985e50915b6",
              "IPY_MODEL_0f0d38f265c248abb416b77f035e1754",
              "IPY_MODEL_6f2618ce8f774bcca55f17dea335a6da",
              "IPY_MODEL_e13bf60c613643db95fddaedd1f519e7",
              "IPY_MODEL_9d1fca26fd6649d4adbb07990f382f0c",
              "IPY_MODEL_aab1b75ccad4426294dd4ef2f262f642",
              "IPY_MODEL_4336711ea158419ea8dad201301c9fab",
              "IPY_MODEL_ed84aa4728f04852a9b69f6cc0b18a00"
            ],
            "crs": {
              "name": "EPSG3857",
              "custom": false
            },
            "default_style": "IPY_MODEL_8e659461784543e589a59f00a960c38c",
            "double_click_zoom": true,
            "dragging": true,
            "dragging_style": "IPY_MODEL_93f4df71564b40569b16295569401fdd",
            "east": 122.64312744140626,
            "fullscreen": false,
            "inertia": true,
            "inertia_deceleration": 3000,
            "inertia_max_speed": 1500,
            "interpolation": "bilinear",
            "keyboard": true,
            "keyboard_pan_offset": 80,
            "keyboard_zoom_offset": 1,
            "layers": [
              "IPY_MODEL_bd6c4a1c20c649888610431d92194b93",
              "IPY_MODEL_067963635b754056b656a5bc13eeee0c",
              "IPY_MODEL_6206474f254e48eb9eb5e62d018bfb31"
            ],
            "layout": "IPY_MODEL_3ad6a7f9d65341caa7369533635d8e57",
            "left": 109300,
            "max_zoom": 24,
            "min_zoom": null,
            "modisdate": "2022-08-04",
            "north": 31.85189834587932,
            "options": [
              "bounce_at_zoom_limits",
              "box_zoom",
              "center",
              "close_popup_on_click",
              "double_click_zoom",
              "dragging",
              "fullscreen",
              "inertia",
              "inertia_deceleration",
              "inertia_max_speed",
              "interpolation",
              "keyboard",
              "keyboard_pan_offset",
              "keyboard_zoom_offset",
              "max_zoom",
              "min_zoom",
              "prefer_canvas",
              "scroll_wheel_zoom",
              "tap",
              "tap_tolerance",
              "touch_zoom",
              "world_copy_jump",
              "zoom",
              "zoom_animation_threshold",
              "zoom_delta",
              "zoom_snap"
            ],
            "panes": {},
            "prefer_canvas": false,
            "right": 110189,
            "scroll_wheel_zoom": true,
            "south": 30.441570071519468,
            "style": "IPY_MODEL_8e659461784543e589a59f00a960c38c",
            "tap": true,
            "tap_tolerance": 15,
            "top": 53291,
            "touch_zoom": true,
            "west": 120.20141601562501,
            "window_url": "https://cqhp8fvbh4-496ff2e9c6d22116-0-colab.googleusercontent.com/outputframe.html?vrz=colab-20220802-060059-RC00_464755217",
            "world_copy_jump": false,
            "zoom": 9,
            "zoom_animation_threshold": 4,
            "zoom_delta": 1,
            "zoom_snap": 1
          }
        },
        "1c9007a5ea5749138bf43985e50915b6": {
          "model_module": "jupyter-leaflet",
          "model_name": "LeafletWidgetControlModel",
          "model_module_version": "^0.17.0",
          "state": {
            "_model_module": "jupyter-leaflet",
            "_model_module_version": "^0.17.0",
            "_model_name": "LeafletWidgetControlModel",
            "_view_count": null,
            "_view_module": "jupyter-leaflet",
            "_view_module_version": "^0.17.0",
            "_view_name": "LeafletWidgetControlView",
            "max_height": null,
            "max_width": null,
            "min_height": null,
            "min_width": null,
            "options": [
              "position",
              "transparent_bg"
            ],
            "position": "topleft",
            "transparent_bg": false,
            "widget": "IPY_MODEL_983012c9822749af9e45a188e9686718"
          }
        },
        "0f0d38f265c248abb416b77f035e1754": {
          "model_module": "jupyter-leaflet",
          "model_name": "LeafletZoomControlModel",
          "model_module_version": "^0.17.0",
          "state": {
            "_model_module": "jupyter-leaflet",
            "_model_module_version": "^0.17.0",
            "_model_name": "LeafletZoomControlModel",
            "_view_count": null,
            "_view_module": "jupyter-leaflet",
            "_view_module_version": "^0.17.0",
            "_view_name": "LeafletZoomControlView",
            "options": [
              "position",
              "zoom_in_text",
              "zoom_in_title",
              "zoom_out_text",
              "zoom_out_title"
            ],
            "position": "topleft",
            "zoom_in_text": "+",
            "zoom_in_title": "Zoom in",
            "zoom_out_text": "-",
            "zoom_out_title": "Zoom out"
          }
        },
        "6f2618ce8f774bcca55f17dea335a6da": {
          "model_module": "jupyter-leaflet",
          "model_name": "LeafletScaleControlModel",
          "model_module_version": "^0.17.0",
          "state": {
            "_model_module": "jupyter-leaflet",
            "_model_module_version": "^0.17.0",
            "_model_name": "LeafletScaleControlModel",
            "_view_count": null,
            "_view_module": "jupyter-leaflet",
            "_view_module_version": "^0.17.0",
            "_view_name": "LeafletScaleControlView",
            "imperial": true,
            "max_width": 100,
            "metric": true,
            "options": [
              "imperial",
              "max_width",
              "metric",
              "position",
              "update_when_idle"
            ],
            "position": "bottomleft",
            "update_when_idle": false
          }
        },
        "e13bf60c613643db95fddaedd1f519e7": {
          "model_module": "jupyter-leaflet",
          "model_name": "LeafletFullScreenControlModel",
          "model_module_version": "^0.17.0",
          "state": {
            "_model_module": "jupyter-leaflet",
            "_model_module_version": "^0.17.0",
            "_model_name": "LeafletFullScreenControlModel",
            "_view_count": null,
            "_view_module": "jupyter-leaflet",
            "_view_module_version": "^0.17.0",
            "_view_name": "LeafletFullScreenControlView",
            "options": [
              "position"
            ],
            "position": "topleft"
          }
        },
        "9d1fca26fd6649d4adbb07990f382f0c": {
          "model_module": "jupyter-leaflet",
          "model_name": "LeafletMeasureControlModel",
          "model_module_version": "^0.17.0",
          "state": {
            "_custom_units": {},
            "_model_module": "jupyter-leaflet",
            "_model_module_version": "^0.17.0",
            "_model_name": "LeafletMeasureControlModel",
            "_view_count": null,
            "_view_module": "jupyter-leaflet",
            "_view_module_version": "^0.17.0",
            "_view_name": "LeafletMeasureControlView",
            "active_color": "orange",
            "capture_z_index": 10000,
            "completed_color": "#C8F2BE",
            "options": [
              "active_color",
              "capture_z_index",
              "completed_color",
              "popup_options",
              "position",
              "primary_area_unit",
              "primary_length_unit",
              "secondary_area_unit",
              "secondary_length_unit"
            ],
            "popup_options": {
              "className": "leaflet-measure-resultpopup",
              "autoPanPadding": [
                10,
                10
              ]
            },
            "position": "bottomleft",
            "primary_area_unit": "acres",
            "primary_length_unit": "kilometers",
            "secondary_area_unit": null,
            "secondary_length_unit": null
          }
        },
        "aab1b75ccad4426294dd4ef2f262f642": {
          "model_module": "jupyter-leaflet",
          "model_name": "LeafletAttributionControlModel",
          "model_module_version": "^0.17.0",
          "state": {
            "_model_module": "jupyter-leaflet",
            "_model_module_version": "^0.17.0",
            "_model_name": "LeafletAttributionControlModel",
            "_view_count": null,
            "_view_module": "jupyter-leaflet",
            "_view_module_version": "^0.17.0",
            "_view_name": "LeafletAttributionControlView",
            "options": [
              "position",
              "prefix"
            ],
            "position": "bottomright",
            "prefix": "ipyleaflet"
          }
        },
        "4336711ea158419ea8dad201301c9fab": {
          "model_module": "jupyter-leaflet",
          "model_name": "LeafletDrawControlModel",
          "model_module_version": "^0.17.0",
          "state": {
            "_model_module": "jupyter-leaflet",
            "_model_module_version": "^0.17.0",
            "_model_name": "LeafletDrawControlModel",
            "_view_count": null,
            "_view_module": "jupyter-leaflet",
            "_view_module_version": "^0.17.0",
            "_view_name": "LeafletDrawControlView",
            "circle": {
              "shapeOptions": {
                "color": "#3388ff"
              }
            },
            "circlemarker": {},
            "data": [],
            "edit": true,
            "marker": {
              "shapeOptions": {
                "color": "#3388ff"
              }
            },
            "options": [
              "position"
            ],
            "polygon": {
              "shapeOptions": {}
            },
            "polyline": {
              "shapeOptions": {}
            },
            "position": "topleft",
            "rectangle": {
              "shapeOptions": {
                "color": "#3388ff"
              }
            },
            "remove": true
          }
        },
        "ed84aa4728f04852a9b69f6cc0b18a00": {
          "model_module": "jupyter-leaflet",
          "model_name": "LeafletWidgetControlModel",
          "model_module_version": "^0.17.0",
          "state": {
            "_model_module": "jupyter-leaflet",
            "_model_module_version": "^0.17.0",
            "_model_name": "LeafletWidgetControlModel",
            "_view_count": null,
            "_view_module": "jupyter-leaflet",
            "_view_module_version": "^0.17.0",
            "_view_name": "LeafletWidgetControlView",
            "max_height": null,
            "max_width": null,
            "min_height": null,
            "min_width": null,
            "options": [
              "position",
              "transparent_bg"
            ],
            "position": "topright",
            "transparent_bg": false,
            "widget": "IPY_MODEL_f41f8ed7e6714d2c9b5912ba3ba39d91"
          }
        },
        "8e659461784543e589a59f00a960c38c": {
          "model_module": "jupyter-leaflet",
          "model_name": "LeafletMapStyleModel",
          "model_module_version": "^0.17.0",
          "state": {
            "_model_module": "jupyter-leaflet",
            "_model_module_version": "^0.17.0",
            "_model_name": "LeafletMapStyleModel",
            "_view_count": null,
            "_view_module": "@jupyter-widgets/base",
            "_view_module_version": "1.2.0",
            "_view_name": "StyleView",
            "cursor": "grab"
          }
        },
        "93f4df71564b40569b16295569401fdd": {
          "model_module": "jupyter-leaflet",
          "model_name": "LeafletMapStyleModel",
          "model_module_version": "^0.17.0",
          "state": {
            "_model_module": "jupyter-leaflet",
            "_model_module_version": "^0.17.0",
            "_model_name": "LeafletMapStyleModel",
            "_view_count": null,
            "_view_module": "@jupyter-widgets/base",
            "_view_module_version": "1.2.0",
            "_view_name": "StyleView",
            "cursor": "move"
          }
        },
        "bd6c4a1c20c649888610431d92194b93": {
          "model_module": "jupyter-leaflet",
          "model_name": "LeafletTileLayerModel",
          "model_module_version": "^0.17.0",
          "state": {
            "_model_module": "jupyter-leaflet",
            "_model_module_version": "^0.17.0",
            "_model_name": "LeafletTileLayerModel",
            "_view_count": null,
            "_view_module": "jupyter-leaflet",
            "_view_module_version": "^0.17.0",
            "_view_name": "LeafletTileLayerView",
            "attribution": "&copy; <a href=\"https://www.openstreetmap.org/copyright\">OpenStreetMap</a> contributors",
            "base": true,
            "bottom": true,
            "bounds": null,
            "detect_retina": false,
            "loading": false,
            "max_native_zoom": null,
            "max_zoom": 19,
            "min_native_zoom": null,
            "min_zoom": 1,
            "name": "OpenStreetMap.Mapnik",
            "no_wrap": false,
            "opacity": 1,
            "options": [
              "attribution",
              "bounds",
              "detect_retina",
              "max_native_zoom",
              "max_zoom",
              "min_native_zoom",
              "min_zoom",
              "no_wrap",
              "tile_size",
              "tms"
            ],
            "pane": "",
            "popup": null,
            "popup_max_height": null,
            "popup_max_width": 300,
            "popup_min_width": 50,
            "show_loading": false,
            "tile_size": 256,
            "tms": false,
            "url": "https://a.tile.openstreetmap.org/{z}/{x}/{y}.png",
            "visible": true
          }
        },
        "6206474f254e48eb9eb5e62d018bfb31": {
          "model_module": "jupyter-leaflet",
          "model_name": "LeafletTileLayerModel",
          "model_module_version": "^0.17.0",
          "state": {
            "_model_module": "jupyter-leaflet",
            "_model_module_version": "^0.17.0",
            "_model_name": "LeafletTileLayerModel",
            "_view_count": null,
            "_view_module": "jupyter-leaflet",
            "_view_module_version": "^0.17.0",
            "_view_name": "LeafletTileLayerView",
            "attribution": "Google Earth Engine",
            "base": false,
            "bottom": true,
            "bounds": null,
            "detect_retina": false,
            "loading": false,
            "max_native_zoom": null,
            "max_zoom": 24,
            "min_native_zoom": null,
            "min_zoom": 0,
            "name": "UHI 2020",
            "no_wrap": false,
            "opacity": 1,
            "options": [
              "attribution",
              "bounds",
              "detect_retina",
              "max_native_zoom",
              "max_zoom",
              "min_native_zoom",
              "min_zoom",
              "no_wrap",
              "tile_size",
              "tms"
            ],
            "pane": "",
            "popup": null,
            "popup_max_height": null,
            "popup_max_width": 300,
            "popup_min_width": 50,
            "show_loading": false,
            "tile_size": 256,
            "tms": false,
            "url": "https://earthengine.googleapis.com/v1alpha/projects/earthengine-legacy/maps/dc24b52644631a0819c05167f4a99607-e4cb0b28f5a6ed24698318be0b865b42/tiles/{z}/{x}/{y}",
            "visible": true
          }
        },
        "3ad6a7f9d65341caa7369533635d8e57": {
          "model_module": "@jupyter-widgets/base",
          "model_name": "LayoutModel",
          "model_module_version": "1.2.0",
          "state": {
            "_model_module": "@jupyter-widgets/base",
            "_model_module_version": "1.2.0",
            "_model_name": "LayoutModel",
            "_view_count": null,
            "_view_module": "@jupyter-widgets/base",
            "_view_module_version": "1.2.0",
            "_view_name": "LayoutView",
            "align_content": null,
            "align_items": null,
            "align_self": null,
            "border": null,
            "bottom": null,
            "display": null,
            "flex": null,
            "flex_flow": null,
            "grid_area": null,
            "grid_auto_columns": null,
            "grid_auto_flow": null,
            "grid_auto_rows": null,
            "grid_column": null,
            "grid_gap": null,
            "grid_row": null,
            "grid_template_areas": null,
            "grid_template_columns": null,
            "grid_template_rows": null,
            "height": "600px",
            "justify_content": null,
            "justify_items": null,
            "left": null,
            "margin": null,
            "max_height": null,
            "max_width": null,
            "min_height": null,
            "min_width": null,
            "object_fit": null,
            "object_position": null,
            "order": null,
            "overflow": null,
            "overflow_x": null,
            "overflow_y": null,
            "padding": null,
            "right": null,
            "top": null,
            "visibility": null,
            "width": null
          }
        },
        "3b26de309c8a42ec9c02376ce93f68ce": {
          "model_module": "jupyter-leaflet",
          "model_name": "LeafletMapStyleModel",
          "model_module_version": "^0.17.0",
          "state": {
            "_model_module": "jupyter-leaflet",
            "_model_module_version": "^0.17.0",
            "_model_name": "LeafletMapStyleModel",
            "_view_count": null,
            "_view_module": "@jupyter-widgets/base",
            "_view_module_version": "1.2.0",
            "_view_name": "StyleView",
            "cursor": "grab"
          }
        },
        "983012c9822749af9e45a188e9686718": {
          "model_module": "@jupyter-widgets/controls",
          "model_name": "HBoxModel",
          "model_module_version": "1.5.0",
          "state": {
            "_dom_classes": [],
            "_model_module": "@jupyter-widgets/controls",
            "_model_module_version": "1.5.0",
            "_model_name": "HBoxModel",
            "_view_count": null,
            "_view_module": "@jupyter-widgets/controls",
            "_view_module_version": "1.5.0",
            "_view_name": "HBoxView",
            "box_style": "",
            "children": [
              "IPY_MODEL_ae06b510f5d3450b82f6e65da733f4c5"
            ],
            "layout": "IPY_MODEL_3a558b9fdfe54e45b40696e2a8ca2562"
          }
        },
        "f41f8ed7e6714d2c9b5912ba3ba39d91": {
          "model_module": "@jupyter-widgets/controls",
          "model_name": "VBoxModel",
          "model_module_version": "1.5.0",
          "state": {
            "_dom_classes": [],
            "_model_module": "@jupyter-widgets/controls",
            "_model_module_version": "1.5.0",
            "_model_name": "VBoxModel",
            "_view_count": null,
            "_view_module": "@jupyter-widgets/controls",
            "_view_module_version": "1.5.0",
            "_view_name": "VBoxView",
            "box_style": "",
            "children": [
              "IPY_MODEL_5dec514778a8488c97ddfd75eb53399b"
            ],
            "layout": "IPY_MODEL_6abc4d3d7ddf42febbf20f87d83e0205"
          }
        },
        "ae06b510f5d3450b82f6e65da733f4c5": {
          "model_module": "@jupyter-widgets/controls",
          "model_name": "ToggleButtonModel",
          "model_module_version": "1.5.0",
          "state": {
            "_dom_classes": [],
            "_model_module": "@jupyter-widgets/controls",
            "_model_module_version": "1.5.0",
            "_model_name": "ToggleButtonModel",
            "_view_count": null,
            "_view_module": "@jupyter-widgets/controls",
            "_view_module_version": "1.5.0",
            "_view_name": "ToggleButtonView",
            "button_style": "",
            "description": "",
            "description_tooltip": null,
            "disabled": false,
            "icon": "globe",
            "layout": "IPY_MODEL_20e5524100c04436bcbbcc025b47268a",
            "style": "IPY_MODEL_3d5f9c36b9ff4d32b29f28bb13c95d23",
            "tooltip": "Search location/data",
            "value": false
          }
        },
        "3a558b9fdfe54e45b40696e2a8ca2562": {
          "model_module": "@jupyter-widgets/base",
          "model_name": "LayoutModel",
          "model_module_version": "1.2.0",
          "state": {
            "_model_module": "@jupyter-widgets/base",
            "_model_module_version": "1.2.0",
            "_model_name": "LayoutModel",
            "_view_count": null,
            "_view_module": "@jupyter-widgets/base",
            "_view_module_version": "1.2.0",
            "_view_name": "LayoutView",
            "align_content": null,
            "align_items": null,
            "align_self": null,
            "border": null,
            "bottom": null,
            "display": null,
            "flex": null,
            "flex_flow": null,
            "grid_area": null,
            "grid_auto_columns": null,
            "grid_auto_flow": null,
            "grid_auto_rows": null,
            "grid_column": null,
            "grid_gap": null,
            "grid_row": null,
            "grid_template_areas": null,
            "grid_template_columns": null,
            "grid_template_rows": null,
            "height": null,
            "justify_content": null,
            "justify_items": null,
            "left": null,
            "margin": null,
            "max_height": null,
            "max_width": null,
            "min_height": null,
            "min_width": null,
            "object_fit": null,
            "object_position": null,
            "order": null,
            "overflow": null,
            "overflow_x": null,
            "overflow_y": null,
            "padding": null,
            "right": null,
            "top": null,
            "visibility": null,
            "width": null
          }
        },
        "5dec514778a8488c97ddfd75eb53399b": {
          "model_module": "@jupyter-widgets/controls",
          "model_name": "ToggleButtonModel",
          "model_module_version": "1.5.0",
          "state": {
            "_dom_classes": [],
            "_model_module": "@jupyter-widgets/controls",
            "_model_module_version": "1.5.0",
            "_model_name": "ToggleButtonModel",
            "_view_count": null,
            "_view_module": "@jupyter-widgets/controls",
            "_view_module_version": "1.5.0",
            "_view_name": "ToggleButtonView",
            "button_style": "",
            "description": "",
            "description_tooltip": null,
            "disabled": false,
            "icon": "wrench",
            "layout": "IPY_MODEL_b2999763f62247deaa6dc519e2a4d257",
            "style": "IPY_MODEL_f4da4383f3bf4cd583055acb9f68a6d3",
            "tooltip": "Toolbar",
            "value": false
          }
        },
        "6abc4d3d7ddf42febbf20f87d83e0205": {
          "model_module": "@jupyter-widgets/base",
          "model_name": "LayoutModel",
          "model_module_version": "1.2.0",
          "state": {
            "_model_module": "@jupyter-widgets/base",
            "_model_module_version": "1.2.0",
            "_model_name": "LayoutModel",
            "_view_count": null,
            "_view_module": "@jupyter-widgets/base",
            "_view_module_version": "1.2.0",
            "_view_name": "LayoutView",
            "align_content": null,
            "align_items": null,
            "align_self": null,
            "border": null,
            "bottom": null,
            "display": null,
            "flex": null,
            "flex_flow": null,
            "grid_area": null,
            "grid_auto_columns": null,
            "grid_auto_flow": null,
            "grid_auto_rows": null,
            "grid_column": null,
            "grid_gap": null,
            "grid_row": null,
            "grid_template_areas": null,
            "grid_template_columns": null,
            "grid_template_rows": null,
            "height": null,
            "justify_content": null,
            "justify_items": null,
            "left": null,
            "margin": null,
            "max_height": null,
            "max_width": null,
            "min_height": null,
            "min_width": null,
            "object_fit": null,
            "object_position": null,
            "order": null,
            "overflow": null,
            "overflow_x": null,
            "overflow_y": null,
            "padding": null,
            "right": null,
            "top": null,
            "visibility": null,
            "width": null
          }
        },
        "20e5524100c04436bcbbcc025b47268a": {
          "model_module": "@jupyter-widgets/base",
          "model_name": "LayoutModel",
          "model_module_version": "1.2.0",
          "state": {
            "_model_module": "@jupyter-widgets/base",
            "_model_module_version": "1.2.0",
            "_model_name": "LayoutModel",
            "_view_count": null,
            "_view_module": "@jupyter-widgets/base",
            "_view_module_version": "1.2.0",
            "_view_name": "LayoutView",
            "align_content": null,
            "align_items": null,
            "align_self": null,
            "border": null,
            "bottom": null,
            "display": null,
            "flex": null,
            "flex_flow": null,
            "grid_area": null,
            "grid_auto_columns": null,
            "grid_auto_flow": null,
            "grid_auto_rows": null,
            "grid_column": null,
            "grid_gap": null,
            "grid_row": null,
            "grid_template_areas": null,
            "grid_template_columns": null,
            "grid_template_rows": null,
            "height": "28px",
            "justify_content": null,
            "justify_items": null,
            "left": null,
            "margin": null,
            "max_height": null,
            "max_width": null,
            "min_height": null,
            "min_width": null,
            "object_fit": null,
            "object_position": null,
            "order": null,
            "overflow": null,
            "overflow_x": null,
            "overflow_y": null,
            "padding": "0px 0px 0px 4px",
            "right": null,
            "top": null,
            "visibility": null,
            "width": "28px"
          }
        },
        "3d5f9c36b9ff4d32b29f28bb13c95d23": {
          "model_module": "@jupyter-widgets/controls",
          "model_name": "DescriptionStyleModel",
          "model_module_version": "1.5.0",
          "state": {
            "_model_module": "@jupyter-widgets/controls",
            "_model_module_version": "1.5.0",
            "_model_name": "DescriptionStyleModel",
            "_view_count": null,
            "_view_module": "@jupyter-widgets/base",
            "_view_module_version": "1.2.0",
            "_view_name": "StyleView",
            "description_width": ""
          }
        },
        "b2999763f62247deaa6dc519e2a4d257": {
          "model_module": "@jupyter-widgets/base",
          "model_name": "LayoutModel",
          "model_module_version": "1.2.0",
          "state": {
            "_model_module": "@jupyter-widgets/base",
            "_model_module_version": "1.2.0",
            "_model_name": "LayoutModel",
            "_view_count": null,
            "_view_module": "@jupyter-widgets/base",
            "_view_module_version": "1.2.0",
            "_view_name": "LayoutView",
            "align_content": null,
            "align_items": null,
            "align_self": null,
            "border": null,
            "bottom": null,
            "display": null,
            "flex": null,
            "flex_flow": null,
            "grid_area": null,
            "grid_auto_columns": null,
            "grid_auto_flow": null,
            "grid_auto_rows": null,
            "grid_column": null,
            "grid_gap": null,
            "grid_row": null,
            "grid_template_areas": null,
            "grid_template_columns": null,
            "grid_template_rows": null,
            "height": "28px",
            "justify_content": null,
            "justify_items": null,
            "left": null,
            "margin": null,
            "max_height": null,
            "max_width": null,
            "min_height": null,
            "min_width": null,
            "object_fit": null,
            "object_position": null,
            "order": null,
            "overflow": null,
            "overflow_x": null,
            "overflow_y": null,
            "padding": "0px 0px 0px 4px",
            "right": null,
            "top": null,
            "visibility": null,
            "width": "28px"
          }
        },
        "f4da4383f3bf4cd583055acb9f68a6d3": {
          "model_module": "@jupyter-widgets/controls",
          "model_name": "DescriptionStyleModel",
          "model_module_version": "1.5.0",
          "state": {
            "_model_module": "@jupyter-widgets/controls",
            "_model_module_version": "1.5.0",
            "_model_name": "DescriptionStyleModel",
            "_view_count": null,
            "_view_module": "@jupyter-widgets/base",
            "_view_module_version": "1.2.0",
            "_view_name": "StyleView",
            "description_width": ""
          }
        },
        "2167d878cae1490f81c5515d472fd3f0": {
          "model_module": "jupyter-leaflet",
          "model_name": "LeafletMapModel",
          "model_module_version": "^0.17.0",
          "state": {
            "_dom_classes": [],
            "_model_module": "jupyter-leaflet",
            "_model_module_version": "^0.17.0",
            "_model_name": "LeafletMapModel",
            "_view_count": null,
            "_view_module": "jupyter-leaflet",
            "_view_module_version": "^0.17.0",
            "_view_name": "LeafletMapView",
            "bottom": 53891,
            "bounce_at_zoom_limits": true,
            "box_zoom": true,
            "center": [
              31.1493569224881,
              121.42227172851564
            ],
            "close_popup_on_click": true,
            "controls": [
              "IPY_MODEL_f965848a263649dba08aca20db85b5d8",
              "IPY_MODEL_4c45dd8a166249f3bb9525ce989eb18a",
              "IPY_MODEL_9a07f6ac7ceb45e7ba66ae0eff0d7ba4",
              "IPY_MODEL_48df6d2f8d9a4fd4b039f0a8449f664e",
              "IPY_MODEL_ec790c4a21c849bd872a2e13c1a83cd9",
              "IPY_MODEL_8cebce3421a84abea566ce81f771110f",
              "IPY_MODEL_6af6d6a9f0864036849c445f3c1cdfc5",
              "IPY_MODEL_77d9aba9e03440289643ed6a4a67b9e9"
            ],
            "crs": {
              "name": "EPSG3857",
              "custom": false
            },
            "default_style": "IPY_MODEL_8c9c0dd7ee4e4209a18157fa6ff60835",
            "double_click_zoom": true,
            "dragging": true,
            "dragging_style": "IPY_MODEL_63d86f549e584c7d90fc39c4c0cdb669",
            "east": 123.45611572265626,
            "fullscreen": false,
            "inertia": true,
            "inertia_deceleration": 3000,
            "inertia_max_speed": 1500,
            "interpolation": "bilinear",
            "keyboard": true,
            "keyboard_pan_offset": 80,
            "keyboard_zoom_offset": 1,
            "layers": [
              "IPY_MODEL_f126613e9531430db550e6e7d5bfcb0f",
              "IPY_MODEL_067963635b754056b656a5bc13eeee0c",
              "IPY_MODEL_eab201ed56f040149a9eef4a756a7ea0"
            ],
            "layout": "IPY_MODEL_453fab2af4cb4a1d95e2ed699e98b44e",
            "left": 109004,
            "max_zoom": 24,
            "min_zoom": null,
            "modisdate": "2022-08-04",
            "north": 31.85189834587932,
            "options": [
              "bounce_at_zoom_limits",
              "box_zoom",
              "center",
              "close_popup_on_click",
              "double_click_zoom",
              "dragging",
              "fullscreen",
              "inertia",
              "inertia_deceleration",
              "inertia_max_speed",
              "interpolation",
              "keyboard",
              "keyboard_pan_offset",
              "keyboard_zoom_offset",
              "max_zoom",
              "min_zoom",
              "prefer_canvas",
              "scroll_wheel_zoom",
              "tap",
              "tap_tolerance",
              "touch_zoom",
              "world_copy_jump",
              "zoom",
              "zoom_animation_threshold",
              "zoom_delta",
              "zoom_snap"
            ],
            "panes": {},
            "prefer_canvas": false,
            "right": 110485,
            "scroll_wheel_zoom": true,
            "south": 30.441570071519468,
            "style": "IPY_MODEL_8c9c0dd7ee4e4209a18157fa6ff60835",
            "tap": true,
            "tap_tolerance": 15,
            "top": 53291,
            "touch_zoom": true,
            "west": 119.38842773437501,
            "window_url": "https://cqhp8fvbh4-496ff2e9c6d22116-0-colab.googleusercontent.com/outputframe.html?vrz=colab-20220802-060059-RC00_464755217",
            "world_copy_jump": false,
            "zoom": 9,
            "zoom_animation_threshold": 4,
            "zoom_delta": 1,
            "zoom_snap": 1
          }
        },
        "f965848a263649dba08aca20db85b5d8": {
          "model_module": "jupyter-leaflet",
          "model_name": "LeafletWidgetControlModel",
          "model_module_version": "^0.17.0",
          "state": {
            "_model_module": "jupyter-leaflet",
            "_model_module_version": "^0.17.0",
            "_model_name": "LeafletWidgetControlModel",
            "_view_count": null,
            "_view_module": "jupyter-leaflet",
            "_view_module_version": "^0.17.0",
            "_view_name": "LeafletWidgetControlView",
            "max_height": null,
            "max_width": null,
            "min_height": null,
            "min_width": null,
            "options": [
              "position",
              "transparent_bg"
            ],
            "position": "topleft",
            "transparent_bg": false,
            "widget": "IPY_MODEL_c21d84f73fa9473ab5202b1e5b85d5e8"
          }
        },
        "4c45dd8a166249f3bb9525ce989eb18a": {
          "model_module": "jupyter-leaflet",
          "model_name": "LeafletZoomControlModel",
          "model_module_version": "^0.17.0",
          "state": {
            "_model_module": "jupyter-leaflet",
            "_model_module_version": "^0.17.0",
            "_model_name": "LeafletZoomControlModel",
            "_view_count": null,
            "_view_module": "jupyter-leaflet",
            "_view_module_version": "^0.17.0",
            "_view_name": "LeafletZoomControlView",
            "options": [
              "position",
              "zoom_in_text",
              "zoom_in_title",
              "zoom_out_text",
              "zoom_out_title"
            ],
            "position": "topleft",
            "zoom_in_text": "+",
            "zoom_in_title": "Zoom in",
            "zoom_out_text": "-",
            "zoom_out_title": "Zoom out"
          }
        },
        "9a07f6ac7ceb45e7ba66ae0eff0d7ba4": {
          "model_module": "jupyter-leaflet",
          "model_name": "LeafletScaleControlModel",
          "model_module_version": "^0.17.0",
          "state": {
            "_model_module": "jupyter-leaflet",
            "_model_module_version": "^0.17.0",
            "_model_name": "LeafletScaleControlModel",
            "_view_count": null,
            "_view_module": "jupyter-leaflet",
            "_view_module_version": "^0.17.0",
            "_view_name": "LeafletScaleControlView",
            "imperial": true,
            "max_width": 100,
            "metric": true,
            "options": [
              "imperial",
              "max_width",
              "metric",
              "position",
              "update_when_idle"
            ],
            "position": "bottomleft",
            "update_when_idle": false
          }
        },
        "48df6d2f8d9a4fd4b039f0a8449f664e": {
          "model_module": "jupyter-leaflet",
          "model_name": "LeafletFullScreenControlModel",
          "model_module_version": "^0.17.0",
          "state": {
            "_model_module": "jupyter-leaflet",
            "_model_module_version": "^0.17.0",
            "_model_name": "LeafletFullScreenControlModel",
            "_view_count": null,
            "_view_module": "jupyter-leaflet",
            "_view_module_version": "^0.17.0",
            "_view_name": "LeafletFullScreenControlView",
            "options": [
              "position"
            ],
            "position": "topleft"
          }
        },
        "ec790c4a21c849bd872a2e13c1a83cd9": {
          "model_module": "jupyter-leaflet",
          "model_name": "LeafletMeasureControlModel",
          "model_module_version": "^0.17.0",
          "state": {
            "_custom_units": {},
            "_model_module": "jupyter-leaflet",
            "_model_module_version": "^0.17.0",
            "_model_name": "LeafletMeasureControlModel",
            "_view_count": null,
            "_view_module": "jupyter-leaflet",
            "_view_module_version": "^0.17.0",
            "_view_name": "LeafletMeasureControlView",
            "active_color": "orange",
            "capture_z_index": 10000,
            "completed_color": "#C8F2BE",
            "options": [
              "active_color",
              "capture_z_index",
              "completed_color",
              "popup_options",
              "position",
              "primary_area_unit",
              "primary_length_unit",
              "secondary_area_unit",
              "secondary_length_unit"
            ],
            "popup_options": {
              "className": "leaflet-measure-resultpopup",
              "autoPanPadding": [
                10,
                10
              ]
            },
            "position": "bottomleft",
            "primary_area_unit": "acres",
            "primary_length_unit": "kilometers",
            "secondary_area_unit": null,
            "secondary_length_unit": null
          }
        },
        "8cebce3421a84abea566ce81f771110f": {
          "model_module": "jupyter-leaflet",
          "model_name": "LeafletAttributionControlModel",
          "model_module_version": "^0.17.0",
          "state": {
            "_model_module": "jupyter-leaflet",
            "_model_module_version": "^0.17.0",
            "_model_name": "LeafletAttributionControlModel",
            "_view_count": null,
            "_view_module": "jupyter-leaflet",
            "_view_module_version": "^0.17.0",
            "_view_name": "LeafletAttributionControlView",
            "options": [
              "position",
              "prefix"
            ],
            "position": "bottomright",
            "prefix": "ipyleaflet"
          }
        },
        "6af6d6a9f0864036849c445f3c1cdfc5": {
          "model_module": "jupyter-leaflet",
          "model_name": "LeafletDrawControlModel",
          "model_module_version": "^0.17.0",
          "state": {
            "_model_module": "jupyter-leaflet",
            "_model_module_version": "^0.17.0",
            "_model_name": "LeafletDrawControlModel",
            "_view_count": null,
            "_view_module": "jupyter-leaflet",
            "_view_module_version": "^0.17.0",
            "_view_name": "LeafletDrawControlView",
            "circle": {
              "shapeOptions": {
                "color": "#3388ff"
              }
            },
            "circlemarker": {},
            "data": [],
            "edit": true,
            "marker": {
              "shapeOptions": {
                "color": "#3388ff"
              }
            },
            "options": [
              "position"
            ],
            "polygon": {
              "shapeOptions": {}
            },
            "polyline": {
              "shapeOptions": {}
            },
            "position": "topleft",
            "rectangle": {
              "shapeOptions": {
                "color": "#3388ff"
              }
            },
            "remove": true
          }
        },
        "77d9aba9e03440289643ed6a4a67b9e9": {
          "model_module": "jupyter-leaflet",
          "model_name": "LeafletWidgetControlModel",
          "model_module_version": "^0.17.0",
          "state": {
            "_model_module": "jupyter-leaflet",
            "_model_module_version": "^0.17.0",
            "_model_name": "LeafletWidgetControlModel",
            "_view_count": null,
            "_view_module": "jupyter-leaflet",
            "_view_module_version": "^0.17.0",
            "_view_name": "LeafletWidgetControlView",
            "max_height": null,
            "max_width": null,
            "min_height": null,
            "min_width": null,
            "options": [
              "position",
              "transparent_bg"
            ],
            "position": "topright",
            "transparent_bg": false,
            "widget": "IPY_MODEL_974d2b70ef6a4bc9902965e46f7774be"
          }
        },
        "8c9c0dd7ee4e4209a18157fa6ff60835": {
          "model_module": "jupyter-leaflet",
          "model_name": "LeafletMapStyleModel",
          "model_module_version": "^0.17.0",
          "state": {
            "_model_module": "jupyter-leaflet",
            "_model_module_version": "^0.17.0",
            "_model_name": "LeafletMapStyleModel",
            "_view_count": null,
            "_view_module": "@jupyter-widgets/base",
            "_view_module_version": "1.2.0",
            "_view_name": "StyleView",
            "cursor": "grab"
          }
        },
        "63d86f549e584c7d90fc39c4c0cdb669": {
          "model_module": "jupyter-leaflet",
          "model_name": "LeafletMapStyleModel",
          "model_module_version": "^0.17.0",
          "state": {
            "_model_module": "jupyter-leaflet",
            "_model_module_version": "^0.17.0",
            "_model_name": "LeafletMapStyleModel",
            "_view_count": null,
            "_view_module": "@jupyter-widgets/base",
            "_view_module_version": "1.2.0",
            "_view_name": "StyleView",
            "cursor": "move"
          }
        },
        "f126613e9531430db550e6e7d5bfcb0f": {
          "model_module": "jupyter-leaflet",
          "model_name": "LeafletTileLayerModel",
          "model_module_version": "^0.17.0",
          "state": {
            "_model_module": "jupyter-leaflet",
            "_model_module_version": "^0.17.0",
            "_model_name": "LeafletTileLayerModel",
            "_view_count": null,
            "_view_module": "jupyter-leaflet",
            "_view_module_version": "^0.17.0",
            "_view_name": "LeafletTileLayerView",
            "attribution": "&copy; <a href=\"https://www.openstreetmap.org/copyright\">OpenStreetMap</a> contributors",
            "base": true,
            "bottom": true,
            "bounds": null,
            "detect_retina": false,
            "loading": false,
            "max_native_zoom": null,
            "max_zoom": 19,
            "min_native_zoom": null,
            "min_zoom": 1,
            "name": "OpenStreetMap.Mapnik",
            "no_wrap": false,
            "opacity": 1,
            "options": [
              "attribution",
              "bounds",
              "detect_retina",
              "max_native_zoom",
              "max_zoom",
              "min_native_zoom",
              "min_zoom",
              "no_wrap",
              "tile_size",
              "tms"
            ],
            "pane": "",
            "popup": null,
            "popup_max_height": null,
            "popup_max_width": 300,
            "popup_min_width": 50,
            "show_loading": false,
            "tile_size": 256,
            "tms": false,
            "url": "https://a.tile.openstreetmap.org/{z}/{x}/{y}.png",
            "visible": true
          }
        },
        "eab201ed56f040149a9eef4a756a7ea0": {
          "model_module": "jupyter-leaflet",
          "model_name": "LeafletTileLayerModel",
          "model_module_version": "^0.17.0",
          "state": {
            "_model_module": "jupyter-leaflet",
            "_model_module_version": "^0.17.0",
            "_model_name": "LeafletTileLayerModel",
            "_view_count": null,
            "_view_module": "jupyter-leaflet",
            "_view_module_version": "^0.17.0",
            "_view_name": "LeafletTileLayerView",
            "attribution": "Google Earth Engine",
            "base": false,
            "bottom": true,
            "bounds": null,
            "detect_retina": false,
            "loading": false,
            "max_native_zoom": null,
            "max_zoom": 24,
            "min_native_zoom": null,
            "min_zoom": 0,
            "name": "Population 2020",
            "no_wrap": false,
            "opacity": 1,
            "options": [
              "attribution",
              "bounds",
              "detect_retina",
              "max_native_zoom",
              "max_zoom",
              "min_native_zoom",
              "min_zoom",
              "no_wrap",
              "tile_size",
              "tms"
            ],
            "pane": "",
            "popup": null,
            "popup_max_height": null,
            "popup_max_width": 300,
            "popup_min_width": 50,
            "show_loading": false,
            "tile_size": 256,
            "tms": false,
            "url": "https://earthengine.googleapis.com/v1alpha/projects/earthengine-legacy/maps/3635e40980c2b0befaa566f896c7ed53-161c8eecdc24799da9cc8c370e87e4c0/tiles/{z}/{x}/{y}",
            "visible": true
          }
        },
        "453fab2af4cb4a1d95e2ed699e98b44e": {
          "model_module": "@jupyter-widgets/base",
          "model_name": "LayoutModel",
          "model_module_version": "1.2.0",
          "state": {
            "_model_module": "@jupyter-widgets/base",
            "_model_module_version": "1.2.0",
            "_model_name": "LayoutModel",
            "_view_count": null,
            "_view_module": "@jupyter-widgets/base",
            "_view_module_version": "1.2.0",
            "_view_name": "LayoutView",
            "align_content": null,
            "align_items": null,
            "align_self": null,
            "border": null,
            "bottom": null,
            "display": null,
            "flex": null,
            "flex_flow": null,
            "grid_area": null,
            "grid_auto_columns": null,
            "grid_auto_flow": null,
            "grid_auto_rows": null,
            "grid_column": null,
            "grid_gap": null,
            "grid_row": null,
            "grid_template_areas": null,
            "grid_template_columns": null,
            "grid_template_rows": null,
            "height": "600px",
            "justify_content": null,
            "justify_items": null,
            "left": null,
            "margin": null,
            "max_height": null,
            "max_width": null,
            "min_height": null,
            "min_width": null,
            "object_fit": null,
            "object_position": null,
            "order": null,
            "overflow": null,
            "overflow_x": null,
            "overflow_y": null,
            "padding": null,
            "right": null,
            "top": null,
            "visibility": null,
            "width": null
          }
        },
        "7e7a091b55284a3abe1fea95e5259ba0": {
          "model_module": "jupyter-leaflet",
          "model_name": "LeafletMapStyleModel",
          "model_module_version": "^0.17.0",
          "state": {
            "_model_module": "jupyter-leaflet",
            "_model_module_version": "^0.17.0",
            "_model_name": "LeafletMapStyleModel",
            "_view_count": null,
            "_view_module": "@jupyter-widgets/base",
            "_view_module_version": "1.2.0",
            "_view_name": "StyleView",
            "cursor": "grab"
          }
        },
        "c21d84f73fa9473ab5202b1e5b85d5e8": {
          "model_module": "@jupyter-widgets/controls",
          "model_name": "HBoxModel",
          "model_module_version": "1.5.0",
          "state": {
            "_dom_classes": [],
            "_model_module": "@jupyter-widgets/controls",
            "_model_module_version": "1.5.0",
            "_model_name": "HBoxModel",
            "_view_count": null,
            "_view_module": "@jupyter-widgets/controls",
            "_view_module_version": "1.5.0",
            "_view_name": "HBoxView",
            "box_style": "",
            "children": [
              "IPY_MODEL_f9c846fc2d5c4a20a2578990f7dcbd12"
            ],
            "layout": "IPY_MODEL_70c4a4cc5f094b7fa5fd5e57231cf5f3"
          }
        },
        "974d2b70ef6a4bc9902965e46f7774be": {
          "model_module": "@jupyter-widgets/controls",
          "model_name": "VBoxModel",
          "model_module_version": "1.5.0",
          "state": {
            "_dom_classes": [],
            "_model_module": "@jupyter-widgets/controls",
            "_model_module_version": "1.5.0",
            "_model_name": "VBoxModel",
            "_view_count": null,
            "_view_module": "@jupyter-widgets/controls",
            "_view_module_version": "1.5.0",
            "_view_name": "VBoxView",
            "box_style": "",
            "children": [
              "IPY_MODEL_f21562a812b44cf9a8e86c4050fbf09d"
            ],
            "layout": "IPY_MODEL_a50ceff78c4f48cbacd5168ccdec9655"
          }
        },
        "f9c846fc2d5c4a20a2578990f7dcbd12": {
          "model_module": "@jupyter-widgets/controls",
          "model_name": "ToggleButtonModel",
          "model_module_version": "1.5.0",
          "state": {
            "_dom_classes": [],
            "_model_module": "@jupyter-widgets/controls",
            "_model_module_version": "1.5.0",
            "_model_name": "ToggleButtonModel",
            "_view_count": null,
            "_view_module": "@jupyter-widgets/controls",
            "_view_module_version": "1.5.0",
            "_view_name": "ToggleButtonView",
            "button_style": "",
            "description": "",
            "description_tooltip": null,
            "disabled": false,
            "icon": "globe",
            "layout": "IPY_MODEL_aefb0bae202b43f9832e812efc7dd892",
            "style": "IPY_MODEL_e75116c8eaf94388afb9792d6bf416dd",
            "tooltip": "Search location/data",
            "value": false
          }
        },
        "70c4a4cc5f094b7fa5fd5e57231cf5f3": {
          "model_module": "@jupyter-widgets/base",
          "model_name": "LayoutModel",
          "model_module_version": "1.2.0",
          "state": {
            "_model_module": "@jupyter-widgets/base",
            "_model_module_version": "1.2.0",
            "_model_name": "LayoutModel",
            "_view_count": null,
            "_view_module": "@jupyter-widgets/base",
            "_view_module_version": "1.2.0",
            "_view_name": "LayoutView",
            "align_content": null,
            "align_items": null,
            "align_self": null,
            "border": null,
            "bottom": null,
            "display": null,
            "flex": null,
            "flex_flow": null,
            "grid_area": null,
            "grid_auto_columns": null,
            "grid_auto_flow": null,
            "grid_auto_rows": null,
            "grid_column": null,
            "grid_gap": null,
            "grid_row": null,
            "grid_template_areas": null,
            "grid_template_columns": null,
            "grid_template_rows": null,
            "height": null,
            "justify_content": null,
            "justify_items": null,
            "left": null,
            "margin": null,
            "max_height": null,
            "max_width": null,
            "min_height": null,
            "min_width": null,
            "object_fit": null,
            "object_position": null,
            "order": null,
            "overflow": null,
            "overflow_x": null,
            "overflow_y": null,
            "padding": null,
            "right": null,
            "top": null,
            "visibility": null,
            "width": null
          }
        },
        "f21562a812b44cf9a8e86c4050fbf09d": {
          "model_module": "@jupyter-widgets/controls",
          "model_name": "ToggleButtonModel",
          "model_module_version": "1.5.0",
          "state": {
            "_dom_classes": [],
            "_model_module": "@jupyter-widgets/controls",
            "_model_module_version": "1.5.0",
            "_model_name": "ToggleButtonModel",
            "_view_count": null,
            "_view_module": "@jupyter-widgets/controls",
            "_view_module_version": "1.5.0",
            "_view_name": "ToggleButtonView",
            "button_style": "",
            "description": "",
            "description_tooltip": null,
            "disabled": false,
            "icon": "wrench",
            "layout": "IPY_MODEL_b23c9a71e31540b09e59381b84571b3d",
            "style": "IPY_MODEL_6ed25b4a4d604a3dbb494564d565a974",
            "tooltip": "Toolbar",
            "value": false
          }
        },
        "a50ceff78c4f48cbacd5168ccdec9655": {
          "model_module": "@jupyter-widgets/base",
          "model_name": "LayoutModel",
          "model_module_version": "1.2.0",
          "state": {
            "_model_module": "@jupyter-widgets/base",
            "_model_module_version": "1.2.0",
            "_model_name": "LayoutModel",
            "_view_count": null,
            "_view_module": "@jupyter-widgets/base",
            "_view_module_version": "1.2.0",
            "_view_name": "LayoutView",
            "align_content": null,
            "align_items": null,
            "align_self": null,
            "border": null,
            "bottom": null,
            "display": null,
            "flex": null,
            "flex_flow": null,
            "grid_area": null,
            "grid_auto_columns": null,
            "grid_auto_flow": null,
            "grid_auto_rows": null,
            "grid_column": null,
            "grid_gap": null,
            "grid_row": null,
            "grid_template_areas": null,
            "grid_template_columns": null,
            "grid_template_rows": null,
            "height": null,
            "justify_content": null,
            "justify_items": null,
            "left": null,
            "margin": null,
            "max_height": null,
            "max_width": null,
            "min_height": null,
            "min_width": null,
            "object_fit": null,
            "object_position": null,
            "order": null,
            "overflow": null,
            "overflow_x": null,
            "overflow_y": null,
            "padding": null,
            "right": null,
            "top": null,
            "visibility": null,
            "width": null
          }
        },
        "aefb0bae202b43f9832e812efc7dd892": {
          "model_module": "@jupyter-widgets/base",
          "model_name": "LayoutModel",
          "model_module_version": "1.2.0",
          "state": {
            "_model_module": "@jupyter-widgets/base",
            "_model_module_version": "1.2.0",
            "_model_name": "LayoutModel",
            "_view_count": null,
            "_view_module": "@jupyter-widgets/base",
            "_view_module_version": "1.2.0",
            "_view_name": "LayoutView",
            "align_content": null,
            "align_items": null,
            "align_self": null,
            "border": null,
            "bottom": null,
            "display": null,
            "flex": null,
            "flex_flow": null,
            "grid_area": null,
            "grid_auto_columns": null,
            "grid_auto_flow": null,
            "grid_auto_rows": null,
            "grid_column": null,
            "grid_gap": null,
            "grid_row": null,
            "grid_template_areas": null,
            "grid_template_columns": null,
            "grid_template_rows": null,
            "height": "28px",
            "justify_content": null,
            "justify_items": null,
            "left": null,
            "margin": null,
            "max_height": null,
            "max_width": null,
            "min_height": null,
            "min_width": null,
            "object_fit": null,
            "object_position": null,
            "order": null,
            "overflow": null,
            "overflow_x": null,
            "overflow_y": null,
            "padding": "0px 0px 0px 4px",
            "right": null,
            "top": null,
            "visibility": null,
            "width": "28px"
          }
        },
        "e75116c8eaf94388afb9792d6bf416dd": {
          "model_module": "@jupyter-widgets/controls",
          "model_name": "DescriptionStyleModel",
          "model_module_version": "1.5.0",
          "state": {
            "_model_module": "@jupyter-widgets/controls",
            "_model_module_version": "1.5.0",
            "_model_name": "DescriptionStyleModel",
            "_view_count": null,
            "_view_module": "@jupyter-widgets/base",
            "_view_module_version": "1.2.0",
            "_view_name": "StyleView",
            "description_width": ""
          }
        },
        "b23c9a71e31540b09e59381b84571b3d": {
          "model_module": "@jupyter-widgets/base",
          "model_name": "LayoutModel",
          "model_module_version": "1.2.0",
          "state": {
            "_model_module": "@jupyter-widgets/base",
            "_model_module_version": "1.2.0",
            "_model_name": "LayoutModel",
            "_view_count": null,
            "_view_module": "@jupyter-widgets/base",
            "_view_module_version": "1.2.0",
            "_view_name": "LayoutView",
            "align_content": null,
            "align_items": null,
            "align_self": null,
            "border": null,
            "bottom": null,
            "display": null,
            "flex": null,
            "flex_flow": null,
            "grid_area": null,
            "grid_auto_columns": null,
            "grid_auto_flow": null,
            "grid_auto_rows": null,
            "grid_column": null,
            "grid_gap": null,
            "grid_row": null,
            "grid_template_areas": null,
            "grid_template_columns": null,
            "grid_template_rows": null,
            "height": "28px",
            "justify_content": null,
            "justify_items": null,
            "left": null,
            "margin": null,
            "max_height": null,
            "max_width": null,
            "min_height": null,
            "min_width": null,
            "object_fit": null,
            "object_position": null,
            "order": null,
            "overflow": null,
            "overflow_x": null,
            "overflow_y": null,
            "padding": "0px 0px 0px 4px",
            "right": null,
            "top": null,
            "visibility": null,
            "width": "28px"
          }
        },
        "6ed25b4a4d604a3dbb494564d565a974": {
          "model_module": "@jupyter-widgets/controls",
          "model_name": "DescriptionStyleModel",
          "model_module_version": "1.5.0",
          "state": {
            "_model_module": "@jupyter-widgets/controls",
            "_model_module_version": "1.5.0",
            "_model_name": "DescriptionStyleModel",
            "_view_count": null,
            "_view_module": "@jupyter-widgets/base",
            "_view_module_version": "1.2.0",
            "_view_name": "StyleView",
            "description_width": ""
          }
        },
        "2f24ce14c3e14e8d9797c62e2fb63be5": {
          "model_module": "jupyter-leaflet",
          "model_name": "LeafletMapModel",
          "model_module_version": "^0.17.0",
          "state": {
            "_dom_classes": [],
            "_model_module": "jupyter-leaflet",
            "_model_module_version": "^0.17.0",
            "_model_name": "LeafletMapModel",
            "_view_count": null,
            "_view_module": "jupyter-leaflet",
            "_view_module_version": "^0.17.0",
            "_view_name": "LeafletMapView",
            "bottom": 53932,
            "bounce_at_zoom_limits": true,
            "box_zoom": true,
            "center": [
              31.052933985705163,
              121.11465454101564
            ],
            "close_popup_on_click": true,
            "controls": [
              "IPY_MODEL_3c6af6f3988b485283068e04e9744e3e",
              "IPY_MODEL_4f7b38384c46437a9d37119fe7065adb",
              "IPY_MODEL_ba6a739b4e534f86b8b2f5f8cb406a6e",
              "IPY_MODEL_e6d2d26248ca4d1daf45f270bb22418e",
              "IPY_MODEL_28e85a9146c24874b328a5174d979abb",
              "IPY_MODEL_b611f337d47f4585b13567e65de0a442",
              "IPY_MODEL_e49db2f777fc4b51936460b028c32f0b",
              "IPY_MODEL_cbbacaf3ebdf433ebfe06bc743f18962"
            ],
            "crs": {
              "name": "EPSG3857",
              "custom": false
            },
            "default_style": "IPY_MODEL_db0046d014e44c6bad77f72e0a472643",
            "double_click_zoom": true,
            "dragging": true,
            "dragging_style": "IPY_MODEL_8e7f657263a5478094d04931da2c7bf4",
            "east": 122.33551025390626,
            "fullscreen": false,
            "inertia": true,
            "inertia_deceleration": 3000,
            "inertia_max_speed": 1500,
            "interpolation": "bilinear",
            "keyboard": true,
            "keyboard_pan_offset": 80,
            "keyboard_zoom_offset": 1,
            "layers": [
              "IPY_MODEL_c263444cbff04655ac6f49ccf4940b26",
              "IPY_MODEL_067963635b754056b656a5bc13eeee0c",
              "IPY_MODEL_6ea6edb39da240d88c99045ae1fb7e53"
            ],
            "layout": "IPY_MODEL_fc2eb28116584d31bfc800b4f3c75713",
            "left": 109188,
            "max_zoom": 24,
            "min_zoom": null,
            "modisdate": "2022-08-04",
            "north": 31.75619625757135,
            "options": [
              "bounce_at_zoom_limits",
              "box_zoom",
              "center",
              "close_popup_on_click",
              "double_click_zoom",
              "dragging",
              "fullscreen",
              "inertia",
              "inertia_deceleration",
              "inertia_max_speed",
              "interpolation",
              "keyboard",
              "keyboard_pan_offset",
              "keyboard_zoom_offset",
              "max_zoom",
              "min_zoom",
              "prefer_canvas",
              "scroll_wheel_zoom",
              "tap",
              "tap_tolerance",
              "touch_zoom",
              "world_copy_jump",
              "zoom",
              "zoom_animation_threshold",
              "zoom_delta",
              "zoom_snap"
            ],
            "panes": {},
            "prefer_canvas": false,
            "right": 110077,
            "scroll_wheel_zoom": true,
            "south": 30.344435586368462,
            "style": "IPY_MODEL_db0046d014e44c6bad77f72e0a472643",
            "tap": true,
            "tap_tolerance": 15,
            "top": 53332,
            "touch_zoom": true,
            "west": 119.89379882812501,
            "window_url": "https://cqhp8fvbh4-496ff2e9c6d22116-0-colab.googleusercontent.com/outputframe.html?vrz=colab-20220802-060059-RC00_464755217",
            "world_copy_jump": false,
            "zoom": 9,
            "zoom_animation_threshold": 4,
            "zoom_delta": 1,
            "zoom_snap": 1
          }
        },
        "3c6af6f3988b485283068e04e9744e3e": {
          "model_module": "jupyter-leaflet",
          "model_name": "LeafletWidgetControlModel",
          "model_module_version": "^0.17.0",
          "state": {
            "_model_module": "jupyter-leaflet",
            "_model_module_version": "^0.17.0",
            "_model_name": "LeafletWidgetControlModel",
            "_view_count": null,
            "_view_module": "jupyter-leaflet",
            "_view_module_version": "^0.17.0",
            "_view_name": "LeafletWidgetControlView",
            "max_height": null,
            "max_width": null,
            "min_height": null,
            "min_width": null,
            "options": [
              "position",
              "transparent_bg"
            ],
            "position": "topleft",
            "transparent_bg": false,
            "widget": "IPY_MODEL_e975ca14f5fa4809a004c83e38bad28a"
          }
        },
        "4f7b38384c46437a9d37119fe7065adb": {
          "model_module": "jupyter-leaflet",
          "model_name": "LeafletZoomControlModel",
          "model_module_version": "^0.17.0",
          "state": {
            "_model_module": "jupyter-leaflet",
            "_model_module_version": "^0.17.0",
            "_model_name": "LeafletZoomControlModel",
            "_view_count": null,
            "_view_module": "jupyter-leaflet",
            "_view_module_version": "^0.17.0",
            "_view_name": "LeafletZoomControlView",
            "options": [
              "position",
              "zoom_in_text",
              "zoom_in_title",
              "zoom_out_text",
              "zoom_out_title"
            ],
            "position": "topleft",
            "zoom_in_text": "+",
            "zoom_in_title": "Zoom in",
            "zoom_out_text": "-",
            "zoom_out_title": "Zoom out"
          }
        },
        "ba6a739b4e534f86b8b2f5f8cb406a6e": {
          "model_module": "jupyter-leaflet",
          "model_name": "LeafletScaleControlModel",
          "model_module_version": "^0.17.0",
          "state": {
            "_model_module": "jupyter-leaflet",
            "_model_module_version": "^0.17.0",
            "_model_name": "LeafletScaleControlModel",
            "_view_count": null,
            "_view_module": "jupyter-leaflet",
            "_view_module_version": "^0.17.0",
            "_view_name": "LeafletScaleControlView",
            "imperial": true,
            "max_width": 100,
            "metric": true,
            "options": [
              "imperial",
              "max_width",
              "metric",
              "position",
              "update_when_idle"
            ],
            "position": "bottomleft",
            "update_when_idle": false
          }
        },
        "e6d2d26248ca4d1daf45f270bb22418e": {
          "model_module": "jupyter-leaflet",
          "model_name": "LeafletFullScreenControlModel",
          "model_module_version": "^0.17.0",
          "state": {
            "_model_module": "jupyter-leaflet",
            "_model_module_version": "^0.17.0",
            "_model_name": "LeafletFullScreenControlModel",
            "_view_count": null,
            "_view_module": "jupyter-leaflet",
            "_view_module_version": "^0.17.0",
            "_view_name": "LeafletFullScreenControlView",
            "options": [
              "position"
            ],
            "position": "topleft"
          }
        },
        "28e85a9146c24874b328a5174d979abb": {
          "model_module": "jupyter-leaflet",
          "model_name": "LeafletMeasureControlModel",
          "model_module_version": "^0.17.0",
          "state": {
            "_custom_units": {},
            "_model_module": "jupyter-leaflet",
            "_model_module_version": "^0.17.0",
            "_model_name": "LeafletMeasureControlModel",
            "_view_count": null,
            "_view_module": "jupyter-leaflet",
            "_view_module_version": "^0.17.0",
            "_view_name": "LeafletMeasureControlView",
            "active_color": "orange",
            "capture_z_index": 10000,
            "completed_color": "#C8F2BE",
            "options": [
              "active_color",
              "capture_z_index",
              "completed_color",
              "popup_options",
              "position",
              "primary_area_unit",
              "primary_length_unit",
              "secondary_area_unit",
              "secondary_length_unit"
            ],
            "popup_options": {
              "className": "leaflet-measure-resultpopup",
              "autoPanPadding": [
                10,
                10
              ]
            },
            "position": "bottomleft",
            "primary_area_unit": "acres",
            "primary_length_unit": "kilometers",
            "secondary_area_unit": null,
            "secondary_length_unit": null
          }
        },
        "b611f337d47f4585b13567e65de0a442": {
          "model_module": "jupyter-leaflet",
          "model_name": "LeafletAttributionControlModel",
          "model_module_version": "^0.17.0",
          "state": {
            "_model_module": "jupyter-leaflet",
            "_model_module_version": "^0.17.0",
            "_model_name": "LeafletAttributionControlModel",
            "_view_count": null,
            "_view_module": "jupyter-leaflet",
            "_view_module_version": "^0.17.0",
            "_view_name": "LeafletAttributionControlView",
            "options": [
              "position",
              "prefix"
            ],
            "position": "bottomright",
            "prefix": "ipyleaflet"
          }
        },
        "e49db2f777fc4b51936460b028c32f0b": {
          "model_module": "jupyter-leaflet",
          "model_name": "LeafletDrawControlModel",
          "model_module_version": "^0.17.0",
          "state": {
            "_model_module": "jupyter-leaflet",
            "_model_module_version": "^0.17.0",
            "_model_name": "LeafletDrawControlModel",
            "_view_count": null,
            "_view_module": "jupyter-leaflet",
            "_view_module_version": "^0.17.0",
            "_view_name": "LeafletDrawControlView",
            "circle": {
              "shapeOptions": {
                "color": "#3388ff"
              }
            },
            "circlemarker": {},
            "data": [],
            "edit": true,
            "marker": {
              "shapeOptions": {
                "color": "#3388ff"
              }
            },
            "options": [
              "position"
            ],
            "polygon": {
              "shapeOptions": {}
            },
            "polyline": {
              "shapeOptions": {}
            },
            "position": "topleft",
            "rectangle": {
              "shapeOptions": {
                "color": "#3388ff"
              }
            },
            "remove": true
          }
        },
        "cbbacaf3ebdf433ebfe06bc743f18962": {
          "model_module": "jupyter-leaflet",
          "model_name": "LeafletWidgetControlModel",
          "model_module_version": "^0.17.0",
          "state": {
            "_model_module": "jupyter-leaflet",
            "_model_module_version": "^0.17.0",
            "_model_name": "LeafletWidgetControlModel",
            "_view_count": null,
            "_view_module": "jupyter-leaflet",
            "_view_module_version": "^0.17.0",
            "_view_name": "LeafletWidgetControlView",
            "max_height": null,
            "max_width": null,
            "min_height": null,
            "min_width": null,
            "options": [
              "position",
              "transparent_bg"
            ],
            "position": "topright",
            "transparent_bg": false,
            "widget": "IPY_MODEL_b4060337b5a74d258fa7bb9797f5fbd5"
          }
        },
        "db0046d014e44c6bad77f72e0a472643": {
          "model_module": "jupyter-leaflet",
          "model_name": "LeafletMapStyleModel",
          "model_module_version": "^0.17.0",
          "state": {
            "_model_module": "jupyter-leaflet",
            "_model_module_version": "^0.17.0",
            "_model_name": "LeafletMapStyleModel",
            "_view_count": null,
            "_view_module": "@jupyter-widgets/base",
            "_view_module_version": "1.2.0",
            "_view_name": "StyleView",
            "cursor": "grab"
          }
        },
        "8e7f657263a5478094d04931da2c7bf4": {
          "model_module": "jupyter-leaflet",
          "model_name": "LeafletMapStyleModel",
          "model_module_version": "^0.17.0",
          "state": {
            "_model_module": "jupyter-leaflet",
            "_model_module_version": "^0.17.0",
            "_model_name": "LeafletMapStyleModel",
            "_view_count": null,
            "_view_module": "@jupyter-widgets/base",
            "_view_module_version": "1.2.0",
            "_view_name": "StyleView",
            "cursor": "move"
          }
        },
        "c263444cbff04655ac6f49ccf4940b26": {
          "model_module": "jupyter-leaflet",
          "model_name": "LeafletTileLayerModel",
          "model_module_version": "^0.17.0",
          "state": {
            "_model_module": "jupyter-leaflet",
            "_model_module_version": "^0.17.0",
            "_model_name": "LeafletTileLayerModel",
            "_view_count": null,
            "_view_module": "jupyter-leaflet",
            "_view_module_version": "^0.17.0",
            "_view_name": "LeafletTileLayerView",
            "attribution": "&copy; <a href=\"https://www.openstreetmap.org/copyright\">OpenStreetMap</a> contributors",
            "base": true,
            "bottom": true,
            "bounds": null,
            "detect_retina": false,
            "loading": false,
            "max_native_zoom": null,
            "max_zoom": 19,
            "min_native_zoom": null,
            "min_zoom": 1,
            "name": "OpenStreetMap.Mapnik",
            "no_wrap": false,
            "opacity": 1,
            "options": [
              "attribution",
              "bounds",
              "detect_retina",
              "max_native_zoom",
              "max_zoom",
              "min_native_zoom",
              "min_zoom",
              "no_wrap",
              "tile_size",
              "tms"
            ],
            "pane": "",
            "popup": null,
            "popup_max_height": null,
            "popup_max_width": 300,
            "popup_min_width": 50,
            "show_loading": false,
            "tile_size": 256,
            "tms": false,
            "url": "https://a.tile.openstreetmap.org/{z}/{x}/{y}.png",
            "visible": true
          }
        },
        "6ea6edb39da240d88c99045ae1fb7e53": {
          "model_module": "jupyter-leaflet",
          "model_name": "LeafletTileLayerModel",
          "model_module_version": "^0.17.0",
          "state": {
            "_model_module": "jupyter-leaflet",
            "_model_module_version": "^0.17.0",
            "_model_name": "LeafletTileLayerModel",
            "_view_count": null,
            "_view_module": "jupyter-leaflet",
            "_view_module_version": "^0.17.0",
            "_view_name": "LeafletTileLayerView",
            "attribution": "Google Earth Engine",
            "base": false,
            "bottom": true,
            "bounds": null,
            "detect_retina": false,
            "loading": false,
            "max_native_zoom": null,
            "max_zoom": 24,
            "min_native_zoom": null,
            "min_zoom": 0,
            "name": "UHI x POP 2020",
            "no_wrap": false,
            "opacity": 1,
            "options": [
              "attribution",
              "bounds",
              "detect_retina",
              "max_native_zoom",
              "max_zoom",
              "min_native_zoom",
              "min_zoom",
              "no_wrap",
              "tile_size",
              "tms"
            ],
            "pane": "",
            "popup": null,
            "popup_max_height": null,
            "popup_max_width": 300,
            "popup_min_width": 50,
            "show_loading": false,
            "tile_size": 256,
            "tms": false,
            "url": "https://earthengine.googleapis.com/v1alpha/projects/earthengine-legacy/maps/141f33456c9b2b5128e3cf4817a8437e-6941c0a34caaf32988687ce5f7d2bc45/tiles/{z}/{x}/{y}",
            "visible": true
          }
        },
        "fc2eb28116584d31bfc800b4f3c75713": {
          "model_module": "@jupyter-widgets/base",
          "model_name": "LayoutModel",
          "model_module_version": "1.2.0",
          "state": {
            "_model_module": "@jupyter-widgets/base",
            "_model_module_version": "1.2.0",
            "_model_name": "LayoutModel",
            "_view_count": null,
            "_view_module": "@jupyter-widgets/base",
            "_view_module_version": "1.2.0",
            "_view_name": "LayoutView",
            "align_content": null,
            "align_items": null,
            "align_self": null,
            "border": null,
            "bottom": null,
            "display": null,
            "flex": null,
            "flex_flow": null,
            "grid_area": null,
            "grid_auto_columns": null,
            "grid_auto_flow": null,
            "grid_auto_rows": null,
            "grid_column": null,
            "grid_gap": null,
            "grid_row": null,
            "grid_template_areas": null,
            "grid_template_columns": null,
            "grid_template_rows": null,
            "height": "600px",
            "justify_content": null,
            "justify_items": null,
            "left": null,
            "margin": null,
            "max_height": null,
            "max_width": null,
            "min_height": null,
            "min_width": null,
            "object_fit": null,
            "object_position": null,
            "order": null,
            "overflow": null,
            "overflow_x": null,
            "overflow_y": null,
            "padding": null,
            "right": null,
            "top": null,
            "visibility": null,
            "width": null
          }
        },
        "19027739c58643f987d8047a865f0284": {
          "model_module": "jupyter-leaflet",
          "model_name": "LeafletMapStyleModel",
          "model_module_version": "^0.17.0",
          "state": {
            "_model_module": "jupyter-leaflet",
            "_model_module_version": "^0.17.0",
            "_model_name": "LeafletMapStyleModel",
            "_view_count": null,
            "_view_module": "@jupyter-widgets/base",
            "_view_module_version": "1.2.0",
            "_view_name": "StyleView",
            "cursor": "grab"
          }
        },
        "e975ca14f5fa4809a004c83e38bad28a": {
          "model_module": "@jupyter-widgets/controls",
          "model_name": "HBoxModel",
          "model_module_version": "1.5.0",
          "state": {
            "_dom_classes": [],
            "_model_module": "@jupyter-widgets/controls",
            "_model_module_version": "1.5.0",
            "_model_name": "HBoxModel",
            "_view_count": null,
            "_view_module": "@jupyter-widgets/controls",
            "_view_module_version": "1.5.0",
            "_view_name": "HBoxView",
            "box_style": "",
            "children": [
              "IPY_MODEL_461ef9a93a674d4d89e45249689f41f2"
            ],
            "layout": "IPY_MODEL_6fb3c8ea4aeb49b4b9d4670786bae4bc"
          }
        },
        "b4060337b5a74d258fa7bb9797f5fbd5": {
          "model_module": "@jupyter-widgets/controls",
          "model_name": "VBoxModel",
          "model_module_version": "1.5.0",
          "state": {
            "_dom_classes": [],
            "_model_module": "@jupyter-widgets/controls",
            "_model_module_version": "1.5.0",
            "_model_name": "VBoxModel",
            "_view_count": null,
            "_view_module": "@jupyter-widgets/controls",
            "_view_module_version": "1.5.0",
            "_view_name": "VBoxView",
            "box_style": "",
            "children": [
              "IPY_MODEL_9db2396b4bd2400698e497f4c0052a5b"
            ],
            "layout": "IPY_MODEL_9c2f9533b57748cf860029a34432c38e"
          }
        },
        "461ef9a93a674d4d89e45249689f41f2": {
          "model_module": "@jupyter-widgets/controls",
          "model_name": "ToggleButtonModel",
          "model_module_version": "1.5.0",
          "state": {
            "_dom_classes": [],
            "_model_module": "@jupyter-widgets/controls",
            "_model_module_version": "1.5.0",
            "_model_name": "ToggleButtonModel",
            "_view_count": null,
            "_view_module": "@jupyter-widgets/controls",
            "_view_module_version": "1.5.0",
            "_view_name": "ToggleButtonView",
            "button_style": "",
            "description": "",
            "description_tooltip": null,
            "disabled": false,
            "icon": "globe",
            "layout": "IPY_MODEL_3a1e8b7a64324fdcbea0a702d69aa1da",
            "style": "IPY_MODEL_8ec9cd4dc37943659bd79d8191f1bf8e",
            "tooltip": "Search location/data",
            "value": false
          }
        },
        "6fb3c8ea4aeb49b4b9d4670786bae4bc": {
          "model_module": "@jupyter-widgets/base",
          "model_name": "LayoutModel",
          "model_module_version": "1.2.0",
          "state": {
            "_model_module": "@jupyter-widgets/base",
            "_model_module_version": "1.2.0",
            "_model_name": "LayoutModel",
            "_view_count": null,
            "_view_module": "@jupyter-widgets/base",
            "_view_module_version": "1.2.0",
            "_view_name": "LayoutView",
            "align_content": null,
            "align_items": null,
            "align_self": null,
            "border": null,
            "bottom": null,
            "display": null,
            "flex": null,
            "flex_flow": null,
            "grid_area": null,
            "grid_auto_columns": null,
            "grid_auto_flow": null,
            "grid_auto_rows": null,
            "grid_column": null,
            "grid_gap": null,
            "grid_row": null,
            "grid_template_areas": null,
            "grid_template_columns": null,
            "grid_template_rows": null,
            "height": null,
            "justify_content": null,
            "justify_items": null,
            "left": null,
            "margin": null,
            "max_height": null,
            "max_width": null,
            "min_height": null,
            "min_width": null,
            "object_fit": null,
            "object_position": null,
            "order": null,
            "overflow": null,
            "overflow_x": null,
            "overflow_y": null,
            "padding": null,
            "right": null,
            "top": null,
            "visibility": null,
            "width": null
          }
        },
        "9db2396b4bd2400698e497f4c0052a5b": {
          "model_module": "@jupyter-widgets/controls",
          "model_name": "ToggleButtonModel",
          "model_module_version": "1.5.0",
          "state": {
            "_dom_classes": [],
            "_model_module": "@jupyter-widgets/controls",
            "_model_module_version": "1.5.0",
            "_model_name": "ToggleButtonModel",
            "_view_count": null,
            "_view_module": "@jupyter-widgets/controls",
            "_view_module_version": "1.5.0",
            "_view_name": "ToggleButtonView",
            "button_style": "",
            "description": "",
            "description_tooltip": null,
            "disabled": false,
            "icon": "wrench",
            "layout": "IPY_MODEL_e0c522ca9e0d4117a28162313a83420b",
            "style": "IPY_MODEL_ccebbd01069e42efa1576e55f0d9566e",
            "tooltip": "Toolbar",
            "value": false
          }
        },
        "9c2f9533b57748cf860029a34432c38e": {
          "model_module": "@jupyter-widgets/base",
          "model_name": "LayoutModel",
          "model_module_version": "1.2.0",
          "state": {
            "_model_module": "@jupyter-widgets/base",
            "_model_module_version": "1.2.0",
            "_model_name": "LayoutModel",
            "_view_count": null,
            "_view_module": "@jupyter-widgets/base",
            "_view_module_version": "1.2.0",
            "_view_name": "LayoutView",
            "align_content": null,
            "align_items": null,
            "align_self": null,
            "border": null,
            "bottom": null,
            "display": null,
            "flex": null,
            "flex_flow": null,
            "grid_area": null,
            "grid_auto_columns": null,
            "grid_auto_flow": null,
            "grid_auto_rows": null,
            "grid_column": null,
            "grid_gap": null,
            "grid_row": null,
            "grid_template_areas": null,
            "grid_template_columns": null,
            "grid_template_rows": null,
            "height": null,
            "justify_content": null,
            "justify_items": null,
            "left": null,
            "margin": null,
            "max_height": null,
            "max_width": null,
            "min_height": null,
            "min_width": null,
            "object_fit": null,
            "object_position": null,
            "order": null,
            "overflow": null,
            "overflow_x": null,
            "overflow_y": null,
            "padding": null,
            "right": null,
            "top": null,
            "visibility": null,
            "width": null
          }
        },
        "3a1e8b7a64324fdcbea0a702d69aa1da": {
          "model_module": "@jupyter-widgets/base",
          "model_name": "LayoutModel",
          "model_module_version": "1.2.0",
          "state": {
            "_model_module": "@jupyter-widgets/base",
            "_model_module_version": "1.2.0",
            "_model_name": "LayoutModel",
            "_view_count": null,
            "_view_module": "@jupyter-widgets/base",
            "_view_module_version": "1.2.0",
            "_view_name": "LayoutView",
            "align_content": null,
            "align_items": null,
            "align_self": null,
            "border": null,
            "bottom": null,
            "display": null,
            "flex": null,
            "flex_flow": null,
            "grid_area": null,
            "grid_auto_columns": null,
            "grid_auto_flow": null,
            "grid_auto_rows": null,
            "grid_column": null,
            "grid_gap": null,
            "grid_row": null,
            "grid_template_areas": null,
            "grid_template_columns": null,
            "grid_template_rows": null,
            "height": "28px",
            "justify_content": null,
            "justify_items": null,
            "left": null,
            "margin": null,
            "max_height": null,
            "max_width": null,
            "min_height": null,
            "min_width": null,
            "object_fit": null,
            "object_position": null,
            "order": null,
            "overflow": null,
            "overflow_x": null,
            "overflow_y": null,
            "padding": "0px 0px 0px 4px",
            "right": null,
            "top": null,
            "visibility": null,
            "width": "28px"
          }
        },
        "8ec9cd4dc37943659bd79d8191f1bf8e": {
          "model_module": "@jupyter-widgets/controls",
          "model_name": "DescriptionStyleModel",
          "model_module_version": "1.5.0",
          "state": {
            "_model_module": "@jupyter-widgets/controls",
            "_model_module_version": "1.5.0",
            "_model_name": "DescriptionStyleModel",
            "_view_count": null,
            "_view_module": "@jupyter-widgets/base",
            "_view_module_version": "1.2.0",
            "_view_name": "StyleView",
            "description_width": ""
          }
        },
        "e0c522ca9e0d4117a28162313a83420b": {
          "model_module": "@jupyter-widgets/base",
          "model_name": "LayoutModel",
          "model_module_version": "1.2.0",
          "state": {
            "_model_module": "@jupyter-widgets/base",
            "_model_module_version": "1.2.0",
            "_model_name": "LayoutModel",
            "_view_count": null,
            "_view_module": "@jupyter-widgets/base",
            "_view_module_version": "1.2.0",
            "_view_name": "LayoutView",
            "align_content": null,
            "align_items": null,
            "align_self": null,
            "border": null,
            "bottom": null,
            "display": null,
            "flex": null,
            "flex_flow": null,
            "grid_area": null,
            "grid_auto_columns": null,
            "grid_auto_flow": null,
            "grid_auto_rows": null,
            "grid_column": null,
            "grid_gap": null,
            "grid_row": null,
            "grid_template_areas": null,
            "grid_template_columns": null,
            "grid_template_rows": null,
            "height": "28px",
            "justify_content": null,
            "justify_items": null,
            "left": null,
            "margin": null,
            "max_height": null,
            "max_width": null,
            "min_height": null,
            "min_width": null,
            "object_fit": null,
            "object_position": null,
            "order": null,
            "overflow": null,
            "overflow_x": null,
            "overflow_y": null,
            "padding": "0px 0px 0px 4px",
            "right": null,
            "top": null,
            "visibility": null,
            "width": "28px"
          }
        },
        "ccebbd01069e42efa1576e55f0d9566e": {
          "model_module": "@jupyter-widgets/controls",
          "model_name": "DescriptionStyleModel",
          "model_module_version": "1.5.0",
          "state": {
            "_model_module": "@jupyter-widgets/controls",
            "_model_module_version": "1.5.0",
            "_model_name": "DescriptionStyleModel",
            "_view_count": null,
            "_view_module": "@jupyter-widgets/base",
            "_view_module_version": "1.2.0",
            "_view_name": "StyleView",
            "description_width": ""
          }
        }
      }
    }
  },
  "nbformat": 4,
  "nbformat_minor": 0
}