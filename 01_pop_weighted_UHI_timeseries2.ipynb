{
  "nbformat": 4,
  "nbformat_minor": 0,
  "metadata": {
    "colab": {
      "name": "01_pop_weighted_UHI_timeseries2.ipynb",
      "provenance": [],
      "include_colab_link": true
    },
    "kernelspec": {
      "name": "python3",
      "display_name": "Python 3"
    },
    "language_info": {
      "name": "python"
    }
  },
  "cells": [
    {
      "cell_type": "markdown",
      "metadata": {
        "id": "view-in-github",
        "colab_type": "text"
      },
      "source": [
        "<a href=\"https://colab.research.google.com/github/kangning-huang/PopWeightedUHI/blob/main/01_pop_weighted_UHI_timeseries2.ipynb\" target=\"_parent\"><img src=\"https://colab.research.google.com/assets/colab-badge.svg\" alt=\"Open In Colab\"/></a>"
      ]
    },
    {
      "cell_type": "markdown",
      "source": [
        "# Install and import"
      ],
      "metadata": {
        "id": "zBHPx0xWQJ5A"
      }
    },
    {
      "cell_type": "code",
      "source": [
        "!pip install geemap &> /dev/null"
      ],
      "metadata": {
        "id": "IEVjVJOmYVfH"
      },
      "execution_count": null,
      "outputs": []
    },
    {
      "cell_type": "code",
      "execution_count": null,
      "metadata": {
        "colab": {
          "base_uri": "https://localhost:8080/",
          "height": 176
        },
        "id": "S9-6uAS6QGC1",
        "outputId": "89e372fc-537d-4476-f61b-fc0fba7b8ac0"
      },
      "outputs": [
        {
          "output_type": "stream",
          "name": "stdout",
          "text": [
            "To authorize access needed by Earth Engine, open the following URL in a web browser and follow the instructions. If the web browser does not start automatically, please manually browse the URL below.\n",
            "\n",
            "    https://code.earthengine.google.com/client-auth?scopes=https%3A//www.googleapis.com/auth/earthengine%20https%3A//www.googleapis.com/auth/devstorage.full_control&request_id=OvmS6tF51VxU_Y4UTBNUEe1q42-Mac-QjGN0JGIYZ44&tc=wKhp3aPkNtjakc3OZlOXLuGzPIzgaCjENmPnZPSqICw&cc=zhKwHQrJVNX6PBAynkdZyBFmDgdR-qFb_SeLPnrjSpM\n",
            "\n",
            "The authorization workflow will generate a code, which you should paste in the box below.\n",
            "Enter verification code: 4/1AdQt8qiG3z7EIAySP1d74rq_ONWgEPibhCyMdzC40pGKD2mO8b3g37b1RT0\n",
            "\n",
            "Successfully saved authorization token.\n"
          ]
        }
      ],
      "source": [
        "import pandas as pd\n",
        "import matplotlib.pyplot as plt\n",
        "import seaborn as sns\n",
        "import numpy as np\n",
        "\n",
        "from scipy import stats\n",
        "\n",
        "from tqdm import tqdm\n",
        "\n",
        "import geemap\n",
        "import json\n",
        "import os\n",
        "import requests\n",
        "from geemap import geojson_to_ee, ee_to_geojson\n",
        "from ipyleaflet import GeoJSON\n",
        "\n",
        "import altair as alt\n",
        "import folium\n",
        "\n",
        "import ee\n",
        "ee.Authenticate()\n",
        "ee.Initialize()"
      ]
    },
    {
      "cell_type": "code",
      "source": [
        "from google.colab import drive\n",
        "drive.mount('/content/drive')"
      ],
      "metadata": {
        "id": "6V5f-G_oQXDf",
        "colab": {
          "base_uri": "https://localhost:8080/"
        },
        "outputId": "43bee655-fb2c-497e-9ed6-3d79264119a3"
      },
      "execution_count": null,
      "outputs": [
        {
          "output_type": "stream",
          "name": "stdout",
          "text": [
            "Mounted at /content/drive\n"
          ]
        }
      ]
    },
    {
      "cell_type": "markdown",
      "source": [
        "# Load Data"
      ],
      "metadata": {
        "id": "nEor5YM_lHd5"
      }
    },
    {
      "cell_type": "markdown",
      "source": [
        "## Load UHIs"
      ],
      "metadata": {
        "id": "AfVCT0wHlNcm"
      }
    },
    {
      "cell_type": "code",
      "source": [
        "# getting the image collection\n",
        "uhiModis1 = ee.ImageCollection('users/lorenzomentaschi/uhiModis');\n",
        "uhiModis2 = ee.ImageCollection('users/lucfeyen3/uhiModis');\n",
        "uhiModis = uhiModis1.merge(uhiModis2);\n",
        "\n"
      ],
      "metadata": {
        "id": "pYI1gXqkAioh"
      },
      "execution_count": null,
      "outputs": []
    },
    {
      "cell_type": "markdown",
      "source": [
        "## Load WorldPop"
      ],
      "metadata": {
        "id": "JcS-6kqplPKv"
      }
    },
    {
      "cell_type": "markdown",
      "source": [
        "# UHI times POP"
      ],
      "metadata": {
        "id": "CvGG4c8klRGt"
      }
    }
  ]
}