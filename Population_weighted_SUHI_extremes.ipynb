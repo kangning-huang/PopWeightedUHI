{
  "nbformat": 4,
  "nbformat_minor": 0,
  "metadata": {
    "colab": {
      "provenance": [],
      "authorship_tag": "ABX9TyN6qIMhsLlBi36YC1gOojJs",
      "include_colab_link": true
    },
    "kernelspec": {
      "name": "python3",
      "display_name": "Python 3"
    },
    "language_info": {
      "name": "python"
    }
  },
  "cells": [
    {
      "cell_type": "markdown",
      "metadata": {
        "id": "view-in-github",
        "colab_type": "text"
      },
      "source": [
        "<a href=\"https://colab.research.google.com/github/kangning-huang/PopWeightedUHI/blob/main/Population_weighted_SUHI_extremes.ipynb\" target=\"_parent\"><img src=\"https://colab.research.google.com/assets/colab-badge.svg\" alt=\"Open In Colab\"/></a>"
      ]
    },
    {
      "cell_type": "code",
      "execution_count": 1,
      "metadata": {
        "id": "R4XdmmGleUZB"
      },
      "outputs": [],
      "source": [
        "!pip install geemap &> /dev/null\n",
        "!pip install geopandas &> /dev/null"
      ]
    },
    {
      "cell_type": "code",
      "source": [
        "import pandas as pd\n",
        "import numpy as np\n",
        "from tqdm import tqdm\n",
        "import geopandas as gdp\n",
        "import geemap\n",
        "from geemap import geojson_to_ee, ee_to_geojson"
      ],
      "metadata": {
        "id": "VUlDg6BFe2BU"
      },
      "execution_count": 3,
      "outputs": []
    },
    {
      "cell_type": "markdown",
      "source": [
        "A Google Earth Engine account is required to authenticate [geemap](https://geemap.org/)."
      ],
      "metadata": {
        "id": "79klgvA7fIWP"
      }
    },
    {
      "cell_type": "code",
      "source": [
        "import ee\n",
        "ee.Authenticate()\n",
        "ee.Initialize()"
      ],
      "metadata": {
        "colab": {
          "base_uri": "https://localhost:8080/"
        },
        "id": "L0-tqqlxe7HO",
        "outputId": "7e5faf04-f889-4872-bbc2-aa1fb7bf8708"
      },
      "execution_count": 4,
      "outputs": [
        {
          "output_type": "stream",
          "name": "stdout",
          "text": [
            "To authorize access needed by Earth Engine, open the following URL in a web browser and follow the instructions. If the web browser does not start automatically, please manually browse the URL below.\n",
            "\n",
            "    https://code.earthengine.google.com/client-auth?scopes=https%3A//www.googleapis.com/auth/earthengine%20https%3A//www.googleapis.com/auth/devstorage.full_control&request_id=r4syl-lUxbaZpFnE8o7hF-i24v7Cy_ra1dIU8YXVv1E&tc=i02wwPAVRdVGUJBvF0lH29ACXb_HscjJJ9OYbaF9UJA&cc=YRHsgUiCRMOaHi3GG7bFwV5T3-Qfm2p_2nOlr9dTYf4\n",
            "\n",
            "The authorization workflow will generate a code, which you should paste in the box below.\n",
            "Enter verification code: 4/1Adeu5BXbjAJKMYD0B90IXvBbeIxvVjJwTQMwVNzKMtC0JegspsaqG7Eqr50\n",
            "\n",
            "Successfully saved authorization token.\n"
          ]
        }
      ]
    },
    {
      "cell_type": "markdown",
      "source": [
        "Download the functional urban areas from [Gobal Human Settlement Layer](https://ghsl.jrc.ec.europa.eu/download.php?ds=FUA)."
      ],
      "metadata": {
        "id": "HPG55Sj1gGHE"
      }
    },
    {
      "cell_type": "code",
      "source": [
        "!curl https://jeodpp.jrc.ec.europa.eu/ftp/jrc-opendata/GHSL//GHS_FUA_UCDB2015_GLOBE_R2019A/V1-0/GHS_FUA_UCDB2015_GLOBE_R2019A_54009_1K_V1_0.zip --output GHS_FUA.zip\n",
        "!unzip GHS_FUA.zip\n",
        "gdf_FUAs = gdp.read_file('/content/GHS_FUA_UCDB2015_GLOBE_R2019A_54009_1K_V1_0.gpkg')"
      ],
      "metadata": {
        "colab": {
          "base_uri": "https://localhost:8080/"
        },
        "id": "e3wgXmMDfoPc",
        "outputId": "6cd06d30-71fb-48cd-e031-57f8641c2c46"
      },
      "execution_count": 7,
      "outputs": [
        {
          "output_type": "stream",
          "name": "stdout",
          "text": [
            "  % Total    % Received % Xferd  Average Speed   Time    Time     Time  Current\n",
            "                                 Dload  Upload   Total   Spent    Left  Speed\n",
            "100 2987k  100 2987k    0     0  2183k      0  0:00:01  0:00:01 --:--:-- 2183k\n"
          ]
        }
      ]
    },
    {
      "cell_type": "code",
      "source": [],
      "metadata": {
        "id": "7ssA9eaQgPX6"
      },
      "execution_count": null,
      "outputs": []
    }
  ]
}